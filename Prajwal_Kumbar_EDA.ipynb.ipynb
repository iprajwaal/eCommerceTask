{
 "cells": [
  {
   "cell_type": "code",
   "execution_count": 1,
   "metadata": {},
   "outputs": [],
   "source": [
    "import os\n",
    "import pandas as pd\n",
    "import numpy as np\n",
    "from tqdm import tqdm\n",
    "import plotly.express as px\n",
    "import plotly.io as pio\n",
    "import plotly.graph_objects as go\n",
    "import seaborn as sns\n",
    "import matplotlib.pyplot as plt\n",
    "from datetime import datetime\n",
    "from sklearn.preprocessing import StandardScaler\n",
    "from plotly.subplots import make_subplots"
   ]
  },
  {
   "cell_type": "code",
   "execution_count": 2,
   "metadata": {},
   "outputs": [],
   "source": [
    "#vscode-notebook-cell:/Users/prajwal/Developer/assessment/Zeotap/EDA_Business_Insights.ipynb#W1sZmlsZQ%3D%3D\n",
    "tqdm.pandas()\n",
    "\n",
    "pio.renderers.default = \"notebook_connected\"\n",
    "\n",
    "# Root directory of the project\n",
    "os.chdir('/Users/prajwal/Developer/assessment')"
   ]
  },
  {
   "cell_type": "code",
   "execution_count": 3,
   "metadata": {},
   "outputs": [],
   "source": [
    "# Load datasets\n",
    "customers = pd.read_csv(\"Zeotap/Data/Customers.csv\")\n",
    "products = pd.read_csv(\"Zeotap/Data/Products.csv\")\n",
    "transactions = pd.read_csv(\"Zeotap/Data/Transactions.csv\")"
   ]
  },
  {
   "cell_type": "code",
   "execution_count": 4,
   "metadata": {},
   "outputs": [
    {
     "name": "stdout",
     "output_type": "stream",
     "text": [
      "<class 'pandas.core.frame.DataFrame'>\n",
      "RangeIndex: 200 entries, 0 to 199\n",
      "Data columns (total 4 columns):\n",
      " #   Column        Non-Null Count  Dtype \n",
      "---  ------        --------------  ----- \n",
      " 0   CustomerID    200 non-null    object\n",
      " 1   CustomerName  200 non-null    object\n",
      " 2   Region        200 non-null    object\n",
      " 3   SignupDate    200 non-null    object\n",
      "dtypes: object(4)\n",
      "memory usage: 6.4+ KB\n",
      "<class 'pandas.core.frame.DataFrame'>\n",
      "RangeIndex: 100 entries, 0 to 99\n",
      "Data columns (total 4 columns):\n",
      " #   Column       Non-Null Count  Dtype  \n",
      "---  ------       --------------  -----  \n",
      " 0   ProductID    100 non-null    object \n",
      " 1   ProductName  100 non-null    object \n",
      " 2   Category     100 non-null    object \n",
      " 3   Price        100 non-null    float64\n",
      "dtypes: float64(1), object(3)\n",
      "memory usage: 3.2+ KB\n",
      "<class 'pandas.core.frame.DataFrame'>\n",
      "RangeIndex: 1000 entries, 0 to 999\n",
      "Data columns (total 7 columns):\n",
      " #   Column           Non-Null Count  Dtype  \n",
      "---  ------           --------------  -----  \n",
      " 0   TransactionID    1000 non-null   object \n",
      " 1   CustomerID       1000 non-null   object \n",
      " 2   ProductID        1000 non-null   object \n",
      " 3   TransactionDate  1000 non-null   object \n",
      " 4   Quantity         1000 non-null   int64  \n",
      " 5   TotalValue       1000 non-null   float64\n",
      " 6   Price            1000 non-null   float64\n",
      "dtypes: float64(2), int64(1), object(4)\n",
      "memory usage: 54.8+ KB\n"
     ]
    }
   ],
   "source": [
    "# Display's the information of the datasets\n",
    "customers.info()\n",
    "products.info()\n",
    "transactions.info()"
   ]
  },
  {
   "cell_type": "code",
   "execution_count": 5,
   "metadata": {},
   "outputs": [
    {
     "data": {
      "text/html": [
       "<div>\n",
       "<style scoped>\n",
       "    .dataframe tbody tr th:only-of-type {\n",
       "        vertical-align: middle;\n",
       "    }\n",
       "\n",
       "    .dataframe tbody tr th {\n",
       "        vertical-align: top;\n",
       "    }\n",
       "\n",
       "    .dataframe thead th {\n",
       "        text-align: right;\n",
       "    }\n",
       "</style>\n",
       "<table border=\"1\" class=\"dataframe\">\n",
       "  <thead>\n",
       "    <tr style=\"text-align: right;\">\n",
       "      <th></th>\n",
       "      <th>TransactionID</th>\n",
       "      <th>CustomerID</th>\n",
       "      <th>ProductID</th>\n",
       "      <th>TransactionDate</th>\n",
       "      <th>Quantity</th>\n",
       "      <th>TotalValue</th>\n",
       "      <th>Price_x</th>\n",
       "      <th>CustomerName</th>\n",
       "      <th>Region</th>\n",
       "      <th>SignupDate</th>\n",
       "      <th>ProductName</th>\n",
       "      <th>Category</th>\n",
       "      <th>Price_y</th>\n",
       "    </tr>\n",
       "  </thead>\n",
       "  <tbody>\n",
       "    <tr>\n",
       "      <th>0</th>\n",
       "      <td>T00001</td>\n",
       "      <td>C0199</td>\n",
       "      <td>P067</td>\n",
       "      <td>2024-08-25 12:38:23</td>\n",
       "      <td>1</td>\n",
       "      <td>300.68</td>\n",
       "      <td>300.68</td>\n",
       "      <td>Andrea Jenkins</td>\n",
       "      <td>Europe</td>\n",
       "      <td>2022-12-03</td>\n",
       "      <td>ComfortLiving Bluetooth Speaker</td>\n",
       "      <td>Electronics</td>\n",
       "      <td>300.68</td>\n",
       "    </tr>\n",
       "    <tr>\n",
       "      <th>1</th>\n",
       "      <td>T00112</td>\n",
       "      <td>C0146</td>\n",
       "      <td>P067</td>\n",
       "      <td>2024-05-27 22:23:54</td>\n",
       "      <td>1</td>\n",
       "      <td>300.68</td>\n",
       "      <td>300.68</td>\n",
       "      <td>Brittany Harvey</td>\n",
       "      <td>Asia</td>\n",
       "      <td>2024-09-04</td>\n",
       "      <td>ComfortLiving Bluetooth Speaker</td>\n",
       "      <td>Electronics</td>\n",
       "      <td>300.68</td>\n",
       "    </tr>\n",
       "    <tr>\n",
       "      <th>2</th>\n",
       "      <td>T00166</td>\n",
       "      <td>C0127</td>\n",
       "      <td>P067</td>\n",
       "      <td>2024-04-25 07:38:55</td>\n",
       "      <td>1</td>\n",
       "      <td>300.68</td>\n",
       "      <td>300.68</td>\n",
       "      <td>Kathryn Stevens</td>\n",
       "      <td>Europe</td>\n",
       "      <td>2024-04-04</td>\n",
       "      <td>ComfortLiving Bluetooth Speaker</td>\n",
       "      <td>Electronics</td>\n",
       "      <td>300.68</td>\n",
       "    </tr>\n",
       "    <tr>\n",
       "      <th>3</th>\n",
       "      <td>T00272</td>\n",
       "      <td>C0087</td>\n",
       "      <td>P067</td>\n",
       "      <td>2024-03-26 22:55:37</td>\n",
       "      <td>2</td>\n",
       "      <td>601.36</td>\n",
       "      <td>300.68</td>\n",
       "      <td>Travis Campbell</td>\n",
       "      <td>South America</td>\n",
       "      <td>2024-04-11</td>\n",
       "      <td>ComfortLiving Bluetooth Speaker</td>\n",
       "      <td>Electronics</td>\n",
       "      <td>300.68</td>\n",
       "    </tr>\n",
       "    <tr>\n",
       "      <th>4</th>\n",
       "      <td>T00363</td>\n",
       "      <td>C0070</td>\n",
       "      <td>P067</td>\n",
       "      <td>2024-03-21 15:10:10</td>\n",
       "      <td>3</td>\n",
       "      <td>902.04</td>\n",
       "      <td>300.68</td>\n",
       "      <td>Timothy Perez</td>\n",
       "      <td>Europe</td>\n",
       "      <td>2022-03-15</td>\n",
       "      <td>ComfortLiving Bluetooth Speaker</td>\n",
       "      <td>Electronics</td>\n",
       "      <td>300.68</td>\n",
       "    </tr>\n",
       "  </tbody>\n",
       "</table>\n",
       "</div>"
      ],
      "text/plain": [
       "  TransactionID CustomerID ProductID      TransactionDate  Quantity  \\\n",
       "0        T00001      C0199      P067  2024-08-25 12:38:23         1   \n",
       "1        T00112      C0146      P067  2024-05-27 22:23:54         1   \n",
       "2        T00166      C0127      P067  2024-04-25 07:38:55         1   \n",
       "3        T00272      C0087      P067  2024-03-26 22:55:37         2   \n",
       "4        T00363      C0070      P067  2024-03-21 15:10:10         3   \n",
       "\n",
       "   TotalValue  Price_x     CustomerName         Region  SignupDate  \\\n",
       "0      300.68   300.68   Andrea Jenkins         Europe  2022-12-03   \n",
       "1      300.68   300.68  Brittany Harvey           Asia  2024-09-04   \n",
       "2      300.68   300.68  Kathryn Stevens         Europe  2024-04-04   \n",
       "3      601.36   300.68  Travis Campbell  South America  2024-04-11   \n",
       "4      902.04   300.68    Timothy Perez         Europe  2022-03-15   \n",
       "\n",
       "                       ProductName     Category  Price_y  \n",
       "0  ComfortLiving Bluetooth Speaker  Electronics   300.68  \n",
       "1  ComfortLiving Bluetooth Speaker  Electronics   300.68  \n",
       "2  ComfortLiving Bluetooth Speaker  Electronics   300.68  \n",
       "3  ComfortLiving Bluetooth Speaker  Electronics   300.68  \n",
       "4  ComfortLiving Bluetooth Speaker  Electronics   300.68  "
      ]
     },
     "execution_count": 5,
     "metadata": {},
     "output_type": "execute_result"
    }
   ],
   "source": [
    "# Merge datasets\n",
    "df = transactions.merge(customers, on='CustomerID').merge(products, on='ProductID')\n",
    "df.head()"
   ]
  },
  {
   "cell_type": "code",
   "execution_count": 6,
   "metadata": {},
   "outputs": [
    {
     "data": {
      "text/plain": [
       "TransactionID      0\n",
       "CustomerID         0\n",
       "ProductID          0\n",
       "TransactionDate    0\n",
       "Quantity           0\n",
       "TotalValue         0\n",
       "Price_x            0\n",
       "CustomerName       0\n",
       "Region             0\n",
       "SignupDate         0\n",
       "ProductName        0\n",
       "Category           0\n",
       "Price_y            0\n",
       "dtype: int64"
      ]
     },
     "execution_count": 6,
     "metadata": {},
     "output_type": "execute_result"
    }
   ],
   "source": [
    "df.isnull().sum()"
   ]
  },
  {
   "cell_type": "code",
   "execution_count": 7,
   "metadata": {},
   "outputs": [],
   "source": [
    "# Convert dates\n",
    "df['TransactionDate'] = pd.to_datetime(df['TransactionDate'])\n",
    "df['SignupDate'] = pd.to_datetime(df['SignupDate'])\n",
    "df['PurchaseDif'] = (df['TransactionDate'] - df['SignupDate']).dt.days # Calculate the lag between signup and purchase"
   ]
  },
  {
   "cell_type": "markdown",
   "metadata": {},
   "source": [
    "### Insights and Observations 1: Revenue Distribution by region and product category\n",
    "\n",
    "1. We can see that the revenue distribution is not evenly distributed across regions and product categories.\n",
    "\n",
    "2. The top 3 regions with the highest revenue and top 2 product category are:\n",
    "    * South America - 219,352 [Books, Electronics]\n",
    "    * Europe - 166,254 [Books, Electronics]\n",
    "    * North America - 152,313 [Electronics, Books]\n",
    "    \n",
    "3. While Asia has Clothing as the top product category & it has the lowest revenue."
   ]
  },
  {
   "cell_type": "code",
   "execution_count": 8,
   "metadata": {},
   "outputs": [
    {
     "data": {
      "text/html": [
       "        <script type=\"text/javascript\">\n",
       "        window.PlotlyConfig = {MathJaxConfig: 'local'};\n",
       "        if (window.MathJax && window.MathJax.Hub && window.MathJax.Hub.Config) {window.MathJax.Hub.Config({SVG: {font: \"STIX-Web\"}});}\n",
       "        if (typeof require !== 'undefined') {\n",
       "        require.undef(\"plotly\");\n",
       "        requirejs.config({\n",
       "            paths: {\n",
       "                'plotly': ['https://cdn.plot.ly/plotly-2.35.2.min']\n",
       "            }\n",
       "        });\n",
       "        require(['plotly'], function(Plotly) {\n",
       "            window._Plotly = Plotly;\n",
       "        });\n",
       "        }\n",
       "        </script>\n",
       "        "
      ]
     },
     "metadata": {},
     "output_type": "display_data"
    },
    {
     "data": {
      "text/html": [
       "<div>                            <div id=\"5ded580e-37e6-4b86-872a-0bb804c24ef7\" class=\"plotly-graph-div\" style=\"height:525px; width:100%;\"></div>            <script type=\"text/javascript\">                require([\"plotly\"], function(Plotly) {                    window.PLOTLYENV=window.PLOTLYENV || {};                                    if (document.getElementById(\"5ded580e-37e6-4b86-872a-0bb804c24ef7\")) {                    Plotly.newPlot(                        \"5ded580e-37e6-4b86-872a-0bb804c24ef7\",                        [{\"branchvalues\":\"total\",\"domain\":{\"x\":[0.0,1.0],\"y\":[0.0,1.0]},\"hovertemplate\":\"labels=%{label}\\u003cbr\\u003eTotalValue=%{value}\\u003cbr\\u003eparent=%{parent}\\u003cbr\\u003eid=%{id}\\u003cextra\\u003e\\u003c\\u002fextra\\u003e\",\"ids\":[\"Asia\\u002fBooks\",\"Europe\\u002fBooks\",\"North America\\u002fBooks\",\"South America\\u002fBooks\",\"Asia\\u002fClothing\",\"Europe\\u002fClothing\",\"North America\\u002fClothing\",\"South America\\u002fClothing\",\"Asia\\u002fElectronics\",\"Europe\\u002fElectronics\",\"North America\\u002fElectronics\",\"South America\\u002fElectronics\",\"Asia\\u002fHome Decor\",\"Europe\\u002fHome Decor\",\"North America\\u002fHome Decor\",\"South America\\u002fHome Decor\",\"Asia\",\"Europe\",\"North America\",\"South America\"],\"labels\":[\"Books\",\"Books\",\"Books\",\"Books\",\"Clothing\",\"Clothing\",\"Clothing\",\"Clothing\",\"Electronics\",\"Electronics\",\"Electronics\",\"Electronics\",\"Home Decor\",\"Home Decor\",\"Home Decor\",\"Home Decor\",\"Asia\",\"Europe\",\"North America\",\"South America\"],\"name\":\"\",\"parents\":[\"Asia\",\"Europe\",\"North America\",\"South America\",\"Asia\",\"Europe\",\"North America\",\"South America\",\"Asia\",\"Europe\",\"North America\",\"South America\",\"Asia\",\"Europe\",\"North America\",\"South America\",\"\",\"\",\"\",\"\"],\"values\":[33119.03,47464.42,41811.99,69752.03,49353.09,36335.59,38038.49,42443.49,35658.15,41562.6,44716.43,58846.32,33944.7,40892.02,27746.49,48310.72,152074.97,166254.63,152313.4,219352.56],\"type\":\"sunburst\"}],                        {\"template\":{\"data\":{\"histogram2dcontour\":[{\"type\":\"histogram2dcontour\",\"colorbar\":{\"outlinewidth\":0,\"ticks\":\"\"},\"colorscale\":[[0.0,\"#0d0887\"],[0.1111111111111111,\"#46039f\"],[0.2222222222222222,\"#7201a8\"],[0.3333333333333333,\"#9c179e\"],[0.4444444444444444,\"#bd3786\"],[0.5555555555555556,\"#d8576b\"],[0.6666666666666666,\"#ed7953\"],[0.7777777777777778,\"#fb9f3a\"],[0.8888888888888888,\"#fdca26\"],[1.0,\"#f0f921\"]]}],\"choropleth\":[{\"type\":\"choropleth\",\"colorbar\":{\"outlinewidth\":0,\"ticks\":\"\"}}],\"histogram2d\":[{\"type\":\"histogram2d\",\"colorbar\":{\"outlinewidth\":0,\"ticks\":\"\"},\"colorscale\":[[0.0,\"#0d0887\"],[0.1111111111111111,\"#46039f\"],[0.2222222222222222,\"#7201a8\"],[0.3333333333333333,\"#9c179e\"],[0.4444444444444444,\"#bd3786\"],[0.5555555555555556,\"#d8576b\"],[0.6666666666666666,\"#ed7953\"],[0.7777777777777778,\"#fb9f3a\"],[0.8888888888888888,\"#fdca26\"],[1.0,\"#f0f921\"]]}],\"heatmap\":[{\"type\":\"heatmap\",\"colorbar\":{\"outlinewidth\":0,\"ticks\":\"\"},\"colorscale\":[[0.0,\"#0d0887\"],[0.1111111111111111,\"#46039f\"],[0.2222222222222222,\"#7201a8\"],[0.3333333333333333,\"#9c179e\"],[0.4444444444444444,\"#bd3786\"],[0.5555555555555556,\"#d8576b\"],[0.6666666666666666,\"#ed7953\"],[0.7777777777777778,\"#fb9f3a\"],[0.8888888888888888,\"#fdca26\"],[1.0,\"#f0f921\"]]}],\"heatmapgl\":[{\"type\":\"heatmapgl\",\"colorbar\":{\"outlinewidth\":0,\"ticks\":\"\"},\"colorscale\":[[0.0,\"#0d0887\"],[0.1111111111111111,\"#46039f\"],[0.2222222222222222,\"#7201a8\"],[0.3333333333333333,\"#9c179e\"],[0.4444444444444444,\"#bd3786\"],[0.5555555555555556,\"#d8576b\"],[0.6666666666666666,\"#ed7953\"],[0.7777777777777778,\"#fb9f3a\"],[0.8888888888888888,\"#fdca26\"],[1.0,\"#f0f921\"]]}],\"contourcarpet\":[{\"type\":\"contourcarpet\",\"colorbar\":{\"outlinewidth\":0,\"ticks\":\"\"}}],\"contour\":[{\"type\":\"contour\",\"colorbar\":{\"outlinewidth\":0,\"ticks\":\"\"},\"colorscale\":[[0.0,\"#0d0887\"],[0.1111111111111111,\"#46039f\"],[0.2222222222222222,\"#7201a8\"],[0.3333333333333333,\"#9c179e\"],[0.4444444444444444,\"#bd3786\"],[0.5555555555555556,\"#d8576b\"],[0.6666666666666666,\"#ed7953\"],[0.7777777777777778,\"#fb9f3a\"],[0.8888888888888888,\"#fdca26\"],[1.0,\"#f0f921\"]]}],\"surface\":[{\"type\":\"surface\",\"colorbar\":{\"outlinewidth\":0,\"ticks\":\"\"},\"colorscale\":[[0.0,\"#0d0887\"],[0.1111111111111111,\"#46039f\"],[0.2222222222222222,\"#7201a8\"],[0.3333333333333333,\"#9c179e\"],[0.4444444444444444,\"#bd3786\"],[0.5555555555555556,\"#d8576b\"],[0.6666666666666666,\"#ed7953\"],[0.7777777777777778,\"#fb9f3a\"],[0.8888888888888888,\"#fdca26\"],[1.0,\"#f0f921\"]]}],\"mesh3d\":[{\"type\":\"mesh3d\",\"colorbar\":{\"outlinewidth\":0,\"ticks\":\"\"}}],\"scatter\":[{\"fillpattern\":{\"fillmode\":\"overlay\",\"size\":10,\"solidity\":0.2},\"type\":\"scatter\"}],\"parcoords\":[{\"type\":\"parcoords\",\"line\":{\"colorbar\":{\"outlinewidth\":0,\"ticks\":\"\"}}}],\"scatterpolargl\":[{\"type\":\"scatterpolargl\",\"marker\":{\"colorbar\":{\"outlinewidth\":0,\"ticks\":\"\"}}}],\"bar\":[{\"error_x\":{\"color\":\"#2a3f5f\"},\"error_y\":{\"color\":\"#2a3f5f\"},\"marker\":{\"line\":{\"color\":\"#E5ECF6\",\"width\":0.5},\"pattern\":{\"fillmode\":\"overlay\",\"size\":10,\"solidity\":0.2}},\"type\":\"bar\"}],\"scattergeo\":[{\"type\":\"scattergeo\",\"marker\":{\"colorbar\":{\"outlinewidth\":0,\"ticks\":\"\"}}}],\"scatterpolar\":[{\"type\":\"scatterpolar\",\"marker\":{\"colorbar\":{\"outlinewidth\":0,\"ticks\":\"\"}}}],\"histogram\":[{\"marker\":{\"pattern\":{\"fillmode\":\"overlay\",\"size\":10,\"solidity\":0.2}},\"type\":\"histogram\"}],\"scattergl\":[{\"type\":\"scattergl\",\"marker\":{\"colorbar\":{\"outlinewidth\":0,\"ticks\":\"\"}}}],\"scatter3d\":[{\"type\":\"scatter3d\",\"line\":{\"colorbar\":{\"outlinewidth\":0,\"ticks\":\"\"}},\"marker\":{\"colorbar\":{\"outlinewidth\":0,\"ticks\":\"\"}}}],\"scattermapbox\":[{\"type\":\"scattermapbox\",\"marker\":{\"colorbar\":{\"outlinewidth\":0,\"ticks\":\"\"}}}],\"scatterternary\":[{\"type\":\"scatterternary\",\"marker\":{\"colorbar\":{\"outlinewidth\":0,\"ticks\":\"\"}}}],\"scattercarpet\":[{\"type\":\"scattercarpet\",\"marker\":{\"colorbar\":{\"outlinewidth\":0,\"ticks\":\"\"}}}],\"carpet\":[{\"aaxis\":{\"endlinecolor\":\"#2a3f5f\",\"gridcolor\":\"white\",\"linecolor\":\"white\",\"minorgridcolor\":\"white\",\"startlinecolor\":\"#2a3f5f\"},\"baxis\":{\"endlinecolor\":\"#2a3f5f\",\"gridcolor\":\"white\",\"linecolor\":\"white\",\"minorgridcolor\":\"white\",\"startlinecolor\":\"#2a3f5f\"},\"type\":\"carpet\"}],\"table\":[{\"cells\":{\"fill\":{\"color\":\"#EBF0F8\"},\"line\":{\"color\":\"white\"}},\"header\":{\"fill\":{\"color\":\"#C8D4E3\"},\"line\":{\"color\":\"white\"}},\"type\":\"table\"}],\"barpolar\":[{\"marker\":{\"line\":{\"color\":\"#E5ECF6\",\"width\":0.5},\"pattern\":{\"fillmode\":\"overlay\",\"size\":10,\"solidity\":0.2}},\"type\":\"barpolar\"}],\"pie\":[{\"automargin\":true,\"type\":\"pie\"}]},\"layout\":{\"autotypenumbers\":\"strict\",\"colorway\":[\"#636efa\",\"#EF553B\",\"#00cc96\",\"#ab63fa\",\"#FFA15A\",\"#19d3f3\",\"#FF6692\",\"#B6E880\",\"#FF97FF\",\"#FECB52\"],\"font\":{\"color\":\"#2a3f5f\"},\"hovermode\":\"closest\",\"hoverlabel\":{\"align\":\"left\"},\"paper_bgcolor\":\"white\",\"plot_bgcolor\":\"#E5ECF6\",\"polar\":{\"bgcolor\":\"#E5ECF6\",\"angularaxis\":{\"gridcolor\":\"white\",\"linecolor\":\"white\",\"ticks\":\"\"},\"radialaxis\":{\"gridcolor\":\"white\",\"linecolor\":\"white\",\"ticks\":\"\"}},\"ternary\":{\"bgcolor\":\"#E5ECF6\",\"aaxis\":{\"gridcolor\":\"white\",\"linecolor\":\"white\",\"ticks\":\"\"},\"baxis\":{\"gridcolor\":\"white\",\"linecolor\":\"white\",\"ticks\":\"\"},\"caxis\":{\"gridcolor\":\"white\",\"linecolor\":\"white\",\"ticks\":\"\"}},\"coloraxis\":{\"colorbar\":{\"outlinewidth\":0,\"ticks\":\"\"}},\"colorscale\":{\"sequential\":[[0.0,\"#0d0887\"],[0.1111111111111111,\"#46039f\"],[0.2222222222222222,\"#7201a8\"],[0.3333333333333333,\"#9c179e\"],[0.4444444444444444,\"#bd3786\"],[0.5555555555555556,\"#d8576b\"],[0.6666666666666666,\"#ed7953\"],[0.7777777777777778,\"#fb9f3a\"],[0.8888888888888888,\"#fdca26\"],[1.0,\"#f0f921\"]],\"sequentialminus\":[[0.0,\"#0d0887\"],[0.1111111111111111,\"#46039f\"],[0.2222222222222222,\"#7201a8\"],[0.3333333333333333,\"#9c179e\"],[0.4444444444444444,\"#bd3786\"],[0.5555555555555556,\"#d8576b\"],[0.6666666666666666,\"#ed7953\"],[0.7777777777777778,\"#fb9f3a\"],[0.8888888888888888,\"#fdca26\"],[1.0,\"#f0f921\"]],\"diverging\":[[0,\"#8e0152\"],[0.1,\"#c51b7d\"],[0.2,\"#de77ae\"],[0.3,\"#f1b6da\"],[0.4,\"#fde0ef\"],[0.5,\"#f7f7f7\"],[0.6,\"#e6f5d0\"],[0.7,\"#b8e186\"],[0.8,\"#7fbc41\"],[0.9,\"#4d9221\"],[1,\"#276419\"]]},\"xaxis\":{\"gridcolor\":\"white\",\"linecolor\":\"white\",\"ticks\":\"\",\"title\":{\"standoff\":15},\"zerolinecolor\":\"white\",\"automargin\":true,\"zerolinewidth\":2},\"yaxis\":{\"gridcolor\":\"white\",\"linecolor\":\"white\",\"ticks\":\"\",\"title\":{\"standoff\":15},\"zerolinecolor\":\"white\",\"automargin\":true,\"zerolinewidth\":2},\"scene\":{\"xaxis\":{\"backgroundcolor\":\"#E5ECF6\",\"gridcolor\":\"white\",\"linecolor\":\"white\",\"showbackground\":true,\"ticks\":\"\",\"zerolinecolor\":\"white\",\"gridwidth\":2},\"yaxis\":{\"backgroundcolor\":\"#E5ECF6\",\"gridcolor\":\"white\",\"linecolor\":\"white\",\"showbackground\":true,\"ticks\":\"\",\"zerolinecolor\":\"white\",\"gridwidth\":2},\"zaxis\":{\"backgroundcolor\":\"#E5ECF6\",\"gridcolor\":\"white\",\"linecolor\":\"white\",\"showbackground\":true,\"ticks\":\"\",\"zerolinecolor\":\"white\",\"gridwidth\":2}},\"shapedefaults\":{\"line\":{\"color\":\"#2a3f5f\"}},\"annotationdefaults\":{\"arrowcolor\":\"#2a3f5f\",\"arrowhead\":0,\"arrowwidth\":1},\"geo\":{\"bgcolor\":\"white\",\"landcolor\":\"#E5ECF6\",\"subunitcolor\":\"white\",\"showland\":true,\"showlakes\":true,\"lakecolor\":\"white\"},\"title\":{\"x\":0.05},\"mapbox\":{\"style\":\"light\"}}},\"legend\":{\"tracegroupgap\":0},\"title\":{\"text\":\"\\u003cb\\u003eRevenue Distribution by Region & Product Category\\u003c\\u002fb\\u003e\"},\"margin\":{\"t\":50,\"b\":10,\"l\":20,\"r\":10}},                        {\"responsive\": true}                    ).then(function(){\n",
       "                            \n",
       "var gd = document.getElementById('5ded580e-37e6-4b86-872a-0bb804c24ef7');\n",
       "var x = new MutationObserver(function (mutations, observer) {{\n",
       "        var display = window.getComputedStyle(gd).display;\n",
       "        if (!display || display === 'none') {{\n",
       "            console.log([gd, 'removed!']);\n",
       "            Plotly.purge(gd);\n",
       "            observer.disconnect();\n",
       "        }}\n",
       "}});\n",
       "\n",
       "// Listen for the removal of the full notebook cells\n",
       "var notebookContainer = gd.closest('#notebook-container');\n",
       "if (notebookContainer) {{\n",
       "    x.observe(notebookContainer, {childList: true});\n",
       "}}\n",
       "\n",
       "// Listen for the clearing of the current output cell\n",
       "var outputEl = gd.closest('.output');\n",
       "if (outputEl) {{\n",
       "    x.observe(outputEl, {childList: true});\n",
       "}}\n",
       "\n",
       "                        })                };                });            </script>        </div>"
      ]
     },
     "metadata": {},
     "output_type": "display_data"
    }
   ],
   "source": [
    "#(Sunburst Chart)\n",
    "region_category_rev = df.groupby(['Region', 'Category'])['TotalValue'].sum().reset_index()\n",
    "fig1 = px.sunburst(region_category_rev, path=['Region', 'Category'], values='TotalValue', title='<b>Revenue Distribution by Region & Product Category</b>',\n",
    "                   color_continuous_scale='Plasma')\n",
    "fig1.update_layout(margin=dict(t=50, b=10, l=20, r=10))\n",
    "\n",
    "fig1.show()"
   ]
  },
  {
   "cell_type": "markdown",
   "metadata": {},
   "source": [
    "### Insights and Observations 2: Monthly Revenue and Active Users\n",
    "\n",
    "1. As we can see from the graph, the revenue is highest in the month of January and lowest in the month of November."
   ]
  },
  {
   "cell_type": "code",
   "execution_count": 9,
   "metadata": {},
   "outputs": [
    {
     "data": {
      "text/html": [
       "<div>                            <div id=\"87d49ccb-9fd1-490c-9edc-d96b724a4641\" class=\"plotly-graph-div\" style=\"height:525px; width:100%;\"></div>            <script type=\"text/javascript\">                require([\"plotly\"], function(Plotly) {                    window.PLOTLYENV=window.PLOTLYENV || {};                                    if (document.getElementById(\"87d49ccb-9fd1-490c-9edc-d96b724a4641\")) {                    Plotly.newPlot(                        \"87d49ccb-9fd1-490c-9edc-d96b724a4641\",                        [{\"line\":{\"color\":\"#FF6B6B\"},\"name\":\"Revenue\",\"x\":[\"2023-12-01T00:00:00\",\"2024-01-01T00:00:00\",\"2024-02-01T00:00:00\",\"2024-03-01T00:00:00\",\"2024-04-01T00:00:00\",\"2024-05-01T00:00:00\",\"2024-06-01T00:00:00\",\"2024-07-01T00:00:00\",\"2024-08-01T00:00:00\",\"2024-09-01T00:00:00\",\"2024-10-01T00:00:00\",\"2024-11-01T00:00:00\",\"2024-12-01T00:00:00\"],\"y\":[3769.52,66376.39,51459.27,47828.729999999996,57519.06,64527.74,48771.18,71366.39,63436.74,70603.75,47063.22,38224.37,59049.2],\"type\":\"scatter\",\"xaxis\":\"x\",\"yaxis\":\"y\"},{\"line\":{\"color\":\"#4ECDC4\"},\"name\":\"Active Customers\",\"x\":[\"2023-12-01T00:00:00\",\"2024-01-01T00:00:00\",\"2024-02-01T00:00:00\",\"2024-03-01T00:00:00\",\"2024-04-01T00:00:00\",\"2024-05-01T00:00:00\",\"2024-06-01T00:00:00\",\"2024-07-01T00:00:00\",\"2024-08-01T00:00:00\",\"2024-09-01T00:00:00\",\"2024-10-01T00:00:00\",\"2024-11-01T00:00:00\",\"2024-12-01T00:00:00\"],\"y\":[4,83,66,65,70,67,60,80,72,73,60,49,65],\"type\":\"scatter\",\"xaxis\":\"x\",\"yaxis\":\"y2\"}],                        {\"template\":{\"data\":{\"barpolar\":[{\"marker\":{\"line\":{\"color\":\"rgb(17,17,17)\",\"width\":0.5},\"pattern\":{\"fillmode\":\"overlay\",\"size\":10,\"solidity\":0.2}},\"type\":\"barpolar\"}],\"bar\":[{\"error_x\":{\"color\":\"#f2f5fa\"},\"error_y\":{\"color\":\"#f2f5fa\"},\"marker\":{\"line\":{\"color\":\"rgb(17,17,17)\",\"width\":0.5},\"pattern\":{\"fillmode\":\"overlay\",\"size\":10,\"solidity\":0.2}},\"type\":\"bar\"}],\"carpet\":[{\"aaxis\":{\"endlinecolor\":\"#A2B1C6\",\"gridcolor\":\"#506784\",\"linecolor\":\"#506784\",\"minorgridcolor\":\"#506784\",\"startlinecolor\":\"#A2B1C6\"},\"baxis\":{\"endlinecolor\":\"#A2B1C6\",\"gridcolor\":\"#506784\",\"linecolor\":\"#506784\",\"minorgridcolor\":\"#506784\",\"startlinecolor\":\"#A2B1C6\"},\"type\":\"carpet\"}],\"choropleth\":[{\"colorbar\":{\"outlinewidth\":0,\"ticks\":\"\"},\"type\":\"choropleth\"}],\"contourcarpet\":[{\"colorbar\":{\"outlinewidth\":0,\"ticks\":\"\"},\"type\":\"contourcarpet\"}],\"contour\":[{\"colorbar\":{\"outlinewidth\":0,\"ticks\":\"\"},\"colorscale\":[[0.0,\"#0d0887\"],[0.1111111111111111,\"#46039f\"],[0.2222222222222222,\"#7201a8\"],[0.3333333333333333,\"#9c179e\"],[0.4444444444444444,\"#bd3786\"],[0.5555555555555556,\"#d8576b\"],[0.6666666666666666,\"#ed7953\"],[0.7777777777777778,\"#fb9f3a\"],[0.8888888888888888,\"#fdca26\"],[1.0,\"#f0f921\"]],\"type\":\"contour\"}],\"heatmapgl\":[{\"colorbar\":{\"outlinewidth\":0,\"ticks\":\"\"},\"colorscale\":[[0.0,\"#0d0887\"],[0.1111111111111111,\"#46039f\"],[0.2222222222222222,\"#7201a8\"],[0.3333333333333333,\"#9c179e\"],[0.4444444444444444,\"#bd3786\"],[0.5555555555555556,\"#d8576b\"],[0.6666666666666666,\"#ed7953\"],[0.7777777777777778,\"#fb9f3a\"],[0.8888888888888888,\"#fdca26\"],[1.0,\"#f0f921\"]],\"type\":\"heatmapgl\"}],\"heatmap\":[{\"colorbar\":{\"outlinewidth\":0,\"ticks\":\"\"},\"colorscale\":[[0.0,\"#0d0887\"],[0.1111111111111111,\"#46039f\"],[0.2222222222222222,\"#7201a8\"],[0.3333333333333333,\"#9c179e\"],[0.4444444444444444,\"#bd3786\"],[0.5555555555555556,\"#d8576b\"],[0.6666666666666666,\"#ed7953\"],[0.7777777777777778,\"#fb9f3a\"],[0.8888888888888888,\"#fdca26\"],[1.0,\"#f0f921\"]],\"type\":\"heatmap\"}],\"histogram2dcontour\":[{\"colorbar\":{\"outlinewidth\":0,\"ticks\":\"\"},\"colorscale\":[[0.0,\"#0d0887\"],[0.1111111111111111,\"#46039f\"],[0.2222222222222222,\"#7201a8\"],[0.3333333333333333,\"#9c179e\"],[0.4444444444444444,\"#bd3786\"],[0.5555555555555556,\"#d8576b\"],[0.6666666666666666,\"#ed7953\"],[0.7777777777777778,\"#fb9f3a\"],[0.8888888888888888,\"#fdca26\"],[1.0,\"#f0f921\"]],\"type\":\"histogram2dcontour\"}],\"histogram2d\":[{\"colorbar\":{\"outlinewidth\":0,\"ticks\":\"\"},\"colorscale\":[[0.0,\"#0d0887\"],[0.1111111111111111,\"#46039f\"],[0.2222222222222222,\"#7201a8\"],[0.3333333333333333,\"#9c179e\"],[0.4444444444444444,\"#bd3786\"],[0.5555555555555556,\"#d8576b\"],[0.6666666666666666,\"#ed7953\"],[0.7777777777777778,\"#fb9f3a\"],[0.8888888888888888,\"#fdca26\"],[1.0,\"#f0f921\"]],\"type\":\"histogram2d\"}],\"histogram\":[{\"marker\":{\"pattern\":{\"fillmode\":\"overlay\",\"size\":10,\"solidity\":0.2}},\"type\":\"histogram\"}],\"mesh3d\":[{\"colorbar\":{\"outlinewidth\":0,\"ticks\":\"\"},\"type\":\"mesh3d\"}],\"parcoords\":[{\"line\":{\"colorbar\":{\"outlinewidth\":0,\"ticks\":\"\"}},\"type\":\"parcoords\"}],\"pie\":[{\"automargin\":true,\"type\":\"pie\"}],\"scatter3d\":[{\"line\":{\"colorbar\":{\"outlinewidth\":0,\"ticks\":\"\"}},\"marker\":{\"colorbar\":{\"outlinewidth\":0,\"ticks\":\"\"}},\"type\":\"scatter3d\"}],\"scattercarpet\":[{\"marker\":{\"colorbar\":{\"outlinewidth\":0,\"ticks\":\"\"}},\"type\":\"scattercarpet\"}],\"scattergeo\":[{\"marker\":{\"colorbar\":{\"outlinewidth\":0,\"ticks\":\"\"}},\"type\":\"scattergeo\"}],\"scattergl\":[{\"marker\":{\"line\":{\"color\":\"#283442\"}},\"type\":\"scattergl\"}],\"scattermapbox\":[{\"marker\":{\"colorbar\":{\"outlinewidth\":0,\"ticks\":\"\"}},\"type\":\"scattermapbox\"}],\"scatterpolargl\":[{\"marker\":{\"colorbar\":{\"outlinewidth\":0,\"ticks\":\"\"}},\"type\":\"scatterpolargl\"}],\"scatterpolar\":[{\"marker\":{\"colorbar\":{\"outlinewidth\":0,\"ticks\":\"\"}},\"type\":\"scatterpolar\"}],\"scatter\":[{\"marker\":{\"line\":{\"color\":\"#283442\"}},\"type\":\"scatter\"}],\"scatterternary\":[{\"marker\":{\"colorbar\":{\"outlinewidth\":0,\"ticks\":\"\"}},\"type\":\"scatterternary\"}],\"surface\":[{\"colorbar\":{\"outlinewidth\":0,\"ticks\":\"\"},\"colorscale\":[[0.0,\"#0d0887\"],[0.1111111111111111,\"#46039f\"],[0.2222222222222222,\"#7201a8\"],[0.3333333333333333,\"#9c179e\"],[0.4444444444444444,\"#bd3786\"],[0.5555555555555556,\"#d8576b\"],[0.6666666666666666,\"#ed7953\"],[0.7777777777777778,\"#fb9f3a\"],[0.8888888888888888,\"#fdca26\"],[1.0,\"#f0f921\"]],\"type\":\"surface\"}],\"table\":[{\"cells\":{\"fill\":{\"color\":\"#506784\"},\"line\":{\"color\":\"rgb(17,17,17)\"}},\"header\":{\"fill\":{\"color\":\"#2a3f5f\"},\"line\":{\"color\":\"rgb(17,17,17)\"}},\"type\":\"table\"}]},\"layout\":{\"annotationdefaults\":{\"arrowcolor\":\"#f2f5fa\",\"arrowhead\":0,\"arrowwidth\":1},\"autotypenumbers\":\"strict\",\"coloraxis\":{\"colorbar\":{\"outlinewidth\":0,\"ticks\":\"\"}},\"colorscale\":{\"diverging\":[[0,\"#8e0152\"],[0.1,\"#c51b7d\"],[0.2,\"#de77ae\"],[0.3,\"#f1b6da\"],[0.4,\"#fde0ef\"],[0.5,\"#f7f7f7\"],[0.6,\"#e6f5d0\"],[0.7,\"#b8e186\"],[0.8,\"#7fbc41\"],[0.9,\"#4d9221\"],[1,\"#276419\"]],\"sequential\":[[0.0,\"#0d0887\"],[0.1111111111111111,\"#46039f\"],[0.2222222222222222,\"#7201a8\"],[0.3333333333333333,\"#9c179e\"],[0.4444444444444444,\"#bd3786\"],[0.5555555555555556,\"#d8576b\"],[0.6666666666666666,\"#ed7953\"],[0.7777777777777778,\"#fb9f3a\"],[0.8888888888888888,\"#fdca26\"],[1.0,\"#f0f921\"]],\"sequentialminus\":[[0.0,\"#0d0887\"],[0.1111111111111111,\"#46039f\"],[0.2222222222222222,\"#7201a8\"],[0.3333333333333333,\"#9c179e\"],[0.4444444444444444,\"#bd3786\"],[0.5555555555555556,\"#d8576b\"],[0.6666666666666666,\"#ed7953\"],[0.7777777777777778,\"#fb9f3a\"],[0.8888888888888888,\"#fdca26\"],[1.0,\"#f0f921\"]]},\"colorway\":[\"#636efa\",\"#EF553B\",\"#00cc96\",\"#ab63fa\",\"#FFA15A\",\"#19d3f3\",\"#FF6692\",\"#B6E880\",\"#FF97FF\",\"#FECB52\"],\"font\":{\"color\":\"#f2f5fa\"},\"geo\":{\"bgcolor\":\"rgb(17,17,17)\",\"lakecolor\":\"rgb(17,17,17)\",\"landcolor\":\"rgb(17,17,17)\",\"showlakes\":true,\"showland\":true,\"subunitcolor\":\"#506784\"},\"hoverlabel\":{\"align\":\"left\"},\"hovermode\":\"closest\",\"mapbox\":{\"style\":\"dark\"},\"paper_bgcolor\":\"rgb(17,17,17)\",\"plot_bgcolor\":\"rgb(17,17,17)\",\"polar\":{\"angularaxis\":{\"gridcolor\":\"#506784\",\"linecolor\":\"#506784\",\"ticks\":\"\"},\"bgcolor\":\"rgb(17,17,17)\",\"radialaxis\":{\"gridcolor\":\"#506784\",\"linecolor\":\"#506784\",\"ticks\":\"\"}},\"scene\":{\"xaxis\":{\"backgroundcolor\":\"rgb(17,17,17)\",\"gridcolor\":\"#506784\",\"gridwidth\":2,\"linecolor\":\"#506784\",\"showbackground\":true,\"ticks\":\"\",\"zerolinecolor\":\"#C8D4E3\"},\"yaxis\":{\"backgroundcolor\":\"rgb(17,17,17)\",\"gridcolor\":\"#506784\",\"gridwidth\":2,\"linecolor\":\"#506784\",\"showbackground\":true,\"ticks\":\"\",\"zerolinecolor\":\"#C8D4E3\"},\"zaxis\":{\"backgroundcolor\":\"rgb(17,17,17)\",\"gridcolor\":\"#506784\",\"gridwidth\":2,\"linecolor\":\"#506784\",\"showbackground\":true,\"ticks\":\"\",\"zerolinecolor\":\"#C8D4E3\"}},\"shapedefaults\":{\"line\":{\"color\":\"#f2f5fa\"}},\"sliderdefaults\":{\"bgcolor\":\"#C8D4E3\",\"bordercolor\":\"rgb(17,17,17)\",\"borderwidth\":1,\"tickwidth\":0},\"ternary\":{\"aaxis\":{\"gridcolor\":\"#506784\",\"linecolor\":\"#506784\",\"ticks\":\"\"},\"baxis\":{\"gridcolor\":\"#506784\",\"linecolor\":\"#506784\",\"ticks\":\"\"},\"bgcolor\":\"rgb(17,17,17)\",\"caxis\":{\"gridcolor\":\"#506784\",\"linecolor\":\"#506784\",\"ticks\":\"\"}},\"title\":{\"x\":0.05},\"updatemenudefaults\":{\"bgcolor\":\"#506784\",\"borderwidth\":0},\"xaxis\":{\"automargin\":true,\"gridcolor\":\"#283442\",\"linecolor\":\"#506784\",\"ticks\":\"\",\"title\":{\"standoff\":15},\"zerolinecolor\":\"#283442\",\"zerolinewidth\":2},\"yaxis\":{\"automargin\":true,\"gridcolor\":\"#283442\",\"linecolor\":\"#506784\",\"ticks\":\"\",\"title\":{\"standoff\":15},\"zerolinecolor\":\"#283442\",\"zerolinewidth\":2}}},\"xaxis\":{\"anchor\":\"y\",\"domain\":[0.0,0.94],\"title\":{\"text\":\"Month\"}},\"yaxis\":{\"anchor\":\"x\",\"domain\":[0.0,1.0],\"title\":{\"text\":\"Revenue (USD)\"}},\"yaxis2\":{\"anchor\":\"x\",\"overlaying\":\"y\",\"side\":\"right\",\"title\":{\"text\":\"Active Customers\"}},\"title\":{\"text\":\"\\u003cb\\u003eMonthly Revenue vs Active Customers\\u003c\\u002fb\\u003e\"}},                        {\"responsive\": true}                    ).then(function(){\n",
       "                            \n",
       "var gd = document.getElementById('87d49ccb-9fd1-490c-9edc-d96b724a4641');\n",
       "var x = new MutationObserver(function (mutations, observer) {{\n",
       "        var display = window.getComputedStyle(gd).display;\n",
       "        if (!display || display === 'none') {{\n",
       "            console.log([gd, 'removed!']);\n",
       "            Plotly.purge(gd);\n",
       "            observer.disconnect();\n",
       "        }}\n",
       "}});\n",
       "\n",
       "// Listen for the removal of the full notebook cells\n",
       "var notebookContainer = gd.closest('#notebook-container');\n",
       "if (notebookContainer) {{\n",
       "    x.observe(notebookContainer, {childList: true});\n",
       "}}\n",
       "\n",
       "// Listen for the clearing of the current output cell\n",
       "var outputEl = gd.closest('.output');\n",
       "if (outputEl) {{\n",
       "    x.observe(outputEl, {childList: true});\n",
       "}}\n",
       "\n",
       "                        })                };                });            </script>        </div>"
      ]
     },
     "metadata": {},
     "output_type": "display_data"
    }
   ],
   "source": [
    "# (Dual-axis Line Chart)\n",
    "df['TransactionMonth'] = df['TransactionDate'].dt.to_period('M').dt.to_timestamp()\n",
    "monthly_stats = df.groupby('TransactionMonth').agg(Revenue=('TotalValue', 'sum'),Customers=('CustomerID', 'nunique')).reset_index()\n",
    "\n",
    "fig2 = make_subplots(specs=[[{\"secondary_y\": True}]])\n",
    "fig2.add_trace(go.Scatter(x=monthly_stats['TransactionMonth'], y=monthly_stats['Revenue'],name='Revenue', line=dict(color='#FF6B6B')), secondary_y=False) # Revenue Line\n",
    "fig2.add_trace(go.Scatter(x=monthly_stats['TransactionMonth'], y=monthly_stats['Customers'],name='Active Customers', line=dict(color='#4ECDC4')), secondary_y=True) # Active Customers Line\n",
    "fig2.update_layout(title='<b>Monthly Revenue vs Active Customers</b>',xaxis_title='Month', template='plotly_dark')\n",
    "fig2.update_yaxes(title_text='Revenue (USD)', secondary_y=False)\n",
    "fig2.update_yaxes(title_text='Active Customers', secondary_y=True)\n",
    "fig2.show()"
   ]
  },
  {
   "cell_type": "markdown",
   "metadata": {},
   "source": [
    "### Insights and Observations 3: Price Elasticity Analysis (3D Scatter Plot)\n",
    "\n",
    "1. The 3D scatter plot shows the relationship between the Quantity, Price, and TotalValue of the products.\n",
    "\n",
    "2. We can see as quantity increases, the total value also increases.\n",
    "\n",
    "3. The price of the product is also a factor in determining the total value of the product.\n",
    "\n",
    "4. Electronics products have a higher price compared to other product categories."
   ]
  },
  {
   "cell_type": "code",
   "execution_count": 10,
   "metadata": {},
   "outputs": [
    {
     "data": {
      "text/html": [
       "<div>                            <div id=\"adf1c882-b0ea-4154-a7e0-878b2349d688\" class=\"plotly-graph-div\" style=\"height:525px; width:100%;\"></div>            <script type=\"text/javascript\">                require([\"plotly\"], function(Plotly) {                    window.PLOTLYENV=window.PLOTLYENV || {};                                    if (document.getElementById(\"adf1c882-b0ea-4154-a7e0-878b2349d688\")) {                    Plotly.newPlot(                        \"adf1c882-b0ea-4154-a7e0-878b2349d688\",                        [{\"hovertemplate\":\"\\u003cb\\u003e%{hovertext}\\u003c\\u002fb\\u003e\\u003cbr\\u003e\\u003cbr\\u003eCategory=Books\\u003cbr\\u003ePrice (USD)=%{x}\\u003cbr\\u003eUnits Sold=%{y}\\u003cbr\\u003eTotal_Revenue=%{marker.size}\\u003cextra\\u003e\\u003c\\u002fextra\\u003e\",\"hovertext\":[\"P001\",\"P003\",\"P007\",\"P017\",\"P018\",\"P024\",\"P030\",\"P032\",\"P040\",\"P043\",\"P048\",\"P049\",\"P054\",\"P055\",\"P058\",\"P062\",\"P063\",\"P066\",\"P068\",\"P069\",\"P075\",\"P085\",\"P086\",\"P090\",\"P097\",\"P099\"],\"legendgroup\":\"Books\",\"marker\":{\"color\":\"#636efa\",\"size\":[3047.4,1367.72,8403.0,12214.02,8737.8,4063.92,6112.92,11238.49,5514.84,11727.599999999999,17905.2,5326.2,2635.8,3084.72,5043.84,14592.240000000002,839.75,8093.280000000001,10286.29,2419.44,12941.76,9576.05,12780.3,2314.2000000000003,7983.499999999999,3897.19],\"sizemode\":\"area\",\"sizeref\":48.7845,\"symbol\":\"circle\"},\"mode\":\"markers\",\"name\":\"Books\",\"scene\":\"scene\",\"showlegend\":true,\"x\":[169.3,44.12,420.15,469.77,436.89,338.66,277.86,488.63000000000005,153.19,404.4,416.4,147.95,57.3,128.53,157.62,374.16,33.59,337.22,447.2300000000001,100.81,497.76000000000005,416.35,440.7,165.3,319.34,354.29],\"y\":[18,31,20,26,20,12,22,23,36,29,43,36,46,24,32,39,25,24,23,24,26,23,29,14,25,11],\"z\":[3047.4,1367.72,8403.0,12214.02,8737.8,4063.92,6112.92,11238.49,5514.84,11727.599999999999,17905.2,5326.2,2635.8,3084.72,5043.84,14592.240000000002,839.75,8093.280000000001,10286.29,2419.44,12941.76,9576.05,12780.3,2314.2000000000003,7983.499999999999,3897.19],\"type\":\"scatter3d\"},{\"hovertemplate\":\"\\u003cb\\u003e%{hovertext}\\u003c\\u002fb\\u003e\\u003cbr\\u003e\\u003cbr\\u003eCategory=Electronics\\u003cbr\\u003ePrice (USD)=%{x}\\u003cbr\\u003eUnits Sold=%{y}\\u003cbr\\u003eTotal_Revenue=%{marker.size}\\u003cextra\\u003e\\u003c\\u002fextra\\u003e\",\"hovertext\":[\"P002\",\"P008\",\"P010\",\"P012\",\"P013\",\"P015\",\"P026\",\"P027\",\"P029\",\"P031\",\"P037\",\"P039\",\"P041\",\"P042\",\"P050\",\"P056\",\"P057\",\"P067\",\"P072\",\"P073\",\"P077\",\"P083\",\"P088\",\"P089\",\"P096\",\"P098\"],\"legendgroup\":\"Electronics\",\"marker\":{\"color\":\"#EF553B\",\"size\":[8657.5,2790.15,8052.99,2394.0,3083.4,2860.7400000000002,1223.2199999999998,8246.16,19513.8,1767.6,6897.9,13778.88,13232.119999999999,7968.24,12254.199999999999,337.67999999999995,10307.1,7517.0,5990.099999999999,647.76,4513.67,13671.6,4743.9,5080.93,10453.980000000001,4798.88],\"sizemode\":\"area\",\"sizeref\":48.7845,\"symbol\":\"circle\"},\"mode\":\"markers\",\"name\":\"Electronics\",\"scene\":\"scene\",\"showlegend\":true,\"x\":[346.3,146.85,350.13,159.6,114.2,158.93,64.38,229.05999999999997,433.64,196.4,459.86,430.59,456.28,379.44,437.65,16.08,239.7,300.68,399.34,26.99,265.51,455.72,263.55,220.91,307.47,299.93],\"y\":[25,19,23,15,27,18,19,36,45,9,15,32,29,21,28,21,43,25,15,24,17,30,18,23,34,16],\"z\":[8657.5,2790.15,8052.99,2394.0,3083.4,2860.7400000000002,1223.2199999999998,8246.16,19513.8,1767.6,6897.9,13778.88,13232.119999999999,7968.24,12254.199999999999,337.67999999999995,10307.1,7517.0,5990.099999999999,647.76,4513.67,13671.6,4743.9,5080.93,10453.980000000001,4798.88],\"type\":\"scatter3d\"},{\"hovertemplate\":\"\\u003cb\\u003e%{hovertext}\\u003c\\u002fb\\u003e\\u003cbr\\u003e\\u003cbr\\u003eCategory=Home Decor\\u003cbr\\u003ePrice (USD)=%{x}\\u003cbr\\u003eUnits Sold=%{y}\\u003cbr\\u003eTotal_Revenue=%{marker.size}\\u003cextra\\u003e\\u003c\\u002fextra\\u003e\",\"hovertext\":[\"P004\",\"P006\",\"P009\",\"P011\",\"P021\",\"P022\",\"P023\",\"P025\",\"P028\",\"P038\",\"P047\",\"P051\",\"P053\",\"P061\",\"P074\",\"P078\",\"P079\",\"P082\",\"P084\",\"P091\",\"P093\",\"P094\",\"P095\"],\"legendgroup\":\"Home Decor\",\"marker\":{\"color\":\"#00cc96\",\"size\":[1722.42,4367.5199999999995,4875.15,7574.799999999999,8396.0,5226.5199999999995,9545.13,8538.6,8952.04,4122.16,4301.91,1694.1599999999999,6873.5,6749.280000000001,10345.3,1070.68,17946.91,1063.81,11488.94,4459.0,5183.98,12078.18,4317.94],\"sizemode\":\"area\",\"sizeref\":48.7845,\"symbol\":\"circle\"},\"mode\":\"markers\",\"name\":\"Home Decor\",\"scene\":\"scene\",\"showlegend\":true,\"x\":[95.68999999999998,121.32,325.00999999999993,261.2,335.84,137.54,454.53,284.62,235.58,147.22,159.33,65.16,274.94,156.96,295.58,41.18,417.37,55.99,337.90999999999997,222.95,304.94,447.34,227.26],\"y\":[18,36,15,29,25,38,21,30,38,28,27,26,25,43,35,26,43,19,34,20,17,27,19],\"z\":[1722.42,4367.5199999999995,4875.15,7574.799999999999,8396.0,5226.5199999999995,9545.13,8538.6,8952.04,4122.16,4301.91,1694.1599999999999,6873.5,6749.280000000001,10345.3,1070.68,17946.91,1063.81,11488.94,4459.0,5183.98,12078.18,4317.94],\"type\":\"scatter3d\"},{\"hovertemplate\":\"\\u003cb\\u003e%{hovertext}\\u003c\\u002fb\\u003e\\u003cbr\\u003e\\u003cbr\\u003eCategory=Clothing\\u003cbr\\u003ePrice (USD)=%{x}\\u003cbr\\u003eUnits Sold=%{y}\\u003cbr\\u003eTotal_Revenue=%{marker.size}\\u003cextra\\u003e\\u003c\\u002fextra\\u003e\",\"hovertext\":[\"P005\",\"P014\",\"P016\",\"P019\",\"P020\",\"P033\",\"P034\",\"P035\",\"P036\",\"P044\",\"P045\",\"P046\",\"P052\",\"P059\",\"P060\",\"P064\",\"P065\",\"P070\",\"P071\",\"P076\",\"P080\",\"P081\",\"P087\",\"P092\",\"P100\"],\"legendgroup\":\"Clothing\",\"marker\":{\"color\":\"#ab63fa\",\"size\":[10303.44,367.64,7261.1,13487.95,15060.919999999998,1413.5,4775.1,795.34,8941.2,244.66,8672.039999999999,8053.54,5676.96,13947.2,2023.45,10405.66,10690.25,730.3499999999999,2547.2,11161.539999999999,7284.0,2188.56,8124.76,10119.2,1895.1],\"sizemode\":\"area\",\"sizeref\":48.7845,\"symbol\":\"circle\"},\"mode\":\"markers\",\"name\":\"Clothing\",\"scene\":\"scene\",\"showlegend\":true,\"x\":[429.31,26.26,330.05,385.36999999999995,396.34,64.25,217.05,30.589999999999996,372.55,18.82,481.78,366.07,354.81,303.2,155.65,452.41999999999996,427.61,48.69,127.36,429.2900000000001,303.5,66.32,290.17,389.2,126.33999999999999],\"y\":[24,14,22,35,38,22,22,26,24,13,18,22,16,46,13,23,25,15,20,26,24,33,28,26,15],\"z\":[10303.44,367.64,7261.1,13487.95,15060.919999999998,1413.5,4775.1,795.34,8941.2,244.66,8672.039999999999,8053.54,5676.96,13947.2,2023.45,10405.66,10690.25,730.3499999999999,2547.2,11161.539999999999,7284.0,2188.56,8124.76,10119.2,1895.1],\"type\":\"scatter3d\"}],                        {\"template\":{\"data\":{\"barpolar\":[{\"marker\":{\"line\":{\"color\":\"rgb(17,17,17)\",\"width\":0.5},\"pattern\":{\"fillmode\":\"overlay\",\"size\":10,\"solidity\":0.2}},\"type\":\"barpolar\"}],\"bar\":[{\"error_x\":{\"color\":\"#f2f5fa\"},\"error_y\":{\"color\":\"#f2f5fa\"},\"marker\":{\"line\":{\"color\":\"rgb(17,17,17)\",\"width\":0.5},\"pattern\":{\"fillmode\":\"overlay\",\"size\":10,\"solidity\":0.2}},\"type\":\"bar\"}],\"carpet\":[{\"aaxis\":{\"endlinecolor\":\"#A2B1C6\",\"gridcolor\":\"#506784\",\"linecolor\":\"#506784\",\"minorgridcolor\":\"#506784\",\"startlinecolor\":\"#A2B1C6\"},\"baxis\":{\"endlinecolor\":\"#A2B1C6\",\"gridcolor\":\"#506784\",\"linecolor\":\"#506784\",\"minorgridcolor\":\"#506784\",\"startlinecolor\":\"#A2B1C6\"},\"type\":\"carpet\"}],\"choropleth\":[{\"colorbar\":{\"outlinewidth\":0,\"ticks\":\"\"},\"type\":\"choropleth\"}],\"contourcarpet\":[{\"colorbar\":{\"outlinewidth\":0,\"ticks\":\"\"},\"type\":\"contourcarpet\"}],\"contour\":[{\"colorbar\":{\"outlinewidth\":0,\"ticks\":\"\"},\"colorscale\":[[0.0,\"#0d0887\"],[0.1111111111111111,\"#46039f\"],[0.2222222222222222,\"#7201a8\"],[0.3333333333333333,\"#9c179e\"],[0.4444444444444444,\"#bd3786\"],[0.5555555555555556,\"#d8576b\"],[0.6666666666666666,\"#ed7953\"],[0.7777777777777778,\"#fb9f3a\"],[0.8888888888888888,\"#fdca26\"],[1.0,\"#f0f921\"]],\"type\":\"contour\"}],\"heatmapgl\":[{\"colorbar\":{\"outlinewidth\":0,\"ticks\":\"\"},\"colorscale\":[[0.0,\"#0d0887\"],[0.1111111111111111,\"#46039f\"],[0.2222222222222222,\"#7201a8\"],[0.3333333333333333,\"#9c179e\"],[0.4444444444444444,\"#bd3786\"],[0.5555555555555556,\"#d8576b\"],[0.6666666666666666,\"#ed7953\"],[0.7777777777777778,\"#fb9f3a\"],[0.8888888888888888,\"#fdca26\"],[1.0,\"#f0f921\"]],\"type\":\"heatmapgl\"}],\"heatmap\":[{\"colorbar\":{\"outlinewidth\":0,\"ticks\":\"\"},\"colorscale\":[[0.0,\"#0d0887\"],[0.1111111111111111,\"#46039f\"],[0.2222222222222222,\"#7201a8\"],[0.3333333333333333,\"#9c179e\"],[0.4444444444444444,\"#bd3786\"],[0.5555555555555556,\"#d8576b\"],[0.6666666666666666,\"#ed7953\"],[0.7777777777777778,\"#fb9f3a\"],[0.8888888888888888,\"#fdca26\"],[1.0,\"#f0f921\"]],\"type\":\"heatmap\"}],\"histogram2dcontour\":[{\"colorbar\":{\"outlinewidth\":0,\"ticks\":\"\"},\"colorscale\":[[0.0,\"#0d0887\"],[0.1111111111111111,\"#46039f\"],[0.2222222222222222,\"#7201a8\"],[0.3333333333333333,\"#9c179e\"],[0.4444444444444444,\"#bd3786\"],[0.5555555555555556,\"#d8576b\"],[0.6666666666666666,\"#ed7953\"],[0.7777777777777778,\"#fb9f3a\"],[0.8888888888888888,\"#fdca26\"],[1.0,\"#f0f921\"]],\"type\":\"histogram2dcontour\"}],\"histogram2d\":[{\"colorbar\":{\"outlinewidth\":0,\"ticks\":\"\"},\"colorscale\":[[0.0,\"#0d0887\"],[0.1111111111111111,\"#46039f\"],[0.2222222222222222,\"#7201a8\"],[0.3333333333333333,\"#9c179e\"],[0.4444444444444444,\"#bd3786\"],[0.5555555555555556,\"#d8576b\"],[0.6666666666666666,\"#ed7953\"],[0.7777777777777778,\"#fb9f3a\"],[0.8888888888888888,\"#fdca26\"],[1.0,\"#f0f921\"]],\"type\":\"histogram2d\"}],\"histogram\":[{\"marker\":{\"pattern\":{\"fillmode\":\"overlay\",\"size\":10,\"solidity\":0.2}},\"type\":\"histogram\"}],\"mesh3d\":[{\"colorbar\":{\"outlinewidth\":0,\"ticks\":\"\"},\"type\":\"mesh3d\"}],\"parcoords\":[{\"line\":{\"colorbar\":{\"outlinewidth\":0,\"ticks\":\"\"}},\"type\":\"parcoords\"}],\"pie\":[{\"automargin\":true,\"type\":\"pie\"}],\"scatter3d\":[{\"line\":{\"colorbar\":{\"outlinewidth\":0,\"ticks\":\"\"}},\"marker\":{\"colorbar\":{\"outlinewidth\":0,\"ticks\":\"\"}},\"type\":\"scatter3d\"}],\"scattercarpet\":[{\"marker\":{\"colorbar\":{\"outlinewidth\":0,\"ticks\":\"\"}},\"type\":\"scattercarpet\"}],\"scattergeo\":[{\"marker\":{\"colorbar\":{\"outlinewidth\":0,\"ticks\":\"\"}},\"type\":\"scattergeo\"}],\"scattergl\":[{\"marker\":{\"line\":{\"color\":\"#283442\"}},\"type\":\"scattergl\"}],\"scattermapbox\":[{\"marker\":{\"colorbar\":{\"outlinewidth\":0,\"ticks\":\"\"}},\"type\":\"scattermapbox\"}],\"scatterpolargl\":[{\"marker\":{\"colorbar\":{\"outlinewidth\":0,\"ticks\":\"\"}},\"type\":\"scatterpolargl\"}],\"scatterpolar\":[{\"marker\":{\"colorbar\":{\"outlinewidth\":0,\"ticks\":\"\"}},\"type\":\"scatterpolar\"}],\"scatter\":[{\"marker\":{\"line\":{\"color\":\"#283442\"}},\"type\":\"scatter\"}],\"scatterternary\":[{\"marker\":{\"colorbar\":{\"outlinewidth\":0,\"ticks\":\"\"}},\"type\":\"scatterternary\"}],\"surface\":[{\"colorbar\":{\"outlinewidth\":0,\"ticks\":\"\"},\"colorscale\":[[0.0,\"#0d0887\"],[0.1111111111111111,\"#46039f\"],[0.2222222222222222,\"#7201a8\"],[0.3333333333333333,\"#9c179e\"],[0.4444444444444444,\"#bd3786\"],[0.5555555555555556,\"#d8576b\"],[0.6666666666666666,\"#ed7953\"],[0.7777777777777778,\"#fb9f3a\"],[0.8888888888888888,\"#fdca26\"],[1.0,\"#f0f921\"]],\"type\":\"surface\"}],\"table\":[{\"cells\":{\"fill\":{\"color\":\"#506784\"},\"line\":{\"color\":\"rgb(17,17,17)\"}},\"header\":{\"fill\":{\"color\":\"#2a3f5f\"},\"line\":{\"color\":\"rgb(17,17,17)\"}},\"type\":\"table\"}]},\"layout\":{\"annotationdefaults\":{\"arrowcolor\":\"#f2f5fa\",\"arrowhead\":0,\"arrowwidth\":1},\"autotypenumbers\":\"strict\",\"coloraxis\":{\"colorbar\":{\"outlinewidth\":0,\"ticks\":\"\"}},\"colorscale\":{\"diverging\":[[0,\"#8e0152\"],[0.1,\"#c51b7d\"],[0.2,\"#de77ae\"],[0.3,\"#f1b6da\"],[0.4,\"#fde0ef\"],[0.5,\"#f7f7f7\"],[0.6,\"#e6f5d0\"],[0.7,\"#b8e186\"],[0.8,\"#7fbc41\"],[0.9,\"#4d9221\"],[1,\"#276419\"]],\"sequential\":[[0.0,\"#0d0887\"],[0.1111111111111111,\"#46039f\"],[0.2222222222222222,\"#7201a8\"],[0.3333333333333333,\"#9c179e\"],[0.4444444444444444,\"#bd3786\"],[0.5555555555555556,\"#d8576b\"],[0.6666666666666666,\"#ed7953\"],[0.7777777777777778,\"#fb9f3a\"],[0.8888888888888888,\"#fdca26\"],[1.0,\"#f0f921\"]],\"sequentialminus\":[[0.0,\"#0d0887\"],[0.1111111111111111,\"#46039f\"],[0.2222222222222222,\"#7201a8\"],[0.3333333333333333,\"#9c179e\"],[0.4444444444444444,\"#bd3786\"],[0.5555555555555556,\"#d8576b\"],[0.6666666666666666,\"#ed7953\"],[0.7777777777777778,\"#fb9f3a\"],[0.8888888888888888,\"#fdca26\"],[1.0,\"#f0f921\"]]},\"colorway\":[\"#636efa\",\"#EF553B\",\"#00cc96\",\"#ab63fa\",\"#FFA15A\",\"#19d3f3\",\"#FF6692\",\"#B6E880\",\"#FF97FF\",\"#FECB52\"],\"font\":{\"color\":\"#f2f5fa\"},\"geo\":{\"bgcolor\":\"rgb(17,17,17)\",\"lakecolor\":\"rgb(17,17,17)\",\"landcolor\":\"rgb(17,17,17)\",\"showlakes\":true,\"showland\":true,\"subunitcolor\":\"#506784\"},\"hoverlabel\":{\"align\":\"left\"},\"hovermode\":\"closest\",\"mapbox\":{\"style\":\"dark\"},\"paper_bgcolor\":\"rgb(17,17,17)\",\"plot_bgcolor\":\"rgb(17,17,17)\",\"polar\":{\"angularaxis\":{\"gridcolor\":\"#506784\",\"linecolor\":\"#506784\",\"ticks\":\"\"},\"bgcolor\":\"rgb(17,17,17)\",\"radialaxis\":{\"gridcolor\":\"#506784\",\"linecolor\":\"#506784\",\"ticks\":\"\"}},\"scene\":{\"xaxis\":{\"backgroundcolor\":\"rgb(17,17,17)\",\"gridcolor\":\"#506784\",\"gridwidth\":2,\"linecolor\":\"#506784\",\"showbackground\":true,\"ticks\":\"\",\"zerolinecolor\":\"#C8D4E3\"},\"yaxis\":{\"backgroundcolor\":\"rgb(17,17,17)\",\"gridcolor\":\"#506784\",\"gridwidth\":2,\"linecolor\":\"#506784\",\"showbackground\":true,\"ticks\":\"\",\"zerolinecolor\":\"#C8D4E3\"},\"zaxis\":{\"backgroundcolor\":\"rgb(17,17,17)\",\"gridcolor\":\"#506784\",\"gridwidth\":2,\"linecolor\":\"#506784\",\"showbackground\":true,\"ticks\":\"\",\"zerolinecolor\":\"#C8D4E3\"}},\"shapedefaults\":{\"line\":{\"color\":\"#f2f5fa\"}},\"sliderdefaults\":{\"bgcolor\":\"#C8D4E3\",\"bordercolor\":\"rgb(17,17,17)\",\"borderwidth\":1,\"tickwidth\":0},\"ternary\":{\"aaxis\":{\"gridcolor\":\"#506784\",\"linecolor\":\"#506784\",\"ticks\":\"\"},\"baxis\":{\"gridcolor\":\"#506784\",\"linecolor\":\"#506784\",\"ticks\":\"\"},\"bgcolor\":\"rgb(17,17,17)\",\"caxis\":{\"gridcolor\":\"#506784\",\"linecolor\":\"#506784\",\"ticks\":\"\"}},\"title\":{\"x\":0.05},\"updatemenudefaults\":{\"bgcolor\":\"#506784\",\"borderwidth\":0},\"xaxis\":{\"automargin\":true,\"gridcolor\":\"#283442\",\"linecolor\":\"#506784\",\"ticks\":\"\",\"title\":{\"standoff\":15},\"zerolinecolor\":\"#283442\",\"zerolinewidth\":2},\"yaxis\":{\"automargin\":true,\"gridcolor\":\"#283442\",\"linecolor\":\"#506784\",\"ticks\":\"\",\"title\":{\"standoff\":15},\"zerolinecolor\":\"#283442\",\"zerolinewidth\":2}}},\"scene\":{\"domain\":{\"x\":[0.0,1.0],\"y\":[0.0,1.0]},\"xaxis\":{\"title\":{\"text\":\"Price (USD)\"}},\"yaxis\":{\"title\":{\"text\":\"Units Sold\"}},\"zaxis\":{\"title\":{\"text\":\"Total_Revenue\"}},\"camera\":{\"up\":{\"x\":0,\"y\":0,\"z\":1},\"eye\":{\"x\":1.5,\"y\":1.5,\"z\":0.1}}},\"legend\":{\"title\":{\"text\":\"Category\"},\"tracegroupgap\":0,\"itemsizing\":\"constant\"},\"title\":{\"text\":\"\\u003cb\\u003e3D Price Elasticity Analysis\\u003c\\u002fb\\u003e\"}},                        {\"responsive\": true}                    ).then(function(){\n",
       "                            \n",
       "var gd = document.getElementById('adf1c882-b0ea-4154-a7e0-878b2349d688');\n",
       "var x = new MutationObserver(function (mutations, observer) {{\n",
       "        var display = window.getComputedStyle(gd).display;\n",
       "        if (!display || display === 'none') {{\n",
       "            console.log([gd, 'removed!']);\n",
       "            Plotly.purge(gd);\n",
       "            observer.disconnect();\n",
       "        }}\n",
       "}});\n",
       "\n",
       "// Listen for the removal of the full notebook cells\n",
       "var notebookContainer = gd.closest('#notebook-container');\n",
       "if (notebookContainer) {{\n",
       "    x.observe(notebookContainer, {childList: true});\n",
       "}}\n",
       "\n",
       "// Listen for the clearing of the current output cell\n",
       "var outputEl = gd.closest('.output');\n",
       "if (outputEl) {{\n",
       "    x.observe(outputEl, {childList: true});\n",
       "}}\n",
       "\n",
       "                        })                };                });            </script>        </div>"
      ]
     },
     "metadata": {},
     "output_type": "display_data"
    }
   ],
   "source": [
    "# (3D Scatter Plot)\n",
    "product_stats = df.groupby(['ProductID', 'Category']).agg(Avg_Price=('Price_x', 'mean'),\n",
    "    Total_Quantity=('Quantity', 'sum'),\n",
    "    Total_Revenue=('TotalValue', 'sum')\n",
    ").reset_index()\n",
    "\n",
    "fig3 = px.scatter_3d(product_stats, x='Avg_Price', y='Total_Quantity', z='Total_Revenue',\n",
    "                    color='Category', size='Total_Revenue',\n",
    "                    title='<b>3D Price Elasticity Analysis</b>',\n",
    "                    labels={'Avg_Price':'Price (USD)', 'Total_Quantity':'Units Sold'},\n",
    "                    hover_name='ProductID', template='plotly_dark')\n",
    "fig3.update_layout(scene=dict(camera=dict(up=dict(x=0, y=0, z=1),\n",
    "                                        eye=dict(x=1.5, y=1.5, z=0.1))))\n",
    "fig3.show()\n"
   ]
  },
  {
   "cell_type": "markdown",
   "metadata": {},
   "source": [
    "### Insights and Observations 4: Customer Lifetime Value Analysis (Bubble Chart)\n",
    "\n",
    "1. This chart gives us an idea of the customer lifetime value based on the revenue generated by the customers.\n",
    "\n",
    "2. Its very important to retain customers with high lifetime value as they contribute more to the revenue.\n",
    "\n",
    "3. The size of the bubble represents the revenue generated by the customer."
   ]
  },
  {
   "cell_type": "code",
   "execution_count": 11,
   "metadata": {},
   "outputs": [
    {
     "data": {
      "text/html": [
       "<div>                            <div id=\"1769c72f-d7e6-41f3-bb69-3aeadca9c94c\" class=\"plotly-graph-div\" style=\"height:525px; width:100%;\"></div>            <script type=\"text/javascript\">                require([\"plotly\"], function(Plotly) {                    window.PLOTLYENV=window.PLOTLYENV || {};                                    if (document.getElementById(\"1769c72f-d7e6-41f3-bb69-3aeadca9c94c\")) {                    Plotly.newPlot(                        \"1769c72f-d7e6-41f3-bb69-3aeadca9c94c\",                        [{\"hovertemplate\":\"Customer Tenure (Days)=%{x}\\u003cbr\\u003eTotal Spend (USD)=%{marker.color}\\u003cbr\\u003eTransaction_Count=%{marker.size}\\u003cextra\\u003e\\u003c\\u002fextra\\u003e\",\"legendgroup\":\"\",\"marker\":{\"color\":[3354.52,1862.74,2725.38,5354.88,2034.24,4227.57,2579.8199999999997,4271.61,896.5,1717.5500000000002,3730.0,5231.26,6000.5599999999995,318.66,1157.48,3874.42,4753.82,4781.85,2185.8199999999997,922.41,5419.92,4655.07,5158.65,3627.02,1589.81,3549.05,2562.94,6819.57,1785.8700000000001,2549.6800000000003,2005.38,673.0,132.64,3073.2,2587.61,1877.96,4252.77,2696.85,4239.599999999999,3969.3999999999996,6149.78,2402.49,1131.3200000000002,3230.1099999999997,6021.8,5627.83,2870.54,3850.9399999999996,2315.48,3068.83,5699.57,2488.01,5316.46,8040.389999999999,2857.68,3182.94,4536.4,396.34,7073.28,82.36,2138.2599999999998,1639.54,1378.1699999999998,4039.77,7663.7,3799.2799999999997,4090.84,5950.42,2878.69,3125.49,1400.83,2999.59,2060.54,3055.2200000000003,5848.97,2333.06,837.3,995.52,4251.5599999999995,1007.52,3542.48,7572.91,642.8,4441.1,2598.33,2754.68,6604.2300000000005,2135.38,2556.2200000000003,4138.16,3137.66,3015.95,5294.99,1166.97,1284.27,6072.92,137.54,3158.02,6715.72,5003.45,5550.99,6132.360000000001,2462.5499999999997,6579.1,4807.45,2939.3,3623.9199999999996,4848.54,5487.25,942.32,1973.02,1959.51,4812.1,5780.43,3137.1800000000003,2758.6800000000003,4028.27,3434.77,1191.61,2470.02,974.52,5072.55,1400.06,4264.33,2973.96,4565.57,3232.88,773.19,2339.6099999999997,601.36,1943.82,1851.2599999999998,2884.33,2679.28,3135.58,4298.99,3332.5499999999997,5610.25,3703.64,1888.1399999999999,10673.87,2239.04,6044.63,1304.6799999999998,5771.27,2570.8,2948.44,5457.79,4404.78,580.34,223.96,3385.86,4744.79,3703.61,5377.83,7634.45,1876.1,3716.52,2072.41,2926.93,3141.83,4802.24,5775.28,3087.69,6708.1,2405.3500000000004,2300.42,5053.83,4533.32,4931.74,5145.35,2201.7,5808.04,2891.95,6210.53,2331.32,2509.81,2708.83,3652.83,3347.6,4980.7699999999995,3850.2200000000003,3393.18,3424.3199999999997,1761.6399999999999,4612.44,7111.32,2643.21,2983.02,2997.9700000000003,2072.7200000000003,3009.29,3869.17,4036.27,4982.88,1928.65,931.83,1979.28,4758.6],\"coloraxis\":\"coloraxis\",\"size\":[5,4,4,8,3,4,3,10,3,4,5,7,7,1,2,5,8,5,6,1,8,6,6,7,4,4,4,8,4,5,4,3,1,6,4,3,5,5,6,3,7,3,3,3,7,7,7,5,8,3,7,4,6,8,5,5,6,1,8,1,3,3,2,5,10,3,6,8,5,4,3,5,3,3,9,5,3,1,4,1,6,7,3,9,3,5,7,5,2,7,6,4,9,4,2,5,1,8,8,6,8,8,5,8,6,5,5,7,11,1,5,3,8,5,3,6,4,6,5,3,4,7,2,7,4,6,6,2,3,1,3,3,4,5,4,6,5,5,8,2,10,4,7,2,8,4,9,5,5,1,1,5,6,6,7,11,5,4,3,5,8,8,6,5,9,4,3,4,6,5,5,6,8,5,10,3,4,4,6,6,5,5,7,3,3,5,8,5,5,5,4,4,7,6,4,3,2,4,5],\"sizemode\":\"area\",\"sizeref\":0.0275,\"symbol\":\"circle\"},\"mode\":\"markers\",\"name\":\"\",\"orientation\":\"v\",\"showlegend\":false,\"x\":[933,1080,327,842,897,387,955,381,533,775,778,174,254,220,435,391,420,129,747,231,652,459,1061,358,939,270,811,213,1018,364,292,286,177,489,119,206,724,1018,107,1058,398,685,723,202,1068,97,312,82,132,332,404,343,955,121,78,291,185,366,296,1012,694,776,358,464,202,74,572,665,422,1050,942,188,892,977,638,352,468,76,1091,356,339,991,1027,133,128,863,292,625,301,469,684,244,199,500,696,802,407,99,730,684,486,865,989,1083,78,859,721,853,995,129,76,936,956,71,78,139,67,1102,442,746,555,998,450,155,772,343,299,610,289,650,968,727,689,1074,889,320,294,88,1051,577,705,355,246,120,746,146,988,653,738,868,67,1015,1045,93,677,528,364,657,906,1029,1051,1036,600,607,1025,1080,367,777,656,503,774,141,845,817,1018,1042,241,436,835,439,31,371,991,469,475,179,987,372,242,296,866,725,269,133,966,679,1066,787,597],\"xaxis\":\"x\",\"y\":[3354.52,1862.74,2725.38,5354.88,2034.24,4227.57,2579.8199999999997,4271.61,896.5,1717.5500000000002,3730.0,5231.26,6000.5599999999995,318.66,1157.48,3874.42,4753.82,4781.85,2185.8199999999997,922.41,5419.92,4655.07,5158.65,3627.02,1589.81,3549.05,2562.94,6819.57,1785.8700000000001,2549.6800000000003,2005.38,673.0,132.64,3073.2,2587.61,1877.96,4252.77,2696.85,4239.599999999999,3969.3999999999996,6149.78,2402.49,1131.3200000000002,3230.1099999999997,6021.8,5627.83,2870.54,3850.9399999999996,2315.48,3068.83,5699.57,2488.01,5316.46,8040.389999999999,2857.68,3182.94,4536.4,396.34,7073.28,82.36,2138.2599999999998,1639.54,1378.1699999999998,4039.77,7663.7,3799.2799999999997,4090.84,5950.42,2878.69,3125.49,1400.83,2999.59,2060.54,3055.2200000000003,5848.97,2333.06,837.3,995.52,4251.5599999999995,1007.52,3542.48,7572.91,642.8,4441.1,2598.33,2754.68,6604.2300000000005,2135.38,2556.2200000000003,4138.16,3137.66,3015.95,5294.99,1166.97,1284.27,6072.92,137.54,3158.02,6715.72,5003.45,5550.99,6132.360000000001,2462.5499999999997,6579.1,4807.45,2939.3,3623.9199999999996,4848.54,5487.25,942.32,1973.02,1959.51,4812.1,5780.43,3137.1800000000003,2758.6800000000003,4028.27,3434.77,1191.61,2470.02,974.52,5072.55,1400.06,4264.33,2973.96,4565.57,3232.88,773.19,2339.6099999999997,601.36,1943.82,1851.2599999999998,2884.33,2679.28,3135.58,4298.99,3332.5499999999997,5610.25,3703.64,1888.1399999999999,10673.87,2239.04,6044.63,1304.6799999999998,5771.27,2570.8,2948.44,5457.79,4404.78,580.34,223.96,3385.86,4744.79,3703.61,5377.83,7634.45,1876.1,3716.52,2072.41,2926.93,3141.83,4802.24,5775.28,3087.69,6708.1,2405.3500000000004,2300.42,5053.83,4533.32,4931.74,5145.35,2201.7,5808.04,2891.95,6210.53,2331.32,2509.81,2708.83,3652.83,3347.6,4980.7699999999995,3850.2200000000003,3393.18,3424.3199999999997,1761.6399999999999,4612.44,7111.32,2643.21,2983.02,2997.9700000000003,2072.7200000000003,3009.29,3869.17,4036.27,4982.88,1928.65,931.83,1979.28,4758.6],\"yaxis\":\"y\",\"type\":\"scatter\"},{\"hovertemplate\":\"\\u003cb\\u003eLOWESS trendline\\u003c\\u002fb\\u003e\\u003cbr\\u003e\\u003cbr\\u003eCustomer Tenure (Days)=%{x}\\u003cbr\\u003eTotal Spend (USD)=%{y} \\u003cb\\u003e(trend)\\u003c\\u002fb\\u003e\\u003cextra\\u003e\\u003c\\u002fextra\\u003e\",\"legendgroup\":\"\",\"marker\":{\"symbol\":\"circle\"},\"mode\":\"lines\",\"name\":\"\",\"showlegend\":false,\"x\":[31,67,67,71,74,76,76,78,78,78,82,88,93,97,99,107,119,120,121,128,129,129,132,133,133,139,141,146,155,174,177,179,185,188,199,202,202,206,213,220,231,241,242,244,246,254,269,270,286,289,291,292,292,294,296,296,299,301,312,320,327,332,339,343,343,352,355,356,358,358,364,364,366,367,371,372,381,387,391,398,404,407,420,422,435,436,439,442,450,459,464,468,469,469,475,486,489,500,503,528,533,555,572,577,597,600,607,610,625,638,650,652,653,656,657,665,677,679,684,684,685,689,694,696,705,721,723,724,725,727,730,738,746,746,747,772,774,775,776,777,778,787,802,811,817,835,842,845,853,859,863,865,866,868,889,892,897,906,933,936,939,942,955,955,956,966,968,977,987,988,989,991,991,995,998,1012,1015,1018,1018,1018,1025,1027,1029,1036,1042,1045,1050,1051,1051,1058,1061,1066,1068,1074,1080,1080,1083,1091,1102],\"xaxis\":\"x\",\"y\":[3648.0463520095695,3591.5275304069155,3591.5275304069155,3585.2928932087557,3580.6229798820577,3577.512613685247,3577.512613685247,3574.4045847374255,3574.4045847374255,3574.4045847374255,3568.195921826985,3558.9030572412125,3551.1791288387767,3545.013846574892,3541.935945269319,3529.6560837793236,3511.3311288340974,3509.809112378335,3508.287870737761,3497.6611679274297,3496.1462307274805,3496.1462307274805,3491.6062500251537,3490.0945613619547,3490.0945613619547,3481.0422609688667,3478.0318075331716,3470.521757456166,3457.0670728405803,3428.9845328067718,3424.5966491278623,3421.6791106927326,3412.965269903639,3408.631101345271,3392.8779719820927,3388.621693364844,3388.621693364844,3382.974640514021,3373.1710042140444,3363.470694222483,3348.442868137783,3335.0228007362857,3333.6942022718536,3331.044611860756,3328.405341685112,3317.9553681206976,3298.850751583397,3297.600760333492,3278.0199604752615,3274.4380577516927,3272.066203913916,3270.88515821401,3270.88515821401,3268.532925943602,3266.193946974064,3266.193946974064,3262.7105563551027,3260.405089960008,3247.9674084257204,3239.182320120237,3231.6767301991763,3226.4184333423736,3219.1989405212253,3215.1469205839994,3215.1469205839994,3206.2192903806563,3203.2997246484188,3202.3326265957676,3200.407525694156,3200.407525694156,3194.706251143142,3194.706251143142,3192.8312821700642,3191.898773916229,3188.2039134254833,3187.2895058938266,3179.2522824624402,3178.789201737842,3178.4241740236316,3173.297127006539,3169.325437257748,3168.5046426622744,3182.696169731072,3184.520475931256,3193.5107379120786,3194.7570124598783,3198.387242319065,3201.8433847854835,3206.242067114405,3210.998736888858,3215.764155021802,3218.41961998392,3219.294682300404,3219.294682300404,3220.9631004189882,3225.425756683862,3227.5581451285398,3232.695960571343,3235.391747067981,3256.0048769579757,3260.469973416872,3273.36051404982,3284.976843165496,3287.7172778149616,3298.4987097983017,3300.9322956477386,3306.020250741509,3308.8155311231717,3317.5017026616592,3325.8761450653888,3340.6419750424484,3343.255017781335,3343.2915126864305,3344.063034325529,3345.371891945822,3347.8018646833298,3354.4625747433847,3354.7788504863315,3360.4329150941326,3360.4329150941326,3361.6547404358284,3364.8833389339693,3368.1829405672074,3370.436543290139,3376.4042992920313,3385.5748381681233,3387.011384178301,3387.25454173158,3387.5083350166774,3388.0471585860146,3389.2044226714943,3391.9017682134318,3395.040531854658,3395.040531854658,3395.455842920663,3406.683911041618,3407.6167986451587,3408.083855087892,3408.5512360706684,3409.018888583378,3409.4867698039916,3413.7008575553746,3420.693293814064,3424.8506894229563,3427.59992251873,3435.7224207524127,3438.8277899864515,3440.1492298444477,3443.6433826272473,3446.2326977654207,3447.942438044129,3448.792109681711,3449.2156181499486,3450.0599310850803,3458.7050244265715,3459.907609883869,3461.894512498919,3465.4193398999564,3475.682154261053,3476.801752893475,3477.9185449577876,3479.032982528357,3483.8498845626445,3483.8498845626445,3484.220534506345,3487.936982523849,3488.683289088217,3492.059229407139,3495.8540261815247,3496.2365936353835,3496.619775948951,3497.3880273420173,3497.3880273420173,3498.9323608005366,3500.0976614224983,3505.615459650033,3506.8145238742886,3508.019474946819,3508.019474946819,3508.019474946819,3510.8545373317584,3511.670749377554,3512.4897375299197,3515.3785502517817,3517.8832870126103,3519.145756312496,3521.265130278082,3521.6913089660097,3521.6913089660097,3524.696332671216,3525.9960128107427,3528.1779721350877,3529.0562321116104,3531.7096736697226,3534.390638138676,3534.390638138676,3535.7413840729077,3539.377632676441,3544.458748551072],\"yaxis\":\"y\",\"type\":\"scatter\"}],                        {\"template\":{\"data\":{\"barpolar\":[{\"marker\":{\"line\":{\"color\":\"rgb(237,237,237)\",\"width\":0.5},\"pattern\":{\"fillmode\":\"overlay\",\"size\":10,\"solidity\":0.2}},\"type\":\"barpolar\"}],\"bar\":[{\"error_x\":{\"color\":\"rgb(51,51,51)\"},\"error_y\":{\"color\":\"rgb(51,51,51)\"},\"marker\":{\"line\":{\"color\":\"rgb(237,237,237)\",\"width\":0.5},\"pattern\":{\"fillmode\":\"overlay\",\"size\":10,\"solidity\":0.2}},\"type\":\"bar\"}],\"carpet\":[{\"aaxis\":{\"endlinecolor\":\"rgb(51,51,51)\",\"gridcolor\":\"white\",\"linecolor\":\"white\",\"minorgridcolor\":\"white\",\"startlinecolor\":\"rgb(51,51,51)\"},\"baxis\":{\"endlinecolor\":\"rgb(51,51,51)\",\"gridcolor\":\"white\",\"linecolor\":\"white\",\"minorgridcolor\":\"white\",\"startlinecolor\":\"rgb(51,51,51)\"},\"type\":\"carpet\"}],\"choropleth\":[{\"colorbar\":{\"outlinewidth\":0,\"tickcolor\":\"rgb(237,237,237)\",\"ticklen\":6,\"ticks\":\"inside\"},\"type\":\"choropleth\"}],\"contourcarpet\":[{\"colorbar\":{\"outlinewidth\":0,\"tickcolor\":\"rgb(237,237,237)\",\"ticklen\":6,\"ticks\":\"inside\"},\"type\":\"contourcarpet\"}],\"contour\":[{\"colorbar\":{\"outlinewidth\":0,\"tickcolor\":\"rgb(237,237,237)\",\"ticklen\":6,\"ticks\":\"inside\"},\"colorscale\":[[0,\"rgb(20,44,66)\"],[1,\"rgb(90,179,244)\"]],\"type\":\"contour\"}],\"heatmapgl\":[{\"colorbar\":{\"outlinewidth\":0,\"tickcolor\":\"rgb(237,237,237)\",\"ticklen\":6,\"ticks\":\"inside\"},\"colorscale\":[[0,\"rgb(20,44,66)\"],[1,\"rgb(90,179,244)\"]],\"type\":\"heatmapgl\"}],\"heatmap\":[{\"colorbar\":{\"outlinewidth\":0,\"tickcolor\":\"rgb(237,237,237)\",\"ticklen\":6,\"ticks\":\"inside\"},\"colorscale\":[[0,\"rgb(20,44,66)\"],[1,\"rgb(90,179,244)\"]],\"type\":\"heatmap\"}],\"histogram2dcontour\":[{\"colorbar\":{\"outlinewidth\":0,\"tickcolor\":\"rgb(237,237,237)\",\"ticklen\":6,\"ticks\":\"inside\"},\"colorscale\":[[0,\"rgb(20,44,66)\"],[1,\"rgb(90,179,244)\"]],\"type\":\"histogram2dcontour\"}],\"histogram2d\":[{\"colorbar\":{\"outlinewidth\":0,\"tickcolor\":\"rgb(237,237,237)\",\"ticklen\":6,\"ticks\":\"inside\"},\"colorscale\":[[0,\"rgb(20,44,66)\"],[1,\"rgb(90,179,244)\"]],\"type\":\"histogram2d\"}],\"histogram\":[{\"marker\":{\"pattern\":{\"fillmode\":\"overlay\",\"size\":10,\"solidity\":0.2}},\"type\":\"histogram\"}],\"mesh3d\":[{\"colorbar\":{\"outlinewidth\":0,\"tickcolor\":\"rgb(237,237,237)\",\"ticklen\":6,\"ticks\":\"inside\"},\"type\":\"mesh3d\"}],\"parcoords\":[{\"line\":{\"colorbar\":{\"outlinewidth\":0,\"tickcolor\":\"rgb(237,237,237)\",\"ticklen\":6,\"ticks\":\"inside\"}},\"type\":\"parcoords\"}],\"pie\":[{\"automargin\":true,\"type\":\"pie\"}],\"scatter3d\":[{\"line\":{\"colorbar\":{\"outlinewidth\":0,\"tickcolor\":\"rgb(237,237,237)\",\"ticklen\":6,\"ticks\":\"inside\"}},\"marker\":{\"colorbar\":{\"outlinewidth\":0,\"tickcolor\":\"rgb(237,237,237)\",\"ticklen\":6,\"ticks\":\"inside\"}},\"type\":\"scatter3d\"}],\"scattercarpet\":[{\"marker\":{\"colorbar\":{\"outlinewidth\":0,\"tickcolor\":\"rgb(237,237,237)\",\"ticklen\":6,\"ticks\":\"inside\"}},\"type\":\"scattercarpet\"}],\"scattergeo\":[{\"marker\":{\"colorbar\":{\"outlinewidth\":0,\"tickcolor\":\"rgb(237,237,237)\",\"ticklen\":6,\"ticks\":\"inside\"}},\"type\":\"scattergeo\"}],\"scattergl\":[{\"marker\":{\"colorbar\":{\"outlinewidth\":0,\"tickcolor\":\"rgb(237,237,237)\",\"ticklen\":6,\"ticks\":\"inside\"}},\"type\":\"scattergl\"}],\"scattermapbox\":[{\"marker\":{\"colorbar\":{\"outlinewidth\":0,\"tickcolor\":\"rgb(237,237,237)\",\"ticklen\":6,\"ticks\":\"inside\"}},\"type\":\"scattermapbox\"}],\"scatterpolargl\":[{\"marker\":{\"colorbar\":{\"outlinewidth\":0,\"tickcolor\":\"rgb(237,237,237)\",\"ticklen\":6,\"ticks\":\"inside\"}},\"type\":\"scatterpolargl\"}],\"scatterpolar\":[{\"marker\":{\"colorbar\":{\"outlinewidth\":0,\"tickcolor\":\"rgb(237,237,237)\",\"ticklen\":6,\"ticks\":\"inside\"}},\"type\":\"scatterpolar\"}],\"scatter\":[{\"fillpattern\":{\"fillmode\":\"overlay\",\"size\":10,\"solidity\":0.2},\"type\":\"scatter\"}],\"scatterternary\":[{\"marker\":{\"colorbar\":{\"outlinewidth\":0,\"tickcolor\":\"rgb(237,237,237)\",\"ticklen\":6,\"ticks\":\"inside\"}},\"type\":\"scatterternary\"}],\"surface\":[{\"colorbar\":{\"outlinewidth\":0,\"tickcolor\":\"rgb(237,237,237)\",\"ticklen\":6,\"ticks\":\"inside\"},\"colorscale\":[[0,\"rgb(20,44,66)\"],[1,\"rgb(90,179,244)\"]],\"type\":\"surface\"}],\"table\":[{\"cells\":{\"fill\":{\"color\":\"rgb(237,237,237)\"},\"line\":{\"color\":\"white\"}},\"header\":{\"fill\":{\"color\":\"rgb(217,217,217)\"},\"line\":{\"color\":\"white\"}},\"type\":\"table\"}]},\"layout\":{\"annotationdefaults\":{\"arrowhead\":0,\"arrowwidth\":1},\"autotypenumbers\":\"strict\",\"coloraxis\":{\"colorbar\":{\"outlinewidth\":0,\"tickcolor\":\"rgb(237,237,237)\",\"ticklen\":6,\"ticks\":\"inside\"}},\"colorscale\":{\"sequential\":[[0,\"rgb(20,44,66)\"],[1,\"rgb(90,179,244)\"]],\"sequentialminus\":[[0,\"rgb(20,44,66)\"],[1,\"rgb(90,179,244)\"]]},\"colorway\":[\"#F8766D\",\"#A3A500\",\"#00BF7D\",\"#00B0F6\",\"#E76BF3\"],\"font\":{\"color\":\"rgb(51,51,51)\"},\"geo\":{\"bgcolor\":\"white\",\"lakecolor\":\"white\",\"landcolor\":\"rgb(237,237,237)\",\"showlakes\":true,\"showland\":true,\"subunitcolor\":\"white\"},\"hoverlabel\":{\"align\":\"left\"},\"hovermode\":\"closest\",\"paper_bgcolor\":\"white\",\"plot_bgcolor\":\"rgb(237,237,237)\",\"polar\":{\"angularaxis\":{\"gridcolor\":\"white\",\"linecolor\":\"white\",\"showgrid\":true,\"tickcolor\":\"rgb(51,51,51)\",\"ticks\":\"outside\"},\"bgcolor\":\"rgb(237,237,237)\",\"radialaxis\":{\"gridcolor\":\"white\",\"linecolor\":\"white\",\"showgrid\":true,\"tickcolor\":\"rgb(51,51,51)\",\"ticks\":\"outside\"}},\"scene\":{\"xaxis\":{\"backgroundcolor\":\"rgb(237,237,237)\",\"gridcolor\":\"white\",\"gridwidth\":2,\"linecolor\":\"white\",\"showbackground\":true,\"showgrid\":true,\"tickcolor\":\"rgb(51,51,51)\",\"ticks\":\"outside\",\"zerolinecolor\":\"white\"},\"yaxis\":{\"backgroundcolor\":\"rgb(237,237,237)\",\"gridcolor\":\"white\",\"gridwidth\":2,\"linecolor\":\"white\",\"showbackground\":true,\"showgrid\":true,\"tickcolor\":\"rgb(51,51,51)\",\"ticks\":\"outside\",\"zerolinecolor\":\"white\"},\"zaxis\":{\"backgroundcolor\":\"rgb(237,237,237)\",\"gridcolor\":\"white\",\"gridwidth\":2,\"linecolor\":\"white\",\"showbackground\":true,\"showgrid\":true,\"tickcolor\":\"rgb(51,51,51)\",\"ticks\":\"outside\",\"zerolinecolor\":\"white\"}},\"shapedefaults\":{\"fillcolor\":\"black\",\"line\":{\"width\":0},\"opacity\":0.3},\"ternary\":{\"aaxis\":{\"gridcolor\":\"white\",\"linecolor\":\"white\",\"showgrid\":true,\"tickcolor\":\"rgb(51,51,51)\",\"ticks\":\"outside\"},\"baxis\":{\"gridcolor\":\"white\",\"linecolor\":\"white\",\"showgrid\":true,\"tickcolor\":\"rgb(51,51,51)\",\"ticks\":\"outside\"},\"bgcolor\":\"rgb(237,237,237)\",\"caxis\":{\"gridcolor\":\"white\",\"linecolor\":\"white\",\"showgrid\":true,\"tickcolor\":\"rgb(51,51,51)\",\"ticks\":\"outside\"}},\"xaxis\":{\"automargin\":true,\"gridcolor\":\"white\",\"linecolor\":\"white\",\"showgrid\":true,\"tickcolor\":\"rgb(51,51,51)\",\"ticks\":\"outside\",\"title\":{\"standoff\":15},\"zerolinecolor\":\"white\"},\"yaxis\":{\"automargin\":true,\"gridcolor\":\"white\",\"linecolor\":\"white\",\"showgrid\":true,\"tickcolor\":\"rgb(51,51,51)\",\"ticks\":\"outside\",\"title\":{\"standoff\":15},\"zerolinecolor\":\"white\"}}},\"xaxis\":{\"anchor\":\"y\",\"domain\":[0.0,1.0],\"title\":{\"text\":\"Customer Tenure (Days)\"}},\"yaxis\":{\"anchor\":\"x\",\"domain\":[0.0,1.0],\"title\":{\"text\":\"Total Spend (USD)\"}},\"coloraxis\":{\"colorbar\":{\"title\":{\"text\":\"Total Spend (USD)\"}},\"colorscale\":[[0.0,\"#0d0887\"],[0.1111111111111111,\"#46039f\"],[0.2222222222222222,\"#7201a8\"],[0.3333333333333333,\"#9c179e\"],[0.4444444444444444,\"#bd3786\"],[0.5555555555555556,\"#d8576b\"],[0.6666666666666666,\"#ed7953\"],[0.7777777777777778,\"#fb9f3a\"],[0.8888888888888888,\"#fdca26\"],[1.0,\"#f0f921\"]]},\"legend\":{\"tracegroupgap\":0,\"itemsizing\":\"constant\"},\"title\":{\"text\":\"\\u003cb\\u003eCustomer Lifetime Value Analysis\\u003c\\u002fb\\u003e\"},\"showlegend\":false},                        {\"responsive\": true}                    ).then(function(){\n",
       "                            \n",
       "var gd = document.getElementById('1769c72f-d7e6-41f3-bb69-3aeadca9c94c');\n",
       "var x = new MutationObserver(function (mutations, observer) {{\n",
       "        var display = window.getComputedStyle(gd).display;\n",
       "        if (!display || display === 'none') {{\n",
       "            console.log([gd, 'removed!']);\n",
       "            Plotly.purge(gd);\n",
       "            observer.disconnect();\n",
       "        }}\n",
       "}});\n",
       "\n",
       "// Listen for the removal of the full notebook cells\n",
       "var notebookContainer = gd.closest('#notebook-container');\n",
       "if (notebookContainer) {{\n",
       "    x.observe(notebookContainer, {childList: true});\n",
       "}}\n",
       "\n",
       "// Listen for the clearing of the current output cell\n",
       "var outputEl = gd.closest('.output');\n",
       "if (outputEl) {{\n",
       "    x.observe(outputEl, {childList: true});\n",
       "}}\n",
       "\n",
       "                        })                };                });            </script>        </div>"
      ]
     },
     "metadata": {},
     "output_type": "display_data"
    }
   ],
   "source": [
    "# (Bubble Chart)\n",
    "customer_lifetime = df.groupby('CustomerID').agg(\n",
    "    Total_Spend=('TotalValue', 'sum'),\n",
    "    Transaction_Count=('TransactionID', 'nunique'),\n",
    "    Tenure_Days=('SignupDate', lambda x: (pd.Timestamp.today() - x.max()).days)\n",
    ").reset_index()\n",
    "\n",
    "fig4 = px.scatter(customer_lifetime, x='Tenure_Days', y='Total_Spend',\n",
    "                 size='Transaction_Count', color='Total_Spend',\n",
    "                 title='<b>Customer Lifetime Value Analysis</b>',\n",
    "                 labels={'Tenure_Days':'Customer Tenure (Days)', \n",
    "                        'Total_Spend':'Total Spend (USD)'},\n",
    "                 color_continuous_scale='Plasma',\n",
    "                 trendline='lowess',\n",
    "                 template='ggplot2')\n",
    "fig4.update_layout(showlegend=False)\n",
    "fig4.show() "
   ]
  },
  {
   "cell_type": "code",
   "execution_count": 12,
   "metadata": {},
   "outputs": [
    {
     "data": {
      "text/html": [
       "<div>                            <div id=\"40447c44-1cbe-423f-97fc-c091a3d3862d\" class=\"plotly-graph-div\" style=\"height:525px; width:100%;\"></div>            <script type=\"text/javascript\">                require([\"plotly\"], function(Plotly) {                    window.PLOTLYENV=window.PLOTLYENV || {};                                    if (document.getElementById(\"40447c44-1cbe-423f-97fc-c091a3d3862d\")) {                    Plotly.newPlot(                        \"40447c44-1cbe-423f-97fc-c091a3d3862d\",                        [{\"coloraxis\":\"coloraxis\",\"name\":\"0\",\"x\":[0,1,2,3,4,5,6,7,8,9,10,11,12,13,14,15,16,17,18,19,20,21,22,23],\"y\":[\"Friday\",\"Monday\",\"Saturday\",\"Sunday\",\"Thursday\",\"Tuesday\",\"Wednesday\"],\"z\":[[1879.08,3437.4,2197.1800000000003,4348.61,1798.48,1950.6799999999998,2993.55,2156.58,6560.84,6251.96,5798.03,2502.97,4813.139999999999,4449.8,4859.88,1781.08,2533.74,2061.37,4537.68,3244.3900000000003,2764.36,3569.98,3527.2,7014.11],[3075.4800000000005,1933.52,1365.76,2438.55,7376.36,3424.71,3821.17,7052.74,1692.9,2951.0,7098.97,3518.3599999999997,737.96,5758.59,7410.67,5091.37,4048.67,3762.37,5668.26,8493.16,4700.99,2757.23,3415.16,4390.38],[4465.28,4195.36,3201.06,2909.1800000000003,5492.74,2604.42,1590.69,3025.37,2193.0,2157.37,2638.75,4408.849999999999,3997.8,2374.46,2201.14,2024.39,3335.58,4782.17,4706.96,2121.78,4134.68,5190.29,4514.16,3134.2599999999998],[3686.72,1295.19,1730.4,5164.48,5448.84,4289.200000000001,5103.16,3364.01,4330.92,2675.8,2976.2200000000003,3302.52,4657.83,3771.11,6415.48,3960.88,7396.639999999999,3116.9300000000003,4707.17,2706.0,1708.46,3119.17,4959.69,2719.11],[4096.38,2659.6200000000003,4146.4,9971.19,6203.2699999999995,2182.59,1985.3200000000002,3099.8700000000003,1142.48,6868.95,1343.78,2069.12,3771.96,723.55,8208.63,5430.9,4491.52,8654.609999999999,4153.11,5939.74,2784.57,3566.31,2331.66,3377.18],[4075.15,2969.67,7673.92,3448.73,369.09,3989.4399999999996,3284.85,3299.71,2265.7799999999997,7054.8099999999995,3470.7200000000003,6940.85,5498.5599999999995,1757.4399999999998,5314.68,4679.09,5423.19,3614.0200000000004,3440.16,5855.52,2839.88,7053.69,7035.8,7212.860000000001],[3703.09,7100.13,4328.7,3363.2,6458.82,4430.66,5841.62,5448.36,2941.2599999999998,5635.17,3184.87,4575.110000000001,2283.76,3108.96,3913.1200000000003,2421.21,11226.05,7038.780000000001,2497.01,3986.02,7199.8099999999995,5430.0,10171.27,2916.1699999999996]],\"type\":\"heatmap\",\"xaxis\":\"x\",\"yaxis\":\"y\",\"hovertemplate\":\"Hour of Day: %{x}\\u003cbr\\u003eDay of Week: %{y}\\u003cbr\\u003eRevenue: %{z}\\u003cextra\\u003e\\u003c\\u002fextra\\u003e\"}],                        {\"template\":{\"data\":{\"histogram2dcontour\":[{\"type\":\"histogram2dcontour\",\"colorbar\":{\"outlinewidth\":0,\"ticks\":\"\"},\"colorscale\":[[0.0,\"#0d0887\"],[0.1111111111111111,\"#46039f\"],[0.2222222222222222,\"#7201a8\"],[0.3333333333333333,\"#9c179e\"],[0.4444444444444444,\"#bd3786\"],[0.5555555555555556,\"#d8576b\"],[0.6666666666666666,\"#ed7953\"],[0.7777777777777778,\"#fb9f3a\"],[0.8888888888888888,\"#fdca26\"],[1.0,\"#f0f921\"]]}],\"choropleth\":[{\"type\":\"choropleth\",\"colorbar\":{\"outlinewidth\":0,\"ticks\":\"\"}}],\"histogram2d\":[{\"type\":\"histogram2d\",\"colorbar\":{\"outlinewidth\":0,\"ticks\":\"\"},\"colorscale\":[[0.0,\"#0d0887\"],[0.1111111111111111,\"#46039f\"],[0.2222222222222222,\"#7201a8\"],[0.3333333333333333,\"#9c179e\"],[0.4444444444444444,\"#bd3786\"],[0.5555555555555556,\"#d8576b\"],[0.6666666666666666,\"#ed7953\"],[0.7777777777777778,\"#fb9f3a\"],[0.8888888888888888,\"#fdca26\"],[1.0,\"#f0f921\"]]}],\"heatmap\":[{\"type\":\"heatmap\",\"colorbar\":{\"outlinewidth\":0,\"ticks\":\"\"},\"colorscale\":[[0.0,\"#0d0887\"],[0.1111111111111111,\"#46039f\"],[0.2222222222222222,\"#7201a8\"],[0.3333333333333333,\"#9c179e\"],[0.4444444444444444,\"#bd3786\"],[0.5555555555555556,\"#d8576b\"],[0.6666666666666666,\"#ed7953\"],[0.7777777777777778,\"#fb9f3a\"],[0.8888888888888888,\"#fdca26\"],[1.0,\"#f0f921\"]]}],\"heatmapgl\":[{\"type\":\"heatmapgl\",\"colorbar\":{\"outlinewidth\":0,\"ticks\":\"\"},\"colorscale\":[[0.0,\"#0d0887\"],[0.1111111111111111,\"#46039f\"],[0.2222222222222222,\"#7201a8\"],[0.3333333333333333,\"#9c179e\"],[0.4444444444444444,\"#bd3786\"],[0.5555555555555556,\"#d8576b\"],[0.6666666666666666,\"#ed7953\"],[0.7777777777777778,\"#fb9f3a\"],[0.8888888888888888,\"#fdca26\"],[1.0,\"#f0f921\"]]}],\"contourcarpet\":[{\"type\":\"contourcarpet\",\"colorbar\":{\"outlinewidth\":0,\"ticks\":\"\"}}],\"contour\":[{\"type\":\"contour\",\"colorbar\":{\"outlinewidth\":0,\"ticks\":\"\"},\"colorscale\":[[0.0,\"#0d0887\"],[0.1111111111111111,\"#46039f\"],[0.2222222222222222,\"#7201a8\"],[0.3333333333333333,\"#9c179e\"],[0.4444444444444444,\"#bd3786\"],[0.5555555555555556,\"#d8576b\"],[0.6666666666666666,\"#ed7953\"],[0.7777777777777778,\"#fb9f3a\"],[0.8888888888888888,\"#fdca26\"],[1.0,\"#f0f921\"]]}],\"surface\":[{\"type\":\"surface\",\"colorbar\":{\"outlinewidth\":0,\"ticks\":\"\"},\"colorscale\":[[0.0,\"#0d0887\"],[0.1111111111111111,\"#46039f\"],[0.2222222222222222,\"#7201a8\"],[0.3333333333333333,\"#9c179e\"],[0.4444444444444444,\"#bd3786\"],[0.5555555555555556,\"#d8576b\"],[0.6666666666666666,\"#ed7953\"],[0.7777777777777778,\"#fb9f3a\"],[0.8888888888888888,\"#fdca26\"],[1.0,\"#f0f921\"]]}],\"mesh3d\":[{\"type\":\"mesh3d\",\"colorbar\":{\"outlinewidth\":0,\"ticks\":\"\"}}],\"scatter\":[{\"fillpattern\":{\"fillmode\":\"overlay\",\"size\":10,\"solidity\":0.2},\"type\":\"scatter\"}],\"parcoords\":[{\"type\":\"parcoords\",\"line\":{\"colorbar\":{\"outlinewidth\":0,\"ticks\":\"\"}}}],\"scatterpolargl\":[{\"type\":\"scatterpolargl\",\"marker\":{\"colorbar\":{\"outlinewidth\":0,\"ticks\":\"\"}}}],\"bar\":[{\"error_x\":{\"color\":\"#2a3f5f\"},\"error_y\":{\"color\":\"#2a3f5f\"},\"marker\":{\"line\":{\"color\":\"#E5ECF6\",\"width\":0.5},\"pattern\":{\"fillmode\":\"overlay\",\"size\":10,\"solidity\":0.2}},\"type\":\"bar\"}],\"scattergeo\":[{\"type\":\"scattergeo\",\"marker\":{\"colorbar\":{\"outlinewidth\":0,\"ticks\":\"\"}}}],\"scatterpolar\":[{\"type\":\"scatterpolar\",\"marker\":{\"colorbar\":{\"outlinewidth\":0,\"ticks\":\"\"}}}],\"histogram\":[{\"marker\":{\"pattern\":{\"fillmode\":\"overlay\",\"size\":10,\"solidity\":0.2}},\"type\":\"histogram\"}],\"scattergl\":[{\"type\":\"scattergl\",\"marker\":{\"colorbar\":{\"outlinewidth\":0,\"ticks\":\"\"}}}],\"scatter3d\":[{\"type\":\"scatter3d\",\"line\":{\"colorbar\":{\"outlinewidth\":0,\"ticks\":\"\"}},\"marker\":{\"colorbar\":{\"outlinewidth\":0,\"ticks\":\"\"}}}],\"scattermapbox\":[{\"type\":\"scattermapbox\",\"marker\":{\"colorbar\":{\"outlinewidth\":0,\"ticks\":\"\"}}}],\"scatterternary\":[{\"type\":\"scatterternary\",\"marker\":{\"colorbar\":{\"outlinewidth\":0,\"ticks\":\"\"}}}],\"scattercarpet\":[{\"type\":\"scattercarpet\",\"marker\":{\"colorbar\":{\"outlinewidth\":0,\"ticks\":\"\"}}}],\"carpet\":[{\"aaxis\":{\"endlinecolor\":\"#2a3f5f\",\"gridcolor\":\"white\",\"linecolor\":\"white\",\"minorgridcolor\":\"white\",\"startlinecolor\":\"#2a3f5f\"},\"baxis\":{\"endlinecolor\":\"#2a3f5f\",\"gridcolor\":\"white\",\"linecolor\":\"white\",\"minorgridcolor\":\"white\",\"startlinecolor\":\"#2a3f5f\"},\"type\":\"carpet\"}],\"table\":[{\"cells\":{\"fill\":{\"color\":\"#EBF0F8\"},\"line\":{\"color\":\"white\"}},\"header\":{\"fill\":{\"color\":\"#C8D4E3\"},\"line\":{\"color\":\"white\"}},\"type\":\"table\"}],\"barpolar\":[{\"marker\":{\"line\":{\"color\":\"#E5ECF6\",\"width\":0.5},\"pattern\":{\"fillmode\":\"overlay\",\"size\":10,\"solidity\":0.2}},\"type\":\"barpolar\"}],\"pie\":[{\"automargin\":true,\"type\":\"pie\"}]},\"layout\":{\"autotypenumbers\":\"strict\",\"colorway\":[\"#636efa\",\"#EF553B\",\"#00cc96\",\"#ab63fa\",\"#FFA15A\",\"#19d3f3\",\"#FF6692\",\"#B6E880\",\"#FF97FF\",\"#FECB52\"],\"font\":{\"color\":\"#2a3f5f\"},\"hovermode\":\"closest\",\"hoverlabel\":{\"align\":\"left\"},\"paper_bgcolor\":\"white\",\"plot_bgcolor\":\"#E5ECF6\",\"polar\":{\"bgcolor\":\"#E5ECF6\",\"angularaxis\":{\"gridcolor\":\"white\",\"linecolor\":\"white\",\"ticks\":\"\"},\"radialaxis\":{\"gridcolor\":\"white\",\"linecolor\":\"white\",\"ticks\":\"\"}},\"ternary\":{\"bgcolor\":\"#E5ECF6\",\"aaxis\":{\"gridcolor\":\"white\",\"linecolor\":\"white\",\"ticks\":\"\"},\"baxis\":{\"gridcolor\":\"white\",\"linecolor\":\"white\",\"ticks\":\"\"},\"caxis\":{\"gridcolor\":\"white\",\"linecolor\":\"white\",\"ticks\":\"\"}},\"coloraxis\":{\"colorbar\":{\"outlinewidth\":0,\"ticks\":\"\"}},\"colorscale\":{\"sequential\":[[0.0,\"#0d0887\"],[0.1111111111111111,\"#46039f\"],[0.2222222222222222,\"#7201a8\"],[0.3333333333333333,\"#9c179e\"],[0.4444444444444444,\"#bd3786\"],[0.5555555555555556,\"#d8576b\"],[0.6666666666666666,\"#ed7953\"],[0.7777777777777778,\"#fb9f3a\"],[0.8888888888888888,\"#fdca26\"],[1.0,\"#f0f921\"]],\"sequentialminus\":[[0.0,\"#0d0887\"],[0.1111111111111111,\"#46039f\"],[0.2222222222222222,\"#7201a8\"],[0.3333333333333333,\"#9c179e\"],[0.4444444444444444,\"#bd3786\"],[0.5555555555555556,\"#d8576b\"],[0.6666666666666666,\"#ed7953\"],[0.7777777777777778,\"#fb9f3a\"],[0.8888888888888888,\"#fdca26\"],[1.0,\"#f0f921\"]],\"diverging\":[[0,\"#8e0152\"],[0.1,\"#c51b7d\"],[0.2,\"#de77ae\"],[0.3,\"#f1b6da\"],[0.4,\"#fde0ef\"],[0.5,\"#f7f7f7\"],[0.6,\"#e6f5d0\"],[0.7,\"#b8e186\"],[0.8,\"#7fbc41\"],[0.9,\"#4d9221\"],[1,\"#276419\"]]},\"xaxis\":{\"gridcolor\":\"white\",\"linecolor\":\"white\",\"ticks\":\"\",\"title\":{\"standoff\":15},\"zerolinecolor\":\"white\",\"automargin\":true,\"zerolinewidth\":2},\"yaxis\":{\"gridcolor\":\"white\",\"linecolor\":\"white\",\"ticks\":\"\",\"title\":{\"standoff\":15},\"zerolinecolor\":\"white\",\"automargin\":true,\"zerolinewidth\":2},\"scene\":{\"xaxis\":{\"backgroundcolor\":\"#E5ECF6\",\"gridcolor\":\"white\",\"linecolor\":\"white\",\"showbackground\":true,\"ticks\":\"\",\"zerolinecolor\":\"white\",\"gridwidth\":2},\"yaxis\":{\"backgroundcolor\":\"#E5ECF6\",\"gridcolor\":\"white\",\"linecolor\":\"white\",\"showbackground\":true,\"ticks\":\"\",\"zerolinecolor\":\"white\",\"gridwidth\":2},\"zaxis\":{\"backgroundcolor\":\"#E5ECF6\",\"gridcolor\":\"white\",\"linecolor\":\"white\",\"showbackground\":true,\"ticks\":\"\",\"zerolinecolor\":\"white\",\"gridwidth\":2}},\"shapedefaults\":{\"line\":{\"color\":\"#2a3f5f\"}},\"annotationdefaults\":{\"arrowcolor\":\"#2a3f5f\",\"arrowhead\":0,\"arrowwidth\":1},\"geo\":{\"bgcolor\":\"white\",\"landcolor\":\"#E5ECF6\",\"subunitcolor\":\"white\",\"showland\":true,\"showlakes\":true,\"lakecolor\":\"white\"},\"title\":{\"x\":0.05},\"mapbox\":{\"style\":\"light\"}}},\"xaxis\":{\"anchor\":\"y\",\"domain\":[0.0,1.0],\"scaleanchor\":\"y\",\"constrain\":\"domain\",\"title\":{\"text\":\"Hour of Day\"},\"nticks\":24},\"yaxis\":{\"anchor\":\"x\",\"domain\":[0.0,1.0],\"autorange\":\"reversed\",\"constrain\":\"domain\",\"title\":{\"text\":\"Day of Week\"},\"categoryorder\":\"array\",\"categoryarray\":[\"Monday\",\"Tuesday\",\"Wednesday\",\"Thursday\",\"Friday\",\"Saturday\",\"Sunday\"]},\"coloraxis\":{\"colorbar\":{\"title\":{\"text\":\"Revenue\"}},\"colorscale\":[[0.0,\"#0d0887\"],[0.1111111111111111,\"#46039f\"],[0.2222222222222222,\"#7201a8\"],[0.3333333333333333,\"#9c179e\"],[0.4444444444444444,\"#bd3786\"],[0.5555555555555556,\"#d8576b\"],[0.6666666666666666,\"#ed7953\"],[0.7777777777777778,\"#fb9f3a\"],[0.8888888888888888,\"#fdca26\"],[1.0,\"#f0f921\"]]},\"title\":{\"text\":\"\\u003cb\\u003eTransaction Value Heatmap by Time\\u003c\\u002fb\\u003e\"}},                        {\"responsive\": true}                    ).then(function(){\n",
       "                            \n",
       "var gd = document.getElementById('40447c44-1cbe-423f-97fc-c091a3d3862d');\n",
       "var x = new MutationObserver(function (mutations, observer) {{\n",
       "        var display = window.getComputedStyle(gd).display;\n",
       "        if (!display || display === 'none') {{\n",
       "            console.log([gd, 'removed!']);\n",
       "            Plotly.purge(gd);\n",
       "            observer.disconnect();\n",
       "        }}\n",
       "}});\n",
       "\n",
       "// Listen for the removal of the full notebook cells\n",
       "var notebookContainer = gd.closest('#notebook-container');\n",
       "if (notebookContainer) {{\n",
       "    x.observe(notebookContainer, {childList: true});\n",
       "}}\n",
       "\n",
       "// Listen for the clearing of the current output cell\n",
       "var outputEl = gd.closest('.output');\n",
       "if (outputEl) {{\n",
       "    x.observe(outputEl, {childList: true});\n",
       "}}\n",
       "\n",
       "                        })                };                });            </script>        </div>"
      ]
     },
     "metadata": {},
     "output_type": "display_data"
    }
   ],
   "source": [
    "# (Calendar Visualization)\n",
    "df['TransactionHour'] = df['TransactionDate'].dt.hour\n",
    "df['TransactionDay'] = df['TransactionDate'].dt.day_name()\n",
    "heatmap_data = df.groupby(['TransactionDay', 'TransactionHour'])['TotalValue'].sum().unstack()\n",
    "\n",
    "fig5 = px.imshow(heatmap_data, \n",
    "                labels=dict(x=\"Hour of Day\", y=\"Day of Week\", color=\"Revenue\"),\n",
    "                title='<b>Transaction Value Heatmap by Time</b>',\n",
    "                color_continuous_scale='Plasma')\n",
    "\n",
    "fig5.update_layout(xaxis_nticks=24, yaxis={'categoryorder':'array','categoryarray':['Monday','Tuesday','Wednesday','Thursday','Friday','Saturday','Sunday']})\n",
    "fig5.show()"
   ]
  },
  {
   "cell_type": "markdown",
   "metadata": {},
   "source": [
    "### Insights and Observations 6: Revenue Distribution by Continent (Choropleth Map)\n",
    "\n",
    "1. This chart provides a visual representation of the revenue distribution across different continents.\n",
    "\n",
    "2. The map is color-coded to indicate the revenue generated in each continent."
   ]
  },
  {
   "cell_type": "code",
   "execution_count": 13,
   "metadata": {},
   "outputs": [
    {
     "data": {
      "text/html": [
       "<div>\n",
       "<style scoped>\n",
       "    .dataframe tbody tr th:only-of-type {\n",
       "        vertical-align: middle;\n",
       "    }\n",
       "\n",
       "    .dataframe tbody tr th {\n",
       "        vertical-align: top;\n",
       "    }\n",
       "\n",
       "    .dataframe thead th {\n",
       "        text-align: right;\n",
       "    }\n",
       "</style>\n",
       "<table border=\"1\" class=\"dataframe\">\n",
       "  <thead>\n",
       "    <tr style=\"text-align: right;\">\n",
       "      <th></th>\n",
       "      <th>Region</th>\n",
       "      <th>Country</th>\n",
       "    </tr>\n",
       "  </thead>\n",
       "  <tbody>\n",
       "    <tr>\n",
       "      <th>count</th>\n",
       "      <td>23</td>\n",
       "      <td>23</td>\n",
       "    </tr>\n",
       "    <tr>\n",
       "      <th>unique</th>\n",
       "      <td>5</td>\n",
       "      <td>23</td>\n",
       "    </tr>\n",
       "    <tr>\n",
       "      <th>top</th>\n",
       "      <td>South America</td>\n",
       "      <td>Argentina</td>\n",
       "    </tr>\n",
       "    <tr>\n",
       "      <th>freq</th>\n",
       "      <td>5</td>\n",
       "      <td>1</td>\n",
       "    </tr>\n",
       "  </tbody>\n",
       "</table>\n",
       "</div>"
      ],
      "text/plain": [
       "               Region    Country\n",
       "count              23         23\n",
       "unique              5         23\n",
       "top     South America  Argentina\n",
       "freq                5          1"
      ]
     },
     "execution_count": 13,
     "metadata": {},
     "output_type": "execute_result"
    }
   ],
   "source": [
    "continent_to_countries = {\n",
    "    'South America': ['Argentina', 'Brazil', 'Chile', 'Colombia', 'Peru'],\n",
    "    'Asia': ['China', 'India', 'Japan', 'South Korea', 'Vietnam'],\n",
    "    'North America': ['United States', 'Canada', 'Mexico'],\n",
    "    'Europe': ['Germany', 'France', 'United Kingdom', 'Italy', 'Spain'],\n",
    "    'Africa': ['Nigeria', 'South Africa', 'Kenya', 'Egypt', 'Morocco'],\n",
    "}\n",
    "country_data = []\n",
    "for region, countries in continent_to_countries.items():\n",
    "    for country in countries:\n",
    "        row = {\n",
    "            'Region': region,\n",
    "            'Country': country\n",
    "        }\n",
    "        country_data.append(row)\n",
    "country_df = pd.DataFrame(country_data)\n",
    "country_df.describe()"
   ]
  },
  {
   "cell_type": "code",
   "execution_count": 14,
   "metadata": {},
   "outputs": [
    {
     "name": "stdout",
     "output_type": "stream",
     "text": [
      "<class 'pandas.core.frame.DataFrame'>\n",
      "RangeIndex: 23 entries, 0 to 22\n",
      "Data columns (total 5 columns):\n",
      " #   Column         Non-Null Count  Dtype  \n",
      "---  ------         --------------  -----  \n",
      " 0   Region         23 non-null     object \n",
      " 1   Country        23 non-null     object \n",
      " 2   TotalRevenue   18 non-null     float64\n",
      " 3   AvgOrderValue  18 non-null     float64\n",
      " 4   CustomerCount  18 non-null     float64\n",
      "dtypes: float64(3), object(2)\n",
      "memory usage: 1.0+ KB\n"
     ]
    }
   ],
   "source": [
    "continent_df = df.groupby('Region').agg(\n",
    "    TotalRevenue=('TotalValue', 'sum'),\n",
    "    AvgOrderValue=('TotalValue', 'mean'),\n",
    "    CustomerCount=('CustomerID', 'nunique')\n",
    ").reset_index()\n",
    "\n",
    "choropleth_df = country_df.merge(continent_df, on='Region', how='left')\n",
    "choropleth_df.info()"
   ]
  },
  {
   "cell_type": "code",
   "execution_count": 15,
   "metadata": {},
   "outputs": [
    {
     "data": {
      "text/html": [
       "<div>                            <div id=\"063e27ab-9d3f-4048-9f0c-a5f570a1ff6d\" class=\"plotly-graph-div\" style=\"height:600px; width:100%;\"></div>            <script type=\"text/javascript\">                require([\"plotly\"], function(Plotly) {                    window.PLOTLYENV=window.PLOTLYENV || {};                                    if (document.getElementById(\"063e27ab-9d3f-4048-9f0c-a5f570a1ff6d\")) {                    Plotly.newPlot(                        \"063e27ab-9d3f-4048-9f0c-a5f570a1ff6d\",                        [{\"coloraxis\":\"coloraxis\",\"customdata\":[[\"South America\",721.5544736842105,59.0],[\"South America\",721.5544736842105,59.0],[\"South America\",721.5544736842105,59.0],[\"South America\",721.5544736842105,59.0],[\"South America\",721.5544736842105,59.0],[\"Asia\",697.5916055045872,44.0],[\"Asia\",697.5916055045872,44.0],[\"Asia\",697.5916055045872,44.0],[\"Asia\",697.5916055045872,44.0],[\"Asia\",697.5916055045872,44.0],[\"North America\",624.2352459016394,46.0],[\"North America\",624.2352459016394,46.0],[\"North America\",624.2352459016394,46.0],[\"Europe\",710.4898717948718,50.0],[\"Europe\",710.4898717948718,50.0],[\"Europe\",710.4898717948718,50.0],[\"Europe\",710.4898717948718,50.0],[\"Europe\",710.4898717948718,50.0],[\"Africa\",null,null],[\"Africa\",null,null],[\"Africa\",null,null],[\"Africa\",null,null],[\"Africa\",null,null]],\"geo\":\"geo\",\"hovertemplate\":\"\\u003cb\\u003e%{hovertext}\\u003c\\u002fb\\u003e\\u003cbr\\u003e\\u003cbr\\u003eCountry=%{location}\\u003cbr\\u003eRegion=%{customdata[0]}\\u003cbr\\u003eAvgOrderValue=%{customdata[1]}\\u003cbr\\u003eCustomerCount=%{customdata[2]}\\u003cbr\\u003eTotalRevenue=%{z}\\u003cextra\\u003e\\u003c\\u002fextra\\u003e\",\"hovertext\":[\"Argentina\",\"Brazil\",\"Chile\",\"Colombia\",\"Peru\",\"China\",\"India\",\"Japan\",\"South Korea\",\"Vietnam\",\"United States\",\"Canada\",\"Mexico\",\"Germany\",\"France\",\"United Kingdom\",\"Italy\",\"Spain\",\"Nigeria\",\"South Africa\",\"Kenya\",\"Egypt\",\"Morocco\"],\"locationmode\":\"country names\",\"locations\":[\"Argentina\",\"Brazil\",\"Chile\",\"Colombia\",\"Peru\",\"China\",\"India\",\"Japan\",\"South Korea\",\"Vietnam\",\"United States\",\"Canada\",\"Mexico\",\"Germany\",\"France\",\"United Kingdom\",\"Italy\",\"Spain\",\"Nigeria\",\"South Africa\",\"Kenya\",\"Egypt\",\"Morocco\"],\"name\":\"\",\"z\":[219352.56,219352.56,219352.56,219352.56,219352.56,152074.97,152074.97,152074.97,152074.97,152074.97,152313.4,152313.4,152313.4,166254.63,166254.63,166254.63,166254.63,166254.63,null,null,null,null,null],\"type\":\"choropleth\"}],                        {\"template\":{\"data\":{\"histogram2dcontour\":[{\"type\":\"histogram2dcontour\",\"colorbar\":{\"outlinewidth\":0,\"ticks\":\"\"},\"colorscale\":[[0.0,\"#0d0887\"],[0.1111111111111111,\"#46039f\"],[0.2222222222222222,\"#7201a8\"],[0.3333333333333333,\"#9c179e\"],[0.4444444444444444,\"#bd3786\"],[0.5555555555555556,\"#d8576b\"],[0.6666666666666666,\"#ed7953\"],[0.7777777777777778,\"#fb9f3a\"],[0.8888888888888888,\"#fdca26\"],[1.0,\"#f0f921\"]]}],\"choropleth\":[{\"type\":\"choropleth\",\"colorbar\":{\"outlinewidth\":0,\"ticks\":\"\"}}],\"histogram2d\":[{\"type\":\"histogram2d\",\"colorbar\":{\"outlinewidth\":0,\"ticks\":\"\"},\"colorscale\":[[0.0,\"#0d0887\"],[0.1111111111111111,\"#46039f\"],[0.2222222222222222,\"#7201a8\"],[0.3333333333333333,\"#9c179e\"],[0.4444444444444444,\"#bd3786\"],[0.5555555555555556,\"#d8576b\"],[0.6666666666666666,\"#ed7953\"],[0.7777777777777778,\"#fb9f3a\"],[0.8888888888888888,\"#fdca26\"],[1.0,\"#f0f921\"]]}],\"heatmap\":[{\"type\":\"heatmap\",\"colorbar\":{\"outlinewidth\":0,\"ticks\":\"\"},\"colorscale\":[[0.0,\"#0d0887\"],[0.1111111111111111,\"#46039f\"],[0.2222222222222222,\"#7201a8\"],[0.3333333333333333,\"#9c179e\"],[0.4444444444444444,\"#bd3786\"],[0.5555555555555556,\"#d8576b\"],[0.6666666666666666,\"#ed7953\"],[0.7777777777777778,\"#fb9f3a\"],[0.8888888888888888,\"#fdca26\"],[1.0,\"#f0f921\"]]}],\"heatmapgl\":[{\"type\":\"heatmapgl\",\"colorbar\":{\"outlinewidth\":0,\"ticks\":\"\"},\"colorscale\":[[0.0,\"#0d0887\"],[0.1111111111111111,\"#46039f\"],[0.2222222222222222,\"#7201a8\"],[0.3333333333333333,\"#9c179e\"],[0.4444444444444444,\"#bd3786\"],[0.5555555555555556,\"#d8576b\"],[0.6666666666666666,\"#ed7953\"],[0.7777777777777778,\"#fb9f3a\"],[0.8888888888888888,\"#fdca26\"],[1.0,\"#f0f921\"]]}],\"contourcarpet\":[{\"type\":\"contourcarpet\",\"colorbar\":{\"outlinewidth\":0,\"ticks\":\"\"}}],\"contour\":[{\"type\":\"contour\",\"colorbar\":{\"outlinewidth\":0,\"ticks\":\"\"},\"colorscale\":[[0.0,\"#0d0887\"],[0.1111111111111111,\"#46039f\"],[0.2222222222222222,\"#7201a8\"],[0.3333333333333333,\"#9c179e\"],[0.4444444444444444,\"#bd3786\"],[0.5555555555555556,\"#d8576b\"],[0.6666666666666666,\"#ed7953\"],[0.7777777777777778,\"#fb9f3a\"],[0.8888888888888888,\"#fdca26\"],[1.0,\"#f0f921\"]]}],\"surface\":[{\"type\":\"surface\",\"colorbar\":{\"outlinewidth\":0,\"ticks\":\"\"},\"colorscale\":[[0.0,\"#0d0887\"],[0.1111111111111111,\"#46039f\"],[0.2222222222222222,\"#7201a8\"],[0.3333333333333333,\"#9c179e\"],[0.4444444444444444,\"#bd3786\"],[0.5555555555555556,\"#d8576b\"],[0.6666666666666666,\"#ed7953\"],[0.7777777777777778,\"#fb9f3a\"],[0.8888888888888888,\"#fdca26\"],[1.0,\"#f0f921\"]]}],\"mesh3d\":[{\"type\":\"mesh3d\",\"colorbar\":{\"outlinewidth\":0,\"ticks\":\"\"}}],\"scatter\":[{\"fillpattern\":{\"fillmode\":\"overlay\",\"size\":10,\"solidity\":0.2},\"type\":\"scatter\"}],\"parcoords\":[{\"type\":\"parcoords\",\"line\":{\"colorbar\":{\"outlinewidth\":0,\"ticks\":\"\"}}}],\"scatterpolargl\":[{\"type\":\"scatterpolargl\",\"marker\":{\"colorbar\":{\"outlinewidth\":0,\"ticks\":\"\"}}}],\"bar\":[{\"error_x\":{\"color\":\"#2a3f5f\"},\"error_y\":{\"color\":\"#2a3f5f\"},\"marker\":{\"line\":{\"color\":\"#E5ECF6\",\"width\":0.5},\"pattern\":{\"fillmode\":\"overlay\",\"size\":10,\"solidity\":0.2}},\"type\":\"bar\"}],\"scattergeo\":[{\"type\":\"scattergeo\",\"marker\":{\"colorbar\":{\"outlinewidth\":0,\"ticks\":\"\"}}}],\"scatterpolar\":[{\"type\":\"scatterpolar\",\"marker\":{\"colorbar\":{\"outlinewidth\":0,\"ticks\":\"\"}}}],\"histogram\":[{\"marker\":{\"pattern\":{\"fillmode\":\"overlay\",\"size\":10,\"solidity\":0.2}},\"type\":\"histogram\"}],\"scattergl\":[{\"type\":\"scattergl\",\"marker\":{\"colorbar\":{\"outlinewidth\":0,\"ticks\":\"\"}}}],\"scatter3d\":[{\"type\":\"scatter3d\",\"line\":{\"colorbar\":{\"outlinewidth\":0,\"ticks\":\"\"}},\"marker\":{\"colorbar\":{\"outlinewidth\":0,\"ticks\":\"\"}}}],\"scattermapbox\":[{\"type\":\"scattermapbox\",\"marker\":{\"colorbar\":{\"outlinewidth\":0,\"ticks\":\"\"}}}],\"scatterternary\":[{\"type\":\"scatterternary\",\"marker\":{\"colorbar\":{\"outlinewidth\":0,\"ticks\":\"\"}}}],\"scattercarpet\":[{\"type\":\"scattercarpet\",\"marker\":{\"colorbar\":{\"outlinewidth\":0,\"ticks\":\"\"}}}],\"carpet\":[{\"aaxis\":{\"endlinecolor\":\"#2a3f5f\",\"gridcolor\":\"white\",\"linecolor\":\"white\",\"minorgridcolor\":\"white\",\"startlinecolor\":\"#2a3f5f\"},\"baxis\":{\"endlinecolor\":\"#2a3f5f\",\"gridcolor\":\"white\",\"linecolor\":\"white\",\"minorgridcolor\":\"white\",\"startlinecolor\":\"#2a3f5f\"},\"type\":\"carpet\"}],\"table\":[{\"cells\":{\"fill\":{\"color\":\"#EBF0F8\"},\"line\":{\"color\":\"white\"}},\"header\":{\"fill\":{\"color\":\"#C8D4E3\"},\"line\":{\"color\":\"white\"}},\"type\":\"table\"}],\"barpolar\":[{\"marker\":{\"line\":{\"color\":\"#E5ECF6\",\"width\":0.5},\"pattern\":{\"fillmode\":\"overlay\",\"size\":10,\"solidity\":0.2}},\"type\":\"barpolar\"}],\"pie\":[{\"automargin\":true,\"type\":\"pie\"}]},\"layout\":{\"autotypenumbers\":\"strict\",\"colorway\":[\"#636efa\",\"#EF553B\",\"#00cc96\",\"#ab63fa\",\"#FFA15A\",\"#19d3f3\",\"#FF6692\",\"#B6E880\",\"#FF97FF\",\"#FECB52\"],\"font\":{\"color\":\"#2a3f5f\"},\"hovermode\":\"closest\",\"hoverlabel\":{\"align\":\"left\"},\"paper_bgcolor\":\"white\",\"plot_bgcolor\":\"#E5ECF6\",\"polar\":{\"bgcolor\":\"#E5ECF6\",\"angularaxis\":{\"gridcolor\":\"white\",\"linecolor\":\"white\",\"ticks\":\"\"},\"radialaxis\":{\"gridcolor\":\"white\",\"linecolor\":\"white\",\"ticks\":\"\"}},\"ternary\":{\"bgcolor\":\"#E5ECF6\",\"aaxis\":{\"gridcolor\":\"white\",\"linecolor\":\"white\",\"ticks\":\"\"},\"baxis\":{\"gridcolor\":\"white\",\"linecolor\":\"white\",\"ticks\":\"\"},\"caxis\":{\"gridcolor\":\"white\",\"linecolor\":\"white\",\"ticks\":\"\"}},\"coloraxis\":{\"colorbar\":{\"outlinewidth\":0,\"ticks\":\"\"}},\"colorscale\":{\"sequential\":[[0.0,\"#0d0887\"],[0.1111111111111111,\"#46039f\"],[0.2222222222222222,\"#7201a8\"],[0.3333333333333333,\"#9c179e\"],[0.4444444444444444,\"#bd3786\"],[0.5555555555555556,\"#d8576b\"],[0.6666666666666666,\"#ed7953\"],[0.7777777777777778,\"#fb9f3a\"],[0.8888888888888888,\"#fdca26\"],[1.0,\"#f0f921\"]],\"sequentialminus\":[[0.0,\"#0d0887\"],[0.1111111111111111,\"#46039f\"],[0.2222222222222222,\"#7201a8\"],[0.3333333333333333,\"#9c179e\"],[0.4444444444444444,\"#bd3786\"],[0.5555555555555556,\"#d8576b\"],[0.6666666666666666,\"#ed7953\"],[0.7777777777777778,\"#fb9f3a\"],[0.8888888888888888,\"#fdca26\"],[1.0,\"#f0f921\"]],\"diverging\":[[0,\"#8e0152\"],[0.1,\"#c51b7d\"],[0.2,\"#de77ae\"],[0.3,\"#f1b6da\"],[0.4,\"#fde0ef\"],[0.5,\"#f7f7f7\"],[0.6,\"#e6f5d0\"],[0.7,\"#b8e186\"],[0.8,\"#7fbc41\"],[0.9,\"#4d9221\"],[1,\"#276419\"]]},\"xaxis\":{\"gridcolor\":\"white\",\"linecolor\":\"white\",\"ticks\":\"\",\"title\":{\"standoff\":15},\"zerolinecolor\":\"white\",\"automargin\":true,\"zerolinewidth\":2},\"yaxis\":{\"gridcolor\":\"white\",\"linecolor\":\"white\",\"ticks\":\"\",\"title\":{\"standoff\":15},\"zerolinecolor\":\"white\",\"automargin\":true,\"zerolinewidth\":2},\"scene\":{\"xaxis\":{\"backgroundcolor\":\"#E5ECF6\",\"gridcolor\":\"white\",\"linecolor\":\"white\",\"showbackground\":true,\"ticks\":\"\",\"zerolinecolor\":\"white\",\"gridwidth\":2},\"yaxis\":{\"backgroundcolor\":\"#E5ECF6\",\"gridcolor\":\"white\",\"linecolor\":\"white\",\"showbackground\":true,\"ticks\":\"\",\"zerolinecolor\":\"white\",\"gridwidth\":2},\"zaxis\":{\"backgroundcolor\":\"#E5ECF6\",\"gridcolor\":\"white\",\"linecolor\":\"white\",\"showbackground\":true,\"ticks\":\"\",\"zerolinecolor\":\"white\",\"gridwidth\":2}},\"shapedefaults\":{\"line\":{\"color\":\"#2a3f5f\"}},\"annotationdefaults\":{\"arrowcolor\":\"#2a3f5f\",\"arrowhead\":0,\"arrowwidth\":1},\"geo\":{\"bgcolor\":\"white\",\"landcolor\":\"#E5ECF6\",\"subunitcolor\":\"white\",\"showland\":true,\"showlakes\":true,\"lakecolor\":\"white\"},\"title\":{\"x\":0.05},\"mapbox\":{\"style\":\"light\"}}},\"geo\":{\"domain\":{\"x\":[0.0,1.0],\"y\":[0.0,1.0]},\"projection\":{\"type\":\"natural earth\"},\"center\":{},\"scope\":\"world\",\"showcountries\":true,\"showcoastlines\":true},\"coloraxis\":{\"colorbar\":{\"title\":{\"text\":\"TotalRevenue\"}},\"colorscale\":[[0.0,\"#440154\"],[0.1111111111111111,\"#482878\"],[0.2222222222222222,\"#3e4989\"],[0.3333333333333333,\"#31688e\"],[0.4444444444444444,\"#26828e\"],[0.5555555555555556,\"#1f9e89\"],[0.6666666666666666,\"#35b779\"],[0.7777777777777778,\"#6ece58\"],[0.8888888888888888,\"#b5de2b\"],[1.0,\"#fde725\"]]},\"legend\":{\"tracegroupgap\":0},\"title\":{\"text\":\"\\u003cb\\u003eRevenue Distribution by Continent\\u003c\\u002fb\\u003e\"},\"height\":600},                        {\"responsive\": true}                    ).then(function(){\n",
       "                            \n",
       "var gd = document.getElementById('063e27ab-9d3f-4048-9f0c-a5f570a1ff6d');\n",
       "var x = new MutationObserver(function (mutations, observer) {{\n",
       "        var display = window.getComputedStyle(gd).display;\n",
       "        if (!display || display === 'none') {{\n",
       "            console.log([gd, 'removed!']);\n",
       "            Plotly.purge(gd);\n",
       "            observer.disconnect();\n",
       "        }}\n",
       "}});\n",
       "\n",
       "// Listen for the removal of the full notebook cells\n",
       "var notebookContainer = gd.closest('#notebook-container');\n",
       "if (notebookContainer) {{\n",
       "    x.observe(notebookContainer, {childList: true});\n",
       "}}\n",
       "\n",
       "// Listen for the clearing of the current output cell\n",
       "var outputEl = gd.closest('.output');\n",
       "if (outputEl) {{\n",
       "    x.observe(outputEl, {childList: true});\n",
       "}}\n",
       "\n",
       "                        })                };                });            </script>        </div>"
      ]
     },
     "metadata": {},
     "output_type": "display_data"
    }
   ],
   "source": [
    "# Create the choropleth map (Choropleth Map)\n",
    "fig = px.choropleth(\n",
    "    choropleth_df,\n",
    "    locations=\"Country\",\n",
    "    locationmode=\"country names\",\n",
    "    color=\"TotalRevenue\",\n",
    "    hover_name=\"Country\",\n",
    "    hover_data=[\"Region\", \"AvgOrderValue\", \"CustomerCount\"],\n",
    "    projection=\"natural earth\",\n",
    "    title=\"<b>Revenue Distribution by Continent</b>\",\n",
    "    color_continuous_scale='Viridis',\n",
    "    scope='world',\n",
    "    height=600\n",
    ")\n",
    "fig.update_geos(showcountries=True, showcoastlines=True)\n",
    "fig.show()"
   ]
  },
  {
   "cell_type": "markdown",
   "metadata": {},
   "source": [
    "### Insights and Observations 7: Price Elasticity Analysis (Bar & Line Chart)\n",
    "\n",
    "1. This chart shows the relationship between the price of the product and the quantity sold.\n",
    "\n",
    "2. The chart shows that as the price of the product increases, the quantity sold decreases.\n",
    "\n",
    "3. This insight can be used to determine the optimal price point for the products.\n"
   ]
  },
  {
   "cell_type": "code",
   "execution_count": 16,
   "metadata": {},
   "outputs": [
    {
     "name": "stdout",
     "output_type": "stream",
     "text": [
      "<class 'pandas.core.frame.DataFrame'>\n",
      "RangeIndex: 10 entries, 0 to 9\n",
      "Data columns (total 4 columns):\n",
      " #   Column         Non-Null Count  Dtype   \n",
      "---  ------         --------------  -----   \n",
      " 0   Price_x        10 non-null     category\n",
      " 1   AvgPrice       10 non-null     float64 \n",
      " 2   TotalQuantity  10 non-null     int64   \n",
      " 3   TotalRevenue   10 non-null     float64 \n",
      "dtypes: category(1), float64(2), int64(1)\n",
      "memory usage: 838.0 bytes\n"
     ]
    }
   ],
   "source": [
    "price_elasticity = df.groupby(pd.qcut(df['Price_x'], 10)).agg(\n",
    "    AvgPrice=('Price_x', 'mean'),\n",
    "    TotalQuantity=('Quantity', 'sum'),\n",
    "    TotalRevenue=('TotalValue', 'sum')\n",
    ").reset_index()\n",
    "\n",
    "price_elasticity.info()"
   ]
  },
  {
   "cell_type": "code",
   "execution_count": 17,
   "metadata": {},
   "outputs": [
    {
     "data": {
      "text/html": [
       "<div>                            <div id=\"d553ba15-fdef-4dce-8aa0-fefcb6134985\" class=\"plotly-graph-div\" style=\"height:525px; width:100%;\"></div>            <script type=\"text/javascript\">                require([\"plotly\"], function(Plotly) {                    window.PLOTLYENV=window.PLOTLYENV || {};                                    if (document.getElementById(\"d553ba15-fdef-4dce-8aa0-fefcb6134985\")) {                    Plotly.newPlot(                        \"d553ba15-fdef-4dce-8aa0-fefcb6134985\",                        [{\"marker\":{\"color\":\"#636EFA\"},\"name\":\"Quantity Sold\",\"x\":[40.944476190476195,100.40773195876288,150.0049504950495,197.99848484848488,274.4963725490196,312.57455445544554,356.73099009900994,405.81572916666664,434.7302040816326,466.02639999999997],\"y\":[282,242,245,259,263,233,251,272,252,238],\"type\":\"bar\"},{\"line\":{\"color\":\"#EF553B\",\"width\":3},\"mode\":\"lines+markers\",\"name\":\"Revenue\",\"x\":[40.944476190476195,100.40773195876288,150.0049504950495,197.99848484848488,274.4963725490196,312.57455445544554,356.73099009900994,405.81572916666664,434.7302040816326,466.02639999999997],\"y\":[11514.69,24225.739999999998,36796.44,52517.020000000004,71933.43,72901.91,89486.0,110216.93,109506.5,110896.9],\"yaxis\":\"y2\",\"type\":\"scatter\"}],                        {\"template\":{\"data\":{\"barpolar\":[{\"marker\":{\"line\":{\"color\":\"white\",\"width\":0.5},\"pattern\":{\"fillmode\":\"overlay\",\"size\":10,\"solidity\":0.2}},\"type\":\"barpolar\"}],\"bar\":[{\"error_x\":{\"color\":\"#2a3f5f\"},\"error_y\":{\"color\":\"#2a3f5f\"},\"marker\":{\"line\":{\"color\":\"white\",\"width\":0.5},\"pattern\":{\"fillmode\":\"overlay\",\"size\":10,\"solidity\":0.2}},\"type\":\"bar\"}],\"carpet\":[{\"aaxis\":{\"endlinecolor\":\"#2a3f5f\",\"gridcolor\":\"#C8D4E3\",\"linecolor\":\"#C8D4E3\",\"minorgridcolor\":\"#C8D4E3\",\"startlinecolor\":\"#2a3f5f\"},\"baxis\":{\"endlinecolor\":\"#2a3f5f\",\"gridcolor\":\"#C8D4E3\",\"linecolor\":\"#C8D4E3\",\"minorgridcolor\":\"#C8D4E3\",\"startlinecolor\":\"#2a3f5f\"},\"type\":\"carpet\"}],\"choropleth\":[{\"colorbar\":{\"outlinewidth\":0,\"ticks\":\"\"},\"type\":\"choropleth\"}],\"contourcarpet\":[{\"colorbar\":{\"outlinewidth\":0,\"ticks\":\"\"},\"type\":\"contourcarpet\"}],\"contour\":[{\"colorbar\":{\"outlinewidth\":0,\"ticks\":\"\"},\"colorscale\":[[0.0,\"#0d0887\"],[0.1111111111111111,\"#46039f\"],[0.2222222222222222,\"#7201a8\"],[0.3333333333333333,\"#9c179e\"],[0.4444444444444444,\"#bd3786\"],[0.5555555555555556,\"#d8576b\"],[0.6666666666666666,\"#ed7953\"],[0.7777777777777778,\"#fb9f3a\"],[0.8888888888888888,\"#fdca26\"],[1.0,\"#f0f921\"]],\"type\":\"contour\"}],\"heatmapgl\":[{\"colorbar\":{\"outlinewidth\":0,\"ticks\":\"\"},\"colorscale\":[[0.0,\"#0d0887\"],[0.1111111111111111,\"#46039f\"],[0.2222222222222222,\"#7201a8\"],[0.3333333333333333,\"#9c179e\"],[0.4444444444444444,\"#bd3786\"],[0.5555555555555556,\"#d8576b\"],[0.6666666666666666,\"#ed7953\"],[0.7777777777777778,\"#fb9f3a\"],[0.8888888888888888,\"#fdca26\"],[1.0,\"#f0f921\"]],\"type\":\"heatmapgl\"}],\"heatmap\":[{\"colorbar\":{\"outlinewidth\":0,\"ticks\":\"\"},\"colorscale\":[[0.0,\"#0d0887\"],[0.1111111111111111,\"#46039f\"],[0.2222222222222222,\"#7201a8\"],[0.3333333333333333,\"#9c179e\"],[0.4444444444444444,\"#bd3786\"],[0.5555555555555556,\"#d8576b\"],[0.6666666666666666,\"#ed7953\"],[0.7777777777777778,\"#fb9f3a\"],[0.8888888888888888,\"#fdca26\"],[1.0,\"#f0f921\"]],\"type\":\"heatmap\"}],\"histogram2dcontour\":[{\"colorbar\":{\"outlinewidth\":0,\"ticks\":\"\"},\"colorscale\":[[0.0,\"#0d0887\"],[0.1111111111111111,\"#46039f\"],[0.2222222222222222,\"#7201a8\"],[0.3333333333333333,\"#9c179e\"],[0.4444444444444444,\"#bd3786\"],[0.5555555555555556,\"#d8576b\"],[0.6666666666666666,\"#ed7953\"],[0.7777777777777778,\"#fb9f3a\"],[0.8888888888888888,\"#fdca26\"],[1.0,\"#f0f921\"]],\"type\":\"histogram2dcontour\"}],\"histogram2d\":[{\"colorbar\":{\"outlinewidth\":0,\"ticks\":\"\"},\"colorscale\":[[0.0,\"#0d0887\"],[0.1111111111111111,\"#46039f\"],[0.2222222222222222,\"#7201a8\"],[0.3333333333333333,\"#9c179e\"],[0.4444444444444444,\"#bd3786\"],[0.5555555555555556,\"#d8576b\"],[0.6666666666666666,\"#ed7953\"],[0.7777777777777778,\"#fb9f3a\"],[0.8888888888888888,\"#fdca26\"],[1.0,\"#f0f921\"]],\"type\":\"histogram2d\"}],\"histogram\":[{\"marker\":{\"pattern\":{\"fillmode\":\"overlay\",\"size\":10,\"solidity\":0.2}},\"type\":\"histogram\"}],\"mesh3d\":[{\"colorbar\":{\"outlinewidth\":0,\"ticks\":\"\"},\"type\":\"mesh3d\"}],\"parcoords\":[{\"line\":{\"colorbar\":{\"outlinewidth\":0,\"ticks\":\"\"}},\"type\":\"parcoords\"}],\"pie\":[{\"automargin\":true,\"type\":\"pie\"}],\"scatter3d\":[{\"line\":{\"colorbar\":{\"outlinewidth\":0,\"ticks\":\"\"}},\"marker\":{\"colorbar\":{\"outlinewidth\":0,\"ticks\":\"\"}},\"type\":\"scatter3d\"}],\"scattercarpet\":[{\"marker\":{\"colorbar\":{\"outlinewidth\":0,\"ticks\":\"\"}},\"type\":\"scattercarpet\"}],\"scattergeo\":[{\"marker\":{\"colorbar\":{\"outlinewidth\":0,\"ticks\":\"\"}},\"type\":\"scattergeo\"}],\"scattergl\":[{\"marker\":{\"colorbar\":{\"outlinewidth\":0,\"ticks\":\"\"}},\"type\":\"scattergl\"}],\"scattermapbox\":[{\"marker\":{\"colorbar\":{\"outlinewidth\":0,\"ticks\":\"\"}},\"type\":\"scattermapbox\"}],\"scatterpolargl\":[{\"marker\":{\"colorbar\":{\"outlinewidth\":0,\"ticks\":\"\"}},\"type\":\"scatterpolargl\"}],\"scatterpolar\":[{\"marker\":{\"colorbar\":{\"outlinewidth\":0,\"ticks\":\"\"}},\"type\":\"scatterpolar\"}],\"scatter\":[{\"fillpattern\":{\"fillmode\":\"overlay\",\"size\":10,\"solidity\":0.2},\"type\":\"scatter\"}],\"scatterternary\":[{\"marker\":{\"colorbar\":{\"outlinewidth\":0,\"ticks\":\"\"}},\"type\":\"scatterternary\"}],\"surface\":[{\"colorbar\":{\"outlinewidth\":0,\"ticks\":\"\"},\"colorscale\":[[0.0,\"#0d0887\"],[0.1111111111111111,\"#46039f\"],[0.2222222222222222,\"#7201a8\"],[0.3333333333333333,\"#9c179e\"],[0.4444444444444444,\"#bd3786\"],[0.5555555555555556,\"#d8576b\"],[0.6666666666666666,\"#ed7953\"],[0.7777777777777778,\"#fb9f3a\"],[0.8888888888888888,\"#fdca26\"],[1.0,\"#f0f921\"]],\"type\":\"surface\"}],\"table\":[{\"cells\":{\"fill\":{\"color\":\"#EBF0F8\"},\"line\":{\"color\":\"white\"}},\"header\":{\"fill\":{\"color\":\"#C8D4E3\"},\"line\":{\"color\":\"white\"}},\"type\":\"table\"}]},\"layout\":{\"annotationdefaults\":{\"arrowcolor\":\"#2a3f5f\",\"arrowhead\":0,\"arrowwidth\":1},\"autotypenumbers\":\"strict\",\"coloraxis\":{\"colorbar\":{\"outlinewidth\":0,\"ticks\":\"\"}},\"colorscale\":{\"diverging\":[[0,\"#8e0152\"],[0.1,\"#c51b7d\"],[0.2,\"#de77ae\"],[0.3,\"#f1b6da\"],[0.4,\"#fde0ef\"],[0.5,\"#f7f7f7\"],[0.6,\"#e6f5d0\"],[0.7,\"#b8e186\"],[0.8,\"#7fbc41\"],[0.9,\"#4d9221\"],[1,\"#276419\"]],\"sequential\":[[0.0,\"#0d0887\"],[0.1111111111111111,\"#46039f\"],[0.2222222222222222,\"#7201a8\"],[0.3333333333333333,\"#9c179e\"],[0.4444444444444444,\"#bd3786\"],[0.5555555555555556,\"#d8576b\"],[0.6666666666666666,\"#ed7953\"],[0.7777777777777778,\"#fb9f3a\"],[0.8888888888888888,\"#fdca26\"],[1.0,\"#f0f921\"]],\"sequentialminus\":[[0.0,\"#0d0887\"],[0.1111111111111111,\"#46039f\"],[0.2222222222222222,\"#7201a8\"],[0.3333333333333333,\"#9c179e\"],[0.4444444444444444,\"#bd3786\"],[0.5555555555555556,\"#d8576b\"],[0.6666666666666666,\"#ed7953\"],[0.7777777777777778,\"#fb9f3a\"],[0.8888888888888888,\"#fdca26\"],[1.0,\"#f0f921\"]]},\"colorway\":[\"#636efa\",\"#EF553B\",\"#00cc96\",\"#ab63fa\",\"#FFA15A\",\"#19d3f3\",\"#FF6692\",\"#B6E880\",\"#FF97FF\",\"#FECB52\"],\"font\":{\"color\":\"#2a3f5f\"},\"geo\":{\"bgcolor\":\"white\",\"lakecolor\":\"white\",\"landcolor\":\"white\",\"showlakes\":true,\"showland\":true,\"subunitcolor\":\"#C8D4E3\"},\"hoverlabel\":{\"align\":\"left\"},\"hovermode\":\"closest\",\"mapbox\":{\"style\":\"light\"},\"paper_bgcolor\":\"white\",\"plot_bgcolor\":\"white\",\"polar\":{\"angularaxis\":{\"gridcolor\":\"#EBF0F8\",\"linecolor\":\"#EBF0F8\",\"ticks\":\"\"},\"bgcolor\":\"white\",\"radialaxis\":{\"gridcolor\":\"#EBF0F8\",\"linecolor\":\"#EBF0F8\",\"ticks\":\"\"}},\"scene\":{\"xaxis\":{\"backgroundcolor\":\"white\",\"gridcolor\":\"#DFE8F3\",\"gridwidth\":2,\"linecolor\":\"#EBF0F8\",\"showbackground\":true,\"ticks\":\"\",\"zerolinecolor\":\"#EBF0F8\"},\"yaxis\":{\"backgroundcolor\":\"white\",\"gridcolor\":\"#DFE8F3\",\"gridwidth\":2,\"linecolor\":\"#EBF0F8\",\"showbackground\":true,\"ticks\":\"\",\"zerolinecolor\":\"#EBF0F8\"},\"zaxis\":{\"backgroundcolor\":\"white\",\"gridcolor\":\"#DFE8F3\",\"gridwidth\":2,\"linecolor\":\"#EBF0F8\",\"showbackground\":true,\"ticks\":\"\",\"zerolinecolor\":\"#EBF0F8\"}},\"shapedefaults\":{\"line\":{\"color\":\"#2a3f5f\"}},\"ternary\":{\"aaxis\":{\"gridcolor\":\"#DFE8F3\",\"linecolor\":\"#A2B1C6\",\"ticks\":\"\"},\"baxis\":{\"gridcolor\":\"#DFE8F3\",\"linecolor\":\"#A2B1C6\",\"ticks\":\"\"},\"bgcolor\":\"white\",\"caxis\":{\"gridcolor\":\"#DFE8F3\",\"linecolor\":\"#A2B1C6\",\"ticks\":\"\"}},\"title\":{\"x\":0.05},\"xaxis\":{\"automargin\":true,\"gridcolor\":\"#EBF0F8\",\"linecolor\":\"#EBF0F8\",\"ticks\":\"\",\"title\":{\"standoff\":15},\"zerolinecolor\":\"#EBF0F8\",\"zerolinewidth\":2},\"yaxis\":{\"automargin\":true,\"gridcolor\":\"#EBF0F8\",\"linecolor\":\"#EBF0F8\",\"ticks\":\"\",\"title\":{\"standoff\":15},\"zerolinecolor\":\"#EBF0F8\",\"zerolinewidth\":2}}},\"yaxis\":{\"title\":{\"text\":\"Quantity Sold\"},\"showgrid\":false},\"yaxis2\":{\"title\":{\"text\":\"Revenue\"},\"overlaying\":\"y\",\"side\":\"right\"},\"title\":{\"text\":\"\\u003cb\\u003ePrice Elasticity Analysis\\u003c\\u002fb\\u003e\"},\"xaxis\":{\"title\":{\"text\":\"Price Brackets (USD)\"}},\"hovermode\":\"x unified\"},                        {\"responsive\": true}                    ).then(function(){\n",
       "                            \n",
       "var gd = document.getElementById('d553ba15-fdef-4dce-8aa0-fefcb6134985');\n",
       "var x = new MutationObserver(function (mutations, observer) {{\n",
       "        var display = window.getComputedStyle(gd).display;\n",
       "        if (!display || display === 'none') {{\n",
       "            console.log([gd, 'removed!']);\n",
       "            Plotly.purge(gd);\n",
       "            observer.disconnect();\n",
       "        }}\n",
       "}});\n",
       "\n",
       "// Listen for the removal of the full notebook cells\n",
       "var notebookContainer = gd.closest('#notebook-container');\n",
       "if (notebookContainer) {{\n",
       "    x.observe(notebookContainer, {childList: true});\n",
       "}}\n",
       "\n",
       "// Listen for the clearing of the current output cell\n",
       "var outputEl = gd.closest('.output');\n",
       "if (outputEl) {{\n",
       "    x.observe(outputEl, {childList: true});\n",
       "}}\n",
       "\n",
       "                        })                };                });            </script>        </div>"
      ]
     },
     "metadata": {},
     "output_type": "display_data"
    }
   ],
   "source": [
    "# (Bar & Line Chart)\n",
    "fig = go.Figure()\n",
    "fig.add_trace(go.Bar(x=price_elasticity['AvgPrice'],\n",
    "                    y=price_elasticity['TotalQuantity'],\n",
    "                    name='Quantity Sold',\n",
    "                    marker_color='#636EFA'))\n",
    "fig.add_trace(go.Scatter(x=price_elasticity['AvgPrice'],\n",
    "                        y=price_elasticity['TotalRevenue'],\n",
    "                        name='Revenue',\n",
    "                        mode='lines+markers',\n",
    "                        line=dict(color='#EF553B', width=3),\n",
    "                        yaxis='y2'))\n",
    "\n",
    "fig.update_layout(\n",
    "    title=\"<b>Price Elasticity Analysis</b>\",\n",
    "    xaxis_title=\"Price Brackets (USD)\",\n",
    "    yaxis=dict(title=\"Quantity Sold\", showgrid=False),\n",
    "    yaxis2=dict(title=\"Revenue\", overlaying='y', side='right'),\n",
    "    template=\"plotly_white\",\n",
    "    hovermode=\"x unified\"\n",
    ")\n",
    "fig.show()"
   ]
  },
  {
   "cell_type": "markdown",
   "metadata": {},
   "source": [
    "### Insights and Observations 8: Top 20 Customers by CLV\n",
    "\n",
    "1. The CLV stands for Customer Lifetime Value, which is the total revenue generated by the customer.\n",
    "\n",
    "2. The top 20 customers with the highest CLV are shown in the chart.\n",
    "\n",
    "3. It is important to retain these customers as they contribute significantly to the revenue.\n",
    "\n",
    "4. Loyalty programs and personalized offers can be used to retain these customers."
   ]
  },
  {
   "cell_type": "code",
   "execution_count": 18,
   "metadata": {},
   "outputs": [
    {
     "data": {
      "text/html": [
       "<div>\n",
       "<style scoped>\n",
       "    .dataframe tbody tr th:only-of-type {\n",
       "        vertical-align: middle;\n",
       "    }\n",
       "\n",
       "    .dataframe tbody tr th {\n",
       "        vertical-align: top;\n",
       "    }\n",
       "\n",
       "    .dataframe thead th {\n",
       "        text-align: right;\n",
       "    }\n",
       "</style>\n",
       "<table border=\"1\" class=\"dataframe\">\n",
       "  <thead>\n",
       "    <tr style=\"text-align: right;\">\n",
       "      <th></th>\n",
       "      <th>FirstPurchase</th>\n",
       "      <th>LastPurchase</th>\n",
       "      <th>TotalSpend</th>\n",
       "      <th>PurchaseCount</th>\n",
       "    </tr>\n",
       "  </thead>\n",
       "  <tbody>\n",
       "    <tr>\n",
       "      <th>count</th>\n",
       "      <td>20</td>\n",
       "      <td>20</td>\n",
       "      <td>20.000000</td>\n",
       "      <td>20.000000</td>\n",
       "    </tr>\n",
       "    <tr>\n",
       "      <th>mean</th>\n",
       "      <td>2024-02-24 11:02:05.999999744</td>\n",
       "      <td>2024-11-19 15:09:41.749999872</td>\n",
       "      <td>6888.982000</td>\n",
       "      <td>8.050000</td>\n",
       "    </tr>\n",
       "    <tr>\n",
       "      <th>min</th>\n",
       "      <td>2024-01-01 16:46:56</td>\n",
       "      <td>2024-08-26 13:10:31</td>\n",
       "      <td>5950.420000</td>\n",
       "      <td>5.000000</td>\n",
       "    </tr>\n",
       "    <tr>\n",
       "      <th>25%</th>\n",
       "      <td>2024-01-29 02:08:37</td>\n",
       "      <td>2024-10-31 16:10:39.500000</td>\n",
       "      <td>6117.500000</td>\n",
       "      <td>7.000000</td>\n",
       "    </tr>\n",
       "    <tr>\n",
       "      <th>50%</th>\n",
       "      <td>2024-02-14 15:31:53.500000</td>\n",
       "      <td>2024-12-07 19:34:13</td>\n",
       "      <td>6656.165000</td>\n",
       "      <td>8.000000</td>\n",
       "    </tr>\n",
       "    <tr>\n",
       "      <th>75%</th>\n",
       "      <td>2024-02-28 14:43:11</td>\n",
       "      <td>2024-12-19 23:30:28.500000</td>\n",
       "      <td>7226.717500</td>\n",
       "      <td>8.250000</td>\n",
       "    </tr>\n",
       "    <tr>\n",
       "      <th>max</th>\n",
       "      <td>2024-07-25 15:20:14</td>\n",
       "      <td>2024-12-26 14:40:03</td>\n",
       "      <td>10673.870000</td>\n",
       "      <td>11.000000</td>\n",
       "    </tr>\n",
       "    <tr>\n",
       "      <th>std</th>\n",
       "      <td>NaN</td>\n",
       "      <td>NaN</td>\n",
       "      <td>1099.835635</td>\n",
       "      <td>1.394538</td>\n",
       "    </tr>\n",
       "  </tbody>\n",
       "</table>\n",
       "</div>"
      ],
      "text/plain": [
       "                       FirstPurchase                   LastPurchase  \\\n",
       "count                             20                             20   \n",
       "mean   2024-02-24 11:02:05.999999744  2024-11-19 15:09:41.749999872   \n",
       "min              2024-01-01 16:46:56            2024-08-26 13:10:31   \n",
       "25%              2024-01-29 02:08:37     2024-10-31 16:10:39.500000   \n",
       "50%       2024-02-14 15:31:53.500000            2024-12-07 19:34:13   \n",
       "75%              2024-02-28 14:43:11     2024-12-19 23:30:28.500000   \n",
       "max              2024-07-25 15:20:14            2024-12-26 14:40:03   \n",
       "std                              NaN                            NaN   \n",
       "\n",
       "         TotalSpend  PurchaseCount  \n",
       "count     20.000000      20.000000  \n",
       "mean    6888.982000       8.050000  \n",
       "min     5950.420000       5.000000  \n",
       "25%     6117.500000       7.000000  \n",
       "50%     6656.165000       8.000000  \n",
       "75%     7226.717500       8.250000  \n",
       "max    10673.870000      11.000000  \n",
       "std     1099.835635       1.394538  "
      ]
     },
     "execution_count": 18,
     "metadata": {},
     "output_type": "execute_result"
    }
   ],
   "source": [
    "clv_funnel = df.groupby('CustomerID').agg(\n",
    "    FirstPurchase=('TransactionDate', 'min'),\n",
    "    LastPurchase=('TransactionDate', 'max'),\n",
    "    TotalSpend=('TotalValue', 'sum'),\n",
    "    PurchaseCount=('TransactionID', 'nunique')\n",
    ").sort_values('TotalSpend', ascending=False).head(20)\n",
    "\n",
    "clv_funnel.describe()"
   ]
  },
  {
   "cell_type": "code",
   "execution_count": null,
   "metadata": {},
   "outputs": [
    {
     "data": {
      "text/html": [
       "<div>                            <div id=\"4b42e86c-c4eb-4d5a-979b-68ea59719b01\" class=\"plotly-graph-div\" style=\"height:800px; width:100%;\"></div>            <script type=\"text/javascript\">                require([\"plotly\"], function(Plotly) {                    window.PLOTLYENV=window.PLOTLYENV || {};                                    if (document.getElementById(\"4b42e86c-c4eb-4d5a-979b-68ea59719b01\")) {                    Plotly.newPlot(                        \"4b42e86c-c4eb-4d5a-979b-68ea59719b01\",                        [{\"hovertemplate\":\"Transactions=10\\u003cbr\\u003eTotal Spend (USD)=%{x}\\u003cbr\\u003eCustomerID=%{y}\\u003cextra\\u003e\\u003c\\u002fextra\\u003e\",\"legendgroup\":\"10\",\"marker\":{\"color\":\"#F8766D\"},\"name\":\"10\",\"orientation\":\"h\",\"showlegend\":true,\"x\":[10673.87,7663.7,6210.53],\"xaxis\":\"x\",\"y\":[\"C0141\",\"C0065\",\"C0175\"],\"yaxis\":\"y\",\"type\":\"funnel\",\"textinfo\":\"value+percent previous\",\"textposition\":\"inside\"},{\"hovertemplate\":\"Transactions=8\\u003cbr\\u003eTotal Spend (USD)=%{x}\\u003cbr\\u003eCustomerID=%{y}\\u003cextra\\u003e\\u003c\\u002fextra\\u003e\",\"legendgroup\":\"8\",\"marker\":{\"color\":\"#A3A500\"},\"name\":\"8\",\"orientation\":\"h\",\"showlegend\":true,\"x\":[8040.389999999999,7111.32,7073.28,6819.57,6715.72,6579.1,6132.360000000001,5950.42],\"xaxis\":\"x\",\"y\":[\"C0054\",\"C0188\",\"C0059\",\"C0028\",\"C0099\",\"C0104\",\"C0102\",\"C0068\"],\"yaxis\":\"y\",\"type\":\"funnel\",\"textinfo\":\"value+percent previous\",\"textposition\":\"inside\"},{\"hovertemplate\":\"Transactions=11\\u003cbr\\u003eTotal Spend (USD)=%{x}\\u003cbr\\u003eCustomerID=%{y}\\u003cextra\\u003e\\u003c\\u002fextra\\u003e\",\"legendgroup\":\"11\",\"marker\":{\"color\":\"#00BF7D\"},\"name\":\"11\",\"orientation\":\"h\",\"showlegend\":true,\"x\":[7634.45],\"xaxis\":\"x\",\"y\":[\"C0156\"],\"yaxis\":\"y\",\"type\":\"funnel\",\"textinfo\":\"value+percent previous\",\"textposition\":\"inside\"},{\"hovertemplate\":\"Transactions=7\\u003cbr\\u003eTotal Spend (USD)=%{x}\\u003cbr\\u003eCustomerID=%{y}\\u003cextra\\u003e\\u003c\\u002fextra\\u003e\",\"legendgroup\":\"7\",\"marker\":{\"color\":\"#00B0F6\"},\"name\":\"7\",\"orientation\":\"h\",\"showlegend\":true,\"x\":[7572.91,6604.2300000000005,6149.78,6044.63,6021.8,6000.5599999999995],\"xaxis\":\"x\",\"y\":[\"C0082\",\"C0087\",\"C0041\",\"C0143\",\"C0045\",\"C0013\"],\"yaxis\":\"y\",\"type\":\"funnel\",\"textinfo\":\"value+percent previous\",\"textposition\":\"inside\"},{\"hovertemplate\":\"Transactions=9\\u003cbr\\u003eTotal Spend (USD)=%{x}\\u003cbr\\u003eCustomerID=%{y}\\u003cextra\\u003e\\u003c\\u002fextra\\u003e\",\"legendgroup\":\"9\",\"marker\":{\"color\":\"#E76BF3\"},\"name\":\"9\",\"orientation\":\"h\",\"showlegend\":true,\"x\":[6708.1],\"xaxis\":\"x\",\"y\":[\"C0165\"],\"yaxis\":\"y\",\"type\":\"funnel\",\"textinfo\":\"value+percent previous\",\"textposition\":\"inside\"},{\"hovertemplate\":\"Transactions=5\\u003cbr\\u003eTotal Spend (USD)=%{x}\\u003cbr\\u003eCustomerID=%{y}\\u003cextra\\u003e\\u003c\\u002fextra\\u003e\",\"legendgroup\":\"5\",\"marker\":{\"color\":\"#F8766D\"},\"name\":\"5\",\"orientation\":\"h\",\"showlegend\":true,\"x\":[6072.92],\"xaxis\":\"x\",\"y\":[\"C0096\"],\"yaxis\":\"y\",\"type\":\"funnel\",\"textinfo\":\"value+percent previous\",\"textposition\":\"inside\"}],                        {\"template\":{\"data\":{\"barpolar\":[{\"marker\":{\"line\":{\"color\":\"rgb(237,237,237)\",\"width\":0.5},\"pattern\":{\"fillmode\":\"overlay\",\"size\":10,\"solidity\":0.2}},\"type\":\"barpolar\"}],\"bar\":[{\"error_x\":{\"color\":\"rgb(51,51,51)\"},\"error_y\":{\"color\":\"rgb(51,51,51)\"},\"marker\":{\"line\":{\"color\":\"rgb(237,237,237)\",\"width\":0.5},\"pattern\":{\"fillmode\":\"overlay\",\"size\":10,\"solidity\":0.2}},\"type\":\"bar\"}],\"carpet\":[{\"aaxis\":{\"endlinecolor\":\"rgb(51,51,51)\",\"gridcolor\":\"white\",\"linecolor\":\"white\",\"minorgridcolor\":\"white\",\"startlinecolor\":\"rgb(51,51,51)\"},\"baxis\":{\"endlinecolor\":\"rgb(51,51,51)\",\"gridcolor\":\"white\",\"linecolor\":\"white\",\"minorgridcolor\":\"white\",\"startlinecolor\":\"rgb(51,51,51)\"},\"type\":\"carpet\"}],\"choropleth\":[{\"colorbar\":{\"outlinewidth\":0,\"tickcolor\":\"rgb(237,237,237)\",\"ticklen\":6,\"ticks\":\"inside\"},\"type\":\"choropleth\"}],\"contourcarpet\":[{\"colorbar\":{\"outlinewidth\":0,\"tickcolor\":\"rgb(237,237,237)\",\"ticklen\":6,\"ticks\":\"inside\"},\"type\":\"contourcarpet\"}],\"contour\":[{\"colorbar\":{\"outlinewidth\":0,\"tickcolor\":\"rgb(237,237,237)\",\"ticklen\":6,\"ticks\":\"inside\"},\"colorscale\":[[0,\"rgb(20,44,66)\"],[1,\"rgb(90,179,244)\"]],\"type\":\"contour\"}],\"heatmapgl\":[{\"colorbar\":{\"outlinewidth\":0,\"tickcolor\":\"rgb(237,237,237)\",\"ticklen\":6,\"ticks\":\"inside\"},\"colorscale\":[[0,\"rgb(20,44,66)\"],[1,\"rgb(90,179,244)\"]],\"type\":\"heatmapgl\"}],\"heatmap\":[{\"colorbar\":{\"outlinewidth\":0,\"tickcolor\":\"rgb(237,237,237)\",\"ticklen\":6,\"ticks\":\"inside\"},\"colorscale\":[[0,\"rgb(20,44,66)\"],[1,\"rgb(90,179,244)\"]],\"type\":\"heatmap\"}],\"histogram2dcontour\":[{\"colorbar\":{\"outlinewidth\":0,\"tickcolor\":\"rgb(237,237,237)\",\"ticklen\":6,\"ticks\":\"inside\"},\"colorscale\":[[0,\"rgb(20,44,66)\"],[1,\"rgb(90,179,244)\"]],\"type\":\"histogram2dcontour\"}],\"histogram2d\":[{\"colorbar\":{\"outlinewidth\":0,\"tickcolor\":\"rgb(237,237,237)\",\"ticklen\":6,\"ticks\":\"inside\"},\"colorscale\":[[0,\"rgb(20,44,66)\"],[1,\"rgb(90,179,244)\"]],\"type\":\"histogram2d\"}],\"histogram\":[{\"marker\":{\"pattern\":{\"fillmode\":\"overlay\",\"size\":10,\"solidity\":0.2}},\"type\":\"histogram\"}],\"mesh3d\":[{\"colorbar\":{\"outlinewidth\":0,\"tickcolor\":\"rgb(237,237,237)\",\"ticklen\":6,\"ticks\":\"inside\"},\"type\":\"mesh3d\"}],\"parcoords\":[{\"line\":{\"colorbar\":{\"outlinewidth\":0,\"tickcolor\":\"rgb(237,237,237)\",\"ticklen\":6,\"ticks\":\"inside\"}},\"type\":\"parcoords\"}],\"pie\":[{\"automargin\":true,\"type\":\"pie\"}],\"scatter3d\":[{\"line\":{\"colorbar\":{\"outlinewidth\":0,\"tickcolor\":\"rgb(237,237,237)\",\"ticklen\":6,\"ticks\":\"inside\"}},\"marker\":{\"colorbar\":{\"outlinewidth\":0,\"tickcolor\":\"rgb(237,237,237)\",\"ticklen\":6,\"ticks\":\"inside\"}},\"type\":\"scatter3d\"}],\"scattercarpet\":[{\"marker\":{\"colorbar\":{\"outlinewidth\":0,\"tickcolor\":\"rgb(237,237,237)\",\"ticklen\":6,\"ticks\":\"inside\"}},\"type\":\"scattercarpet\"}],\"scattergeo\":[{\"marker\":{\"colorbar\":{\"outlinewidth\":0,\"tickcolor\":\"rgb(237,237,237)\",\"ticklen\":6,\"ticks\":\"inside\"}},\"type\":\"scattergeo\"}],\"scattergl\":[{\"marker\":{\"colorbar\":{\"outlinewidth\":0,\"tickcolor\":\"rgb(237,237,237)\",\"ticklen\":6,\"ticks\":\"inside\"}},\"type\":\"scattergl\"}],\"scattermapbox\":[{\"marker\":{\"colorbar\":{\"outlinewidth\":0,\"tickcolor\":\"rgb(237,237,237)\",\"ticklen\":6,\"ticks\":\"inside\"}},\"type\":\"scattermapbox\"}],\"scatterpolargl\":[{\"marker\":{\"colorbar\":{\"outlinewidth\":0,\"tickcolor\":\"rgb(237,237,237)\",\"ticklen\":6,\"ticks\":\"inside\"}},\"type\":\"scatterpolargl\"}],\"scatterpolar\":[{\"marker\":{\"colorbar\":{\"outlinewidth\":0,\"tickcolor\":\"rgb(237,237,237)\",\"ticklen\":6,\"ticks\":\"inside\"}},\"type\":\"scatterpolar\"}],\"scatter\":[{\"fillpattern\":{\"fillmode\":\"overlay\",\"size\":10,\"solidity\":0.2},\"type\":\"scatter\"}],\"scatterternary\":[{\"marker\":{\"colorbar\":{\"outlinewidth\":0,\"tickcolor\":\"rgb(237,237,237)\",\"ticklen\":6,\"ticks\":\"inside\"}},\"type\":\"scatterternary\"}],\"surface\":[{\"colorbar\":{\"outlinewidth\":0,\"tickcolor\":\"rgb(237,237,237)\",\"ticklen\":6,\"ticks\":\"inside\"},\"colorscale\":[[0,\"rgb(20,44,66)\"],[1,\"rgb(90,179,244)\"]],\"type\":\"surface\"}],\"table\":[{\"cells\":{\"fill\":{\"color\":\"rgb(237,237,237)\"},\"line\":{\"color\":\"white\"}},\"header\":{\"fill\":{\"color\":\"rgb(217,217,217)\"},\"line\":{\"color\":\"white\"}},\"type\":\"table\"}]},\"layout\":{\"annotationdefaults\":{\"arrowhead\":0,\"arrowwidth\":1},\"autotypenumbers\":\"strict\",\"coloraxis\":{\"colorbar\":{\"outlinewidth\":0,\"tickcolor\":\"rgb(237,237,237)\",\"ticklen\":6,\"ticks\":\"inside\"}},\"colorscale\":{\"sequential\":[[0,\"rgb(20,44,66)\"],[1,\"rgb(90,179,244)\"]],\"sequentialminus\":[[0,\"rgb(20,44,66)\"],[1,\"rgb(90,179,244)\"]]},\"colorway\":[\"#F8766D\",\"#A3A500\",\"#00BF7D\",\"#00B0F6\",\"#E76BF3\"],\"font\":{\"color\":\"rgb(51,51,51)\"},\"geo\":{\"bgcolor\":\"white\",\"lakecolor\":\"white\",\"landcolor\":\"rgb(237,237,237)\",\"showlakes\":true,\"showland\":true,\"subunitcolor\":\"white\"},\"hoverlabel\":{\"align\":\"left\"},\"hovermode\":\"closest\",\"paper_bgcolor\":\"white\",\"plot_bgcolor\":\"rgb(237,237,237)\",\"polar\":{\"angularaxis\":{\"gridcolor\":\"white\",\"linecolor\":\"white\",\"showgrid\":true,\"tickcolor\":\"rgb(51,51,51)\",\"ticks\":\"outside\"},\"bgcolor\":\"rgb(237,237,237)\",\"radialaxis\":{\"gridcolor\":\"white\",\"linecolor\":\"white\",\"showgrid\":true,\"tickcolor\":\"rgb(51,51,51)\",\"ticks\":\"outside\"}},\"scene\":{\"xaxis\":{\"backgroundcolor\":\"rgb(237,237,237)\",\"gridcolor\":\"white\",\"gridwidth\":2,\"linecolor\":\"white\",\"showbackground\":true,\"showgrid\":true,\"tickcolor\":\"rgb(51,51,51)\",\"ticks\":\"outside\",\"zerolinecolor\":\"white\"},\"yaxis\":{\"backgroundcolor\":\"rgb(237,237,237)\",\"gridcolor\":\"white\",\"gridwidth\":2,\"linecolor\":\"white\",\"showbackground\":true,\"showgrid\":true,\"tickcolor\":\"rgb(51,51,51)\",\"ticks\":\"outside\",\"zerolinecolor\":\"white\"},\"zaxis\":{\"backgroundcolor\":\"rgb(237,237,237)\",\"gridcolor\":\"white\",\"gridwidth\":2,\"linecolor\":\"white\",\"showbackground\":true,\"showgrid\":true,\"tickcolor\":\"rgb(51,51,51)\",\"ticks\":\"outside\",\"zerolinecolor\":\"white\"}},\"shapedefaults\":{\"fillcolor\":\"black\",\"line\":{\"width\":0},\"opacity\":0.3},\"ternary\":{\"aaxis\":{\"gridcolor\":\"white\",\"linecolor\":\"white\",\"showgrid\":true,\"tickcolor\":\"rgb(51,51,51)\",\"ticks\":\"outside\"},\"baxis\":{\"gridcolor\":\"white\",\"linecolor\":\"white\",\"showgrid\":true,\"tickcolor\":\"rgb(51,51,51)\",\"ticks\":\"outside\"},\"bgcolor\":\"rgb(237,237,237)\",\"caxis\":{\"gridcolor\":\"white\",\"linecolor\":\"white\",\"showgrid\":true,\"tickcolor\":\"rgb(51,51,51)\",\"ticks\":\"outside\"}},\"xaxis\":{\"automargin\":true,\"gridcolor\":\"white\",\"linecolor\":\"white\",\"showgrid\":true,\"tickcolor\":\"rgb(51,51,51)\",\"ticks\":\"outside\",\"title\":{\"standoff\":15},\"zerolinecolor\":\"white\"},\"yaxis\":{\"automargin\":true,\"gridcolor\":\"white\",\"linecolor\":\"white\",\"showgrid\":true,\"tickcolor\":\"rgb(51,51,51)\",\"ticks\":\"outside\",\"title\":{\"standoff\":15},\"zerolinecolor\":\"white\"}}},\"xaxis\":{\"anchor\":\"y\",\"domain\":[0.0,1.0],\"title\":{\"text\":\"Total Spend (USD)\"}},\"yaxis\":{\"anchor\":\"x\",\"domain\":[0.0,1.0],\"title\":{\"text\":\"CustomerID\"}},\"legend\":{\"title\":{\"text\":\"Transactions\"},\"tracegroupgap\":0},\"title\":{\"text\":\"\\u003cb\\u003eTop 20 Customers by CLV\\u003c\\u002fb\\u003e\"},\"height\":800},                        {\"responsive\": true}                    ).then(function(){\n",
       "                            \n",
       "var gd = document.getElementById('4b42e86c-c4eb-4d5a-979b-68ea59719b01');\n",
       "var x = new MutationObserver(function (mutations, observer) {{\n",
       "        var display = window.getComputedStyle(gd).display;\n",
       "        if (!display || display === 'none') {{\n",
       "            console.log([gd, 'removed!']);\n",
       "            Plotly.purge(gd);\n",
       "            observer.disconnect();\n",
       "        }}\n",
       "}});\n",
       "\n",
       "// Listen for the removal of the full notebook cells\n",
       "var notebookContainer = gd.closest('#notebook-container');\n",
       "if (notebookContainer) {{\n",
       "    x.observe(notebookContainer, {childList: true});\n",
       "}}\n",
       "\n",
       "// Listen for the clearing of the current output cell\n",
       "var outputEl = gd.closest('.output');\n",
       "if (outputEl) {{\n",
       "    x.observe(outputEl, {childList: true});\n",
       "}}\n",
       "\n",
       "                        })                };                });            </script>        </div>"
      ]
     },
     "metadata": {},
     "output_type": "display_data"
    }
   ],
   "source": [
    "# funnel chart\n",
    "fig = px.funnel(clv_funnel.reset_index(),\n",
    "               x='TotalSpend',\n",
    "               y='CustomerID',\n",
    "               color='PurchaseCount',\n",
    "               title=\"<b>Top 20 Customers by CLV</b>\",\n",
    "               labels={'TotalSpend':'Total Spend (USD)', \n",
    "                      'PurchaseCount':'Transactions'},\n",
    "               height=800,\n",
    "               template=\"ggplot2\")\n",
    "fig.update_traces(textposition=\"inside\", \n",
    "                 textinfo=\"value+percent previous\")\n",
    "fig.show()"
   ]
  },
  {
   "cell_type": "markdown",
   "metadata": {},
   "source": [
    "### Insights and Observations 9: Product Performance Analysis\n",
    "\n",
    "1. This analysis shows the performance of the products and combining other analysis we see earlier.\n",
    "\n",
    "3. Sales distribution by product category shows that Books has the highest sales."
   ]
  },
  {
   "cell_type": "code",
   "execution_count": 20,
   "metadata": {},
   "outputs": [
    {
     "data": {
      "text/html": [
       "<div>                            <div id=\"f4564abf-eddf-4118-bb36-e90c91da3b4a\" class=\"plotly-graph-div\" style=\"height:1000px; width:100%;\"></div>            <script type=\"text/javascript\">                require([\"plotly\"], function(Plotly) {                    window.PLOTLYENV=window.PLOTLYENV || {};                                    if (document.getElementById(\"f4564abf-eddf-4118-bb36-e90c91da3b4a\")) {                    Plotly.newPlot(                        \"f4564abf-eddf-4118-bb36-e90c91da3b4a\",                        [{\"branchvalues\":\"total\",\"domain\":{\"x\":[0.0,0.45],\"y\":[0.625,1.0]},\"hovertemplate\":\"labels=%{label}\\u003cbr\\u003eTotalSales=%{value}\\u003cbr\\u003eparent=%{parent}\\u003cbr\\u003eid=%{id}\\u003cextra\\u003e\\u003c\\u002fextra\\u003e\",\"ids\":[\"Books\\u002fActiveWear Biography\",\"Books\\u002fActiveWear Cookbook\",\"Home Decor\\u002fActiveWear Cookware Set\",\"Electronics\\u002fActiveWear Headphones\",\"Clothing\\u002fActiveWear Jacket\",\"Clothing\\u002fActiveWear Jeans\",\"Home Decor\\u002fActiveWear Rug\",\"Clothing\\u002fActiveWear Running Shoes\",\"Electronics\\u002fActiveWear Smartphone\",\"Electronics\\u002fActiveWear Smartwatch\",\"Clothing\\u002fActiveWear T-Shirt\",\"Books\\u002fActiveWear Textbook\",\"Home Decor\\u002fActiveWear Wall Art\",\"Books\\u002fBookWorld Biography\",\"Electronics\\u002fBookWorld Bluetooth Speaker\",\"Books\\u002fBookWorld Cookbook\",\"Home Decor\\u002fBookWorld Cookware Set\",\"Clothing\\u002fBookWorld Jacket\",\"Home Decor\\u002fBookWorld Rug\",\"Clothing\\u002fBookWorld Running Shoes\",\"Electronics\\u002fBookWorld Smartwatch\",\"Clothing\\u002fBookWorld Sweater\",\"Home Decor\\u002fBookWorld Wall Art\",\"Books\\u002fComfortLiving Biography\",\"Electronics\\u002fComfortLiving Bluetooth Speaker\",\"Home Decor\\u002fComfortLiving Cookware Set\",\"Home Decor\\u002fComfortLiving Desk Lamp\",\"Electronics\\u002fComfortLiving Headphones\",\"Electronics\\u002fComfortLiving Laptop\",\"Books\\u002fComfortLiving Mystery Book\",\"Home Decor\\u002fComfortLiving Rug\",\"Electronics\\u002fComfortLiving Smartphone\",\"Electronics\\u002fComfortLiving Smartwatch\",\"Clothing\\u002fComfortLiving Sweater\",\"Electronics\\u002fHomeSense Bluetooth Speaker\",\"Home Decor\\u002fHomeSense Cookware Set\",\"Home Decor\\u002fHomeSense Desk Lamp\",\"Electronics\\u002fHomeSense Headphones\",\"Books\\u002fHomeSense Novel\",\"Home Decor\\u002fHomeSense Rug\",\"Clothing\\u002fHomeSense Running Shoes\",\"Clothing\\u002fHomeSense Sweater\",\"Clothing\\u002fHomeSense T-Shirt\",\"Home Decor\\u002fHomeSense Wall Art\",\"Electronics\\u002fSoundWave Bluetooth Speaker\",\"Books\\u002fSoundWave Cookbook\",\"Home Decor\\u002fSoundWave Desk Lamp\",\"Electronics\\u002fSoundWave Headphones\",\"Clothing\\u002fSoundWave Jacket\",\"Clothing\\u002fSoundWave Jeans\",\"Electronics\\u002fSoundWave Laptop\",\"Books\\u002fSoundWave Mystery Book\",\"Books\\u002fSoundWave Novel\",\"Home Decor\\u002fSoundWave Rug\",\"Electronics\\u002fSoundWave Smartwatch\",\"Clothing\\u002fSoundWave T-Shirt\",\"Books\\u002fSoundWave Textbook\",\"Books\\u002fTechPro Cookbook\",\"Electronics\\u002fTechPro Headphones\",\"Books\\u002fTechPro Novel\",\"Home Decor\\u002fTechPro Rug\",\"Clothing\\u002fTechPro Running Shoes\",\"Electronics\\u002fTechPro Smartwatch\",\"Clothing\\u002fTechPro T-Shirt\",\"Books\\u002fTechPro Textbook\",\"Home Decor\\u002fTechPro Vase\",\"Books\",\"Clothing\",\"Electronics\",\"Home Decor\"],\"labels\":[\"ActiveWear Biography\",\"ActiveWear Cookbook\",\"ActiveWear Cookware Set\",\"ActiveWear Headphones\",\"ActiveWear Jacket\",\"ActiveWear Jeans\",\"ActiveWear Rug\",\"ActiveWear Running Shoes\",\"ActiveWear Smartphone\",\"ActiveWear Smartwatch\",\"ActiveWear T-Shirt\",\"ActiveWear Textbook\",\"ActiveWear Wall Art\",\"BookWorld Biography\",\"BookWorld Bluetooth Speaker\",\"BookWorld Cookbook\",\"BookWorld Cookware Set\",\"BookWorld Jacket\",\"BookWorld Rug\",\"BookWorld Running Shoes\",\"BookWorld Smartwatch\",\"BookWorld Sweater\",\"BookWorld Wall Art\",\"ComfortLiving Biography\",\"ComfortLiving Bluetooth Speaker\",\"ComfortLiving Cookware Set\",\"ComfortLiving Desk Lamp\",\"ComfortLiving Headphones\",\"ComfortLiving Laptop\",\"ComfortLiving Mystery Book\",\"ComfortLiving Rug\",\"ComfortLiving Smartphone\",\"ComfortLiving Smartwatch\",\"ComfortLiving Sweater\",\"HomeSense Bluetooth Speaker\",\"HomeSense Cookware Set\",\"HomeSense Desk Lamp\",\"HomeSense Headphones\",\"HomeSense Novel\",\"HomeSense Rug\",\"HomeSense Running Shoes\",\"HomeSense Sweater\",\"HomeSense T-Shirt\",\"HomeSense Wall Art\",\"SoundWave Bluetooth Speaker\",\"SoundWave Cookbook\",\"SoundWave Desk Lamp\",\"SoundWave Headphones\",\"SoundWave Jacket\",\"SoundWave Jeans\",\"SoundWave Laptop\",\"SoundWave Mystery Book\",\"SoundWave Novel\",\"SoundWave Rug\",\"SoundWave Smartwatch\",\"SoundWave T-Shirt\",\"SoundWave Textbook\",\"TechPro Cookbook\",\"TechPro Headphones\",\"TechPro Novel\",\"TechPro Rug\",\"TechPro Running Shoes\",\"TechPro Smartwatch\",\"TechPro T-Shirt\",\"TechPro Textbook\",\"TechPro Vase\",\"Books\",\"Clothing\",\"Electronics\",\"Home Decor\"],\"name\":\"\",\"parents\":[\"Books\",\"Books\",\"Home Decor\",\"Electronics\",\"Clothing\",\"Clothing\",\"Home Decor\",\"Clothing\",\"Electronics\",\"Electronics\",\"Clothing\",\"Books\",\"Home Decor\",\"Books\",\"Electronics\",\"Books\",\"Home Decor\",\"Clothing\",\"Home Decor\",\"Clothing\",\"Electronics\",\"Clothing\",\"Home Decor\",\"Books\",\"Electronics\",\"Home Decor\",\"Home Decor\",\"Electronics\",\"Electronics\",\"Books\",\"Home Decor\",\"Electronics\",\"Electronics\",\"Clothing\",\"Electronics\",\"Home Decor\",\"Home Decor\",\"Electronics\",\"Books\",\"Home Decor\",\"Clothing\",\"Clothing\",\"Clothing\",\"Home Decor\",\"Electronics\",\"Books\",\"Home Decor\",\"Electronics\",\"Clothing\",\"Clothing\",\"Electronics\",\"Books\",\"Books\",\"Home Decor\",\"Electronics\",\"Clothing\",\"Books\",\"Books\",\"Electronics\",\"Books\",\"Home Decor\",\"Clothing\",\"Electronics\",\"Clothing\",\"Books\",\"Home Decor\",\"\",\"\",\"\",\"\"],\"values\":[18,22,51,36,76,26,79,35,43,100,26,58,34,71,19,48,19,24,18,26,27,47,15,45,25,27,26,15,24,20,19,29,23,35,23,27,81,18,39,46,23,48,50,38,19,78,64,97,16,46,16,47,58,25,36,18,24,43,45,48,25,28,32,66,62,45,681,590,627,639],\"type\":\"sunburst\"},{\"branchvalues\":\"total\",\"customdata\":[[-60.988818665091536],[1.9095695674080637],[23.7479970584356],[29.748415188270034],[10.254583010389913],[36.510501059889606],[4.252072299723319],[-16.333454048782993],[-13.706328744263699],[31.76454550746155],[-790.9907486106571],[7.0851251563713635],[19.341223994554767],[-40.35143722257115],[-85.60032005447738],[33.91819604581895],[-19.93050690838686],[26.84094215541539],[-184.83025394503082],[29.970691161356633],[-138.6638091068301],[32.14957895881566],[16.139789544937074],[-194.36027950578887],[9.354107356658236],[-71.06261846482144],[-318.2843308778392],[-70.77322681704258],[-909.8335309373841],[37.61494426514683],[-386.7906233255938],[40.2660493556588],[22.156321937566066],[29.274704829125252],[-23.377877868815325],[39.072278356507354],[-42.95722174766593],[-71.49315421883846],[27.15574353217876],[-134.90680067935813],[39.75640555236285],[-219.62272126897915],[-80.01740750875133],[-98.16349425621637],[-323.35208139173653],[-32.36762564265735],[2.878538052285683],[-3.3049495746436195],[23.183092359290896],[10.107496701846973],[9.127439735938399],[-35.93200758075824],[35.21953961519721],[18.84407158170559],[-22.124440654068763],[43.4276910623106],[19.1761846865548],[34.54513208453409],[37.147387233650036],[-4.390050250486389],[0.8678002473267005],[6.070899817348467],[36.702183051162365],[-31.685597178380437],[5.321748403815577],[-31.47566879068676],[4.471080782728505],[3.5528435101827673],[6.551432576679074],[-15.735212063388056]],\"domain\":{\"x\":[0.55,1.0],\"y\":[0.625,1.0]},\"hovertemplate\":\"labels=%{label}\\u003cbr\\u003eTotalRevenue=%{value}\\u003cbr\\u003eparent=%{parent}\\u003cbr\\u003eid=%{id}\\u003cbr\\u003eAvgDiscount=%{color}\\u003cextra\\u003e\\u003c\\u002fextra\\u003e\",\"ids\":[\"Books\\u002fActiveWear Biography\",\"Books\\u002fActiveWear Cookbook\",\"Home Decor\\u002fActiveWear Cookware Set\",\"Electronics\\u002fActiveWear Headphones\",\"Clothing\\u002fActiveWear Jacket\",\"Clothing\\u002fActiveWear Jeans\",\"Home Decor\\u002fActiveWear Rug\",\"Clothing\\u002fActiveWear Running Shoes\",\"Electronics\\u002fActiveWear Smartphone\",\"Electronics\\u002fActiveWear Smartwatch\",\"Clothing\\u002fActiveWear T-Shirt\",\"Books\\u002fActiveWear Textbook\",\"Home Decor\\u002fActiveWear Wall Art\",\"Books\\u002fBookWorld Biography\",\"Electronics\\u002fBookWorld Bluetooth Speaker\",\"Books\\u002fBookWorld Cookbook\",\"Home Decor\\u002fBookWorld Cookware Set\",\"Clothing\\u002fBookWorld Jacket\",\"Home Decor\\u002fBookWorld Rug\",\"Clothing\\u002fBookWorld Running Shoes\",\"Electronics\\u002fBookWorld Smartwatch\",\"Clothing\\u002fBookWorld Sweater\",\"Home Decor\\u002fBookWorld Wall Art\",\"Books\\u002fComfortLiving Biography\",\"Electronics\\u002fComfortLiving Bluetooth Speaker\",\"Home Decor\\u002fComfortLiving Cookware Set\",\"Home Decor\\u002fComfortLiving Desk Lamp\",\"Electronics\\u002fComfortLiving Headphones\",\"Electronics\\u002fComfortLiving Laptop\",\"Books\\u002fComfortLiving Mystery Book\",\"Home Decor\\u002fComfortLiving Rug\",\"Electronics\\u002fComfortLiving Smartphone\",\"Electronics\\u002fComfortLiving Smartwatch\",\"Clothing\\u002fComfortLiving Sweater\",\"Electronics\\u002fHomeSense Bluetooth Speaker\",\"Home Decor\\u002fHomeSense Cookware Set\",\"Home Decor\\u002fHomeSense Desk Lamp\",\"Electronics\\u002fHomeSense Headphones\",\"Books\\u002fHomeSense Novel\",\"Home Decor\\u002fHomeSense Rug\",\"Clothing\\u002fHomeSense Running Shoes\",\"Clothing\\u002fHomeSense Sweater\",\"Clothing\\u002fHomeSense T-Shirt\",\"Home Decor\\u002fHomeSense Wall Art\",\"Electronics\\u002fSoundWave Bluetooth Speaker\",\"Books\\u002fSoundWave Cookbook\",\"Home Decor\\u002fSoundWave Desk Lamp\",\"Electronics\\u002fSoundWave Headphones\",\"Clothing\\u002fSoundWave Jacket\",\"Clothing\\u002fSoundWave Jeans\",\"Electronics\\u002fSoundWave Laptop\",\"Books\\u002fSoundWave Mystery Book\",\"Books\\u002fSoundWave Novel\",\"Home Decor\\u002fSoundWave Rug\",\"Electronics\\u002fSoundWave Smartwatch\",\"Clothing\\u002fSoundWave T-Shirt\",\"Books\\u002fSoundWave Textbook\",\"Books\\u002fTechPro Cookbook\",\"Electronics\\u002fTechPro Headphones\",\"Books\\u002fTechPro Novel\",\"Home Decor\\u002fTechPro Rug\",\"Clothing\\u002fTechPro Running Shoes\",\"Electronics\\u002fTechPro Smartwatch\",\"Clothing\\u002fTechPro T-Shirt\",\"Books\\u002fTechPro Textbook\",\"Home Decor\\u002fTechPro Vase\",\"Books\",\"Clothing\",\"Electronics\",\"Home Decor\"],\"labels\":[\"ActiveWear Biography\",\"ActiveWear Cookbook\",\"ActiveWear Cookware Set\",\"ActiveWear Headphones\",\"ActiveWear Jacket\",\"ActiveWear Jeans\",\"ActiveWear Rug\",\"ActiveWear Running Shoes\",\"ActiveWear Smartphone\",\"ActiveWear Smartwatch\",\"ActiveWear T-Shirt\",\"ActiveWear Textbook\",\"ActiveWear Wall Art\",\"BookWorld Biography\",\"BookWorld Bluetooth Speaker\",\"BookWorld Cookbook\",\"BookWorld Cookware Set\",\"BookWorld Jacket\",\"BookWorld Rug\",\"BookWorld Running Shoes\",\"BookWorld Smartwatch\",\"BookWorld Sweater\",\"BookWorld Wall Art\",\"ComfortLiving Biography\",\"ComfortLiving Bluetooth Speaker\",\"ComfortLiving Cookware Set\",\"ComfortLiving Desk Lamp\",\"ComfortLiving Headphones\",\"ComfortLiving Laptop\",\"ComfortLiving Mystery Book\",\"ComfortLiving Rug\",\"ComfortLiving Smartphone\",\"ComfortLiving Smartwatch\",\"ComfortLiving Sweater\",\"HomeSense Bluetooth Speaker\",\"HomeSense Cookware Set\",\"HomeSense Desk Lamp\",\"HomeSense Headphones\",\"HomeSense Novel\",\"HomeSense Rug\",\"HomeSense Running Shoes\",\"HomeSense Sweater\",\"HomeSense T-Shirt\",\"HomeSense Wall Art\",\"SoundWave Bluetooth Speaker\",\"SoundWave Cookbook\",\"SoundWave Desk Lamp\",\"SoundWave Headphones\",\"SoundWave Jacket\",\"SoundWave Jeans\",\"SoundWave Laptop\",\"SoundWave Mystery Book\",\"SoundWave Novel\",\"SoundWave Rug\",\"SoundWave Smartwatch\",\"SoundWave T-Shirt\",\"SoundWave Textbook\",\"TechPro Cookbook\",\"TechPro Headphones\",\"TechPro Novel\",\"TechPro Rug\",\"TechPro Running Shoes\",\"TechPro Smartwatch\",\"TechPro T-Shirt\",\"TechPro Textbook\",\"TechPro Vase\",\"Books\",\"Clothing\",\"Electronics\",\"Home Decor\"],\"marker\":{\"coloraxis\":\"coloraxis\",\"colors\":[-60.988818665091536,1.9095695674080637,23.7479970584356,29.748415188270034,10.254583010389913,36.510501059889606,4.252072299723319,-16.333454048782993,-13.706328744263699,31.76454550746155,-790.9907486106571,7.0851251563713635,19.341223994554767,-40.35143722257115,-85.60032005447738,33.91819604581895,-19.93050690838686,26.84094215541539,-184.83025394503082,29.970691161356633,-138.6638091068301,32.14957895881566,16.139789544937074,-194.36027950578887,9.354107356658236,-71.06261846482144,-318.2843308778392,-70.77322681704258,-909.8335309373841,37.61494426514683,-386.7906233255938,40.2660493556588,22.156321937566066,29.274704829125252,-23.377877868815325,39.072278356507354,-42.95722174766593,-71.49315421883846,27.15574353217876,-134.90680067935813,39.75640555236285,-219.62272126897915,-80.01740750875133,-98.16349425621637,-323.35208139173653,-32.36762564265735,2.878538052285683,-3.3049495746436195,23.183092359290896,10.107496701846973,9.127439735938399,-35.93200758075824,35.21953961519721,18.84407158170559,-22.124440654068763,43.4276910623106,19.1761846865548,34.54513208453409,37.147387233650036,-4.390050250486389,0.8678002473267005,6.070899817348467,36.702183051162365,-31.685597178380437,5.321748403815577,-31.47566879068676,4.471080782728505,3.5528435101827673,6.551432576679074,-15.735212063388056]},\"name\":\"\",\"parents\":[\"Books\",\"Books\",\"Home Decor\",\"Electronics\",\"Clothing\",\"Clothing\",\"Home Decor\",\"Clothing\",\"Electronics\",\"Electronics\",\"Clothing\",\"Books\",\"Home Decor\",\"Books\",\"Electronics\",\"Books\",\"Home Decor\",\"Clothing\",\"Home Decor\",\"Clothing\",\"Electronics\",\"Clothing\",\"Home Decor\",\"Books\",\"Electronics\",\"Home Decor\",\"Home Decor\",\"Electronics\",\"Electronics\",\"Books\",\"Home Decor\",\"Electronics\",\"Electronics\",\"Clothing\",\"Electronics\",\"Home Decor\",\"Home Decor\",\"Electronics\",\"Books\",\"Home Decor\",\"Clothing\",\"Clothing\",\"Clothing\",\"Home Decor\",\"Electronics\",\"Books\",\"Home Decor\",\"Electronics\",\"Clothing\",\"Clothing\",\"Electronics\",\"Books\",\"Books\",\"Home Decor\",\"Electronics\",\"Clothing\",\"Books\",\"Books\",\"Electronics\",\"Books\",\"Home Decor\",\"Clothing\",\"Electronics\",\"Clothing\",\"Books\",\"Home Decor\",\"\",\"\",\"\",\"\"],\"values\":[3047.4,6112.92,18083.73,13958.34,22712.559999999998,11161.539999999999,22314.43,7505.76,10307.1,39096.97,795.34,17257.86,11488.94,15080.21,2790.15,19221.989999999998,4317.94,8941.2,1722.42,10119.2,3083.4,18743.79,4875.15,3681.92,7517.0,4301.91,1694.1599999999999,2394.0,647.76,8737.8,1063.81,13232.119999999999,8052.99,13487.95,5080.93,12078.18,15701.320000000002,2860.7400000000002,14592.240000000002,5529.68,10405.66,4083.66,7528.900000000001,5226.5199999999995,1223.2199999999998,15102.72,17920.1,25211.64,5676.96,13947.2,4798.88,9412.03,24507.899999999998,8396.0,7235.58,8672.039999999999,8093.280000000001,17905.2,19513.8,11126.04,6873.5,8124.76,13778.88,14264.140000000001,18267.96,9306.14,192147.47,166170.66,180783.5,150893.93],\"type\":\"treemap\"},{\"marker\":{\"color\":[192147.47,166170.66,180783.5,150893.93],\"colorscale\":[[0.0,\"#440154\"],[0.1111111111111111,\"#482878\"],[0.2222222222222222,\"#3e4989\"],[0.3333333333333333,\"#31688e\"],[0.4444444444444444,\"#26828e\"],[0.5555555555555556,\"#1f9e89\"],[0.6666666666666666,\"#35b779\"],[0.7777777777777778,\"#6ece58\"],[0.8888888888888888,\"#b5de2b\"],[1.0,\"#fde725\"]]},\"x\":[\"Books\",\"Clothing\",\"Electronics\",\"Home Decor\"],\"y\":[-11.096269034021855,-53.193958871712425,-80.33129277787417,-68.42692634471312],\"type\":\"bar\",\"xaxis\":\"x\",\"yaxis\":\"y\"}],                        {\"template\":{\"data\":{\"histogram2dcontour\":[{\"type\":\"histogram2dcontour\",\"colorbar\":{\"outlinewidth\":0,\"ticks\":\"\"},\"colorscale\":[[0.0,\"#0d0887\"],[0.1111111111111111,\"#46039f\"],[0.2222222222222222,\"#7201a8\"],[0.3333333333333333,\"#9c179e\"],[0.4444444444444444,\"#bd3786\"],[0.5555555555555556,\"#d8576b\"],[0.6666666666666666,\"#ed7953\"],[0.7777777777777778,\"#fb9f3a\"],[0.8888888888888888,\"#fdca26\"],[1.0,\"#f0f921\"]]}],\"choropleth\":[{\"type\":\"choropleth\",\"colorbar\":{\"outlinewidth\":0,\"ticks\":\"\"}}],\"histogram2d\":[{\"type\":\"histogram2d\",\"colorbar\":{\"outlinewidth\":0,\"ticks\":\"\"},\"colorscale\":[[0.0,\"#0d0887\"],[0.1111111111111111,\"#46039f\"],[0.2222222222222222,\"#7201a8\"],[0.3333333333333333,\"#9c179e\"],[0.4444444444444444,\"#bd3786\"],[0.5555555555555556,\"#d8576b\"],[0.6666666666666666,\"#ed7953\"],[0.7777777777777778,\"#fb9f3a\"],[0.8888888888888888,\"#fdca26\"],[1.0,\"#f0f921\"]]}],\"heatmap\":[{\"type\":\"heatmap\",\"colorbar\":{\"outlinewidth\":0,\"ticks\":\"\"},\"colorscale\":[[0.0,\"#0d0887\"],[0.1111111111111111,\"#46039f\"],[0.2222222222222222,\"#7201a8\"],[0.3333333333333333,\"#9c179e\"],[0.4444444444444444,\"#bd3786\"],[0.5555555555555556,\"#d8576b\"],[0.6666666666666666,\"#ed7953\"],[0.7777777777777778,\"#fb9f3a\"],[0.8888888888888888,\"#fdca26\"],[1.0,\"#f0f921\"]]}],\"heatmapgl\":[{\"type\":\"heatmapgl\",\"colorbar\":{\"outlinewidth\":0,\"ticks\":\"\"},\"colorscale\":[[0.0,\"#0d0887\"],[0.1111111111111111,\"#46039f\"],[0.2222222222222222,\"#7201a8\"],[0.3333333333333333,\"#9c179e\"],[0.4444444444444444,\"#bd3786\"],[0.5555555555555556,\"#d8576b\"],[0.6666666666666666,\"#ed7953\"],[0.7777777777777778,\"#fb9f3a\"],[0.8888888888888888,\"#fdca26\"],[1.0,\"#f0f921\"]]}],\"contourcarpet\":[{\"type\":\"contourcarpet\",\"colorbar\":{\"outlinewidth\":0,\"ticks\":\"\"}}],\"contour\":[{\"type\":\"contour\",\"colorbar\":{\"outlinewidth\":0,\"ticks\":\"\"},\"colorscale\":[[0.0,\"#0d0887\"],[0.1111111111111111,\"#46039f\"],[0.2222222222222222,\"#7201a8\"],[0.3333333333333333,\"#9c179e\"],[0.4444444444444444,\"#bd3786\"],[0.5555555555555556,\"#d8576b\"],[0.6666666666666666,\"#ed7953\"],[0.7777777777777778,\"#fb9f3a\"],[0.8888888888888888,\"#fdca26\"],[1.0,\"#f0f921\"]]}],\"surface\":[{\"type\":\"surface\",\"colorbar\":{\"outlinewidth\":0,\"ticks\":\"\"},\"colorscale\":[[0.0,\"#0d0887\"],[0.1111111111111111,\"#46039f\"],[0.2222222222222222,\"#7201a8\"],[0.3333333333333333,\"#9c179e\"],[0.4444444444444444,\"#bd3786\"],[0.5555555555555556,\"#d8576b\"],[0.6666666666666666,\"#ed7953\"],[0.7777777777777778,\"#fb9f3a\"],[0.8888888888888888,\"#fdca26\"],[1.0,\"#f0f921\"]]}],\"mesh3d\":[{\"type\":\"mesh3d\",\"colorbar\":{\"outlinewidth\":0,\"ticks\":\"\"}}],\"scatter\":[{\"fillpattern\":{\"fillmode\":\"overlay\",\"size\":10,\"solidity\":0.2},\"type\":\"scatter\"}],\"parcoords\":[{\"type\":\"parcoords\",\"line\":{\"colorbar\":{\"outlinewidth\":0,\"ticks\":\"\"}}}],\"scatterpolargl\":[{\"type\":\"scatterpolargl\",\"marker\":{\"colorbar\":{\"outlinewidth\":0,\"ticks\":\"\"}}}],\"bar\":[{\"error_x\":{\"color\":\"#2a3f5f\"},\"error_y\":{\"color\":\"#2a3f5f\"},\"marker\":{\"line\":{\"color\":\"#E5ECF6\",\"width\":0.5},\"pattern\":{\"fillmode\":\"overlay\",\"size\":10,\"solidity\":0.2}},\"type\":\"bar\"}],\"scattergeo\":[{\"type\":\"scattergeo\",\"marker\":{\"colorbar\":{\"outlinewidth\":0,\"ticks\":\"\"}}}],\"scatterpolar\":[{\"type\":\"scatterpolar\",\"marker\":{\"colorbar\":{\"outlinewidth\":0,\"ticks\":\"\"}}}],\"histogram\":[{\"marker\":{\"pattern\":{\"fillmode\":\"overlay\",\"size\":10,\"solidity\":0.2}},\"type\":\"histogram\"}],\"scattergl\":[{\"type\":\"scattergl\",\"marker\":{\"colorbar\":{\"outlinewidth\":0,\"ticks\":\"\"}}}],\"scatter3d\":[{\"type\":\"scatter3d\",\"line\":{\"colorbar\":{\"outlinewidth\":0,\"ticks\":\"\"}},\"marker\":{\"colorbar\":{\"outlinewidth\":0,\"ticks\":\"\"}}}],\"scattermapbox\":[{\"type\":\"scattermapbox\",\"marker\":{\"colorbar\":{\"outlinewidth\":0,\"ticks\":\"\"}}}],\"scatterternary\":[{\"type\":\"scatterternary\",\"marker\":{\"colorbar\":{\"outlinewidth\":0,\"ticks\":\"\"}}}],\"scattercarpet\":[{\"type\":\"scattercarpet\",\"marker\":{\"colorbar\":{\"outlinewidth\":0,\"ticks\":\"\"}}}],\"carpet\":[{\"aaxis\":{\"endlinecolor\":\"#2a3f5f\",\"gridcolor\":\"white\",\"linecolor\":\"white\",\"minorgridcolor\":\"white\",\"startlinecolor\":\"#2a3f5f\"},\"baxis\":{\"endlinecolor\":\"#2a3f5f\",\"gridcolor\":\"white\",\"linecolor\":\"white\",\"minorgridcolor\":\"white\",\"startlinecolor\":\"#2a3f5f\"},\"type\":\"carpet\"}],\"table\":[{\"cells\":{\"fill\":{\"color\":\"#EBF0F8\"},\"line\":{\"color\":\"white\"}},\"header\":{\"fill\":{\"color\":\"#C8D4E3\"},\"line\":{\"color\":\"white\"}},\"type\":\"table\"}],\"barpolar\":[{\"marker\":{\"line\":{\"color\":\"#E5ECF6\",\"width\":0.5},\"pattern\":{\"fillmode\":\"overlay\",\"size\":10,\"solidity\":0.2}},\"type\":\"barpolar\"}],\"pie\":[{\"automargin\":true,\"type\":\"pie\"}]},\"layout\":{\"autotypenumbers\":\"strict\",\"colorway\":[\"#636efa\",\"#EF553B\",\"#00cc96\",\"#ab63fa\",\"#FFA15A\",\"#19d3f3\",\"#FF6692\",\"#B6E880\",\"#FF97FF\",\"#FECB52\"],\"font\":{\"color\":\"#2a3f5f\"},\"hovermode\":\"closest\",\"hoverlabel\":{\"align\":\"left\"},\"paper_bgcolor\":\"white\",\"plot_bgcolor\":\"#E5ECF6\",\"polar\":{\"bgcolor\":\"#E5ECF6\",\"angularaxis\":{\"gridcolor\":\"white\",\"linecolor\":\"white\",\"ticks\":\"\"},\"radialaxis\":{\"gridcolor\":\"white\",\"linecolor\":\"white\",\"ticks\":\"\"}},\"ternary\":{\"bgcolor\":\"#E5ECF6\",\"aaxis\":{\"gridcolor\":\"white\",\"linecolor\":\"white\",\"ticks\":\"\"},\"baxis\":{\"gridcolor\":\"white\",\"linecolor\":\"white\",\"ticks\":\"\"},\"caxis\":{\"gridcolor\":\"white\",\"linecolor\":\"white\",\"ticks\":\"\"}},\"coloraxis\":{\"colorbar\":{\"outlinewidth\":0,\"ticks\":\"\"}},\"colorscale\":{\"sequential\":[[0.0,\"#0d0887\"],[0.1111111111111111,\"#46039f\"],[0.2222222222222222,\"#7201a8\"],[0.3333333333333333,\"#9c179e\"],[0.4444444444444444,\"#bd3786\"],[0.5555555555555556,\"#d8576b\"],[0.6666666666666666,\"#ed7953\"],[0.7777777777777778,\"#fb9f3a\"],[0.8888888888888888,\"#fdca26\"],[1.0,\"#f0f921\"]],\"sequentialminus\":[[0.0,\"#0d0887\"],[0.1111111111111111,\"#46039f\"],[0.2222222222222222,\"#7201a8\"],[0.3333333333333333,\"#9c179e\"],[0.4444444444444444,\"#bd3786\"],[0.5555555555555556,\"#d8576b\"],[0.6666666666666666,\"#ed7953\"],[0.7777777777777778,\"#fb9f3a\"],[0.8888888888888888,\"#fdca26\"],[1.0,\"#f0f921\"]],\"diverging\":[[0,\"#8e0152\"],[0.1,\"#c51b7d\"],[0.2,\"#de77ae\"],[0.3,\"#f1b6da\"],[0.4,\"#fde0ef\"],[0.5,\"#f7f7f7\"],[0.6,\"#e6f5d0\"],[0.7,\"#b8e186\"],[0.8,\"#7fbc41\"],[0.9,\"#4d9221\"],[1,\"#276419\"]]},\"xaxis\":{\"gridcolor\":\"white\",\"linecolor\":\"white\",\"ticks\":\"\",\"title\":{\"standoff\":15},\"zerolinecolor\":\"white\",\"automargin\":true,\"zerolinewidth\":2},\"yaxis\":{\"gridcolor\":\"white\",\"linecolor\":\"white\",\"ticks\":\"\",\"title\":{\"standoff\":15},\"zerolinecolor\":\"white\",\"automargin\":true,\"zerolinewidth\":2},\"scene\":{\"xaxis\":{\"backgroundcolor\":\"#E5ECF6\",\"gridcolor\":\"white\",\"linecolor\":\"white\",\"showbackground\":true,\"ticks\":\"\",\"zerolinecolor\":\"white\",\"gridwidth\":2},\"yaxis\":{\"backgroundcolor\":\"#E5ECF6\",\"gridcolor\":\"white\",\"linecolor\":\"white\",\"showbackground\":true,\"ticks\":\"\",\"zerolinecolor\":\"white\",\"gridwidth\":2},\"zaxis\":{\"backgroundcolor\":\"#E5ECF6\",\"gridcolor\":\"white\",\"linecolor\":\"white\",\"showbackground\":true,\"ticks\":\"\",\"zerolinecolor\":\"white\",\"gridwidth\":2}},\"shapedefaults\":{\"line\":{\"color\":\"#2a3f5f\"}},\"annotationdefaults\":{\"arrowcolor\":\"#2a3f5f\",\"arrowhead\":0,\"arrowwidth\":1},\"geo\":{\"bgcolor\":\"white\",\"landcolor\":\"#E5ECF6\",\"subunitcolor\":\"white\",\"showland\":true,\"showlakes\":true,\"lakecolor\":\"white\"},\"title\":{\"x\":0.05},\"mapbox\":{\"style\":\"light\"}}},\"xaxis\":{\"anchor\":\"y\",\"domain\":[0.0,1.0]},\"yaxis\":{\"anchor\":\"x\",\"domain\":[0.0,0.375]},\"annotations\":[{\"font\":{\"size\":16},\"showarrow\":false,\"text\":\"\\u003cb\\u003eSales Distribution\\u003c\\u002fb\\u003e\",\"x\":0.225,\"xanchor\":\"center\",\"xref\":\"paper\",\"y\":1.0,\"yanchor\":\"bottom\",\"yref\":\"paper\"},{\"font\":{\"size\":16},\"showarrow\":false,\"text\":\"\\u003cb\\u003eRevenue Contribution\\u003c\\u002fb\\u003e\",\"x\":0.775,\"xanchor\":\"center\",\"xref\":\"paper\",\"y\":1.0,\"yanchor\":\"bottom\",\"yref\":\"paper\"},{\"font\":{\"size\":16},\"showarrow\":false,\"text\":\"\\u003cb\\u003eDiscount Impact Analysis\\u003c\\u002fb\\u003e\",\"x\":0.5,\"xanchor\":\"center\",\"xref\":\"paper\",\"y\":0.375,\"yanchor\":\"bottom\",\"yref\":\"paper\"}],\"title\":{\"text\":\"\\u003cb\\u003eProduct Performance Dashboard\\u003c\\u002fb\\u003e\"},\"height\":1000,\"showlegend\":false},                        {\"responsive\": true}                    ).then(function(){\n",
       "                            \n",
       "var gd = document.getElementById('f4564abf-eddf-4118-bb36-e90c91da3b4a');\n",
       "var x = new MutationObserver(function (mutations, observer) {{\n",
       "        var display = window.getComputedStyle(gd).display;\n",
       "        if (!display || display === 'none') {{\n",
       "            console.log([gd, 'removed!']);\n",
       "            Plotly.purge(gd);\n",
       "            observer.disconnect();\n",
       "        }}\n",
       "}});\n",
       "\n",
       "// Listen for the removal of the full notebook cells\n",
       "var notebookContainer = gd.closest('#notebook-container');\n",
       "if (notebookContainer) {{\n",
       "    x.observe(notebookContainer, {childList: true});\n",
       "}}\n",
       "\n",
       "// Listen for the clearing of the current output cell\n",
       "var outputEl = gd.closest('.output');\n",
       "if (outputEl) {{\n",
       "    x.observe(outputEl, {childList: true});\n",
       "}}\n",
       "\n",
       "                        })                };                });            </script>        </div>"
      ]
     },
     "metadata": {},
     "output_type": "display_data"
    }
   ],
   "source": [
    "product_perf = df.groupby(['Category', 'ProductName']).agg(\n",
    "    TotalSales=('Quantity', 'sum'),\n",
    "    TotalRevenue=('TotalValue', 'sum'),\n",
    "    AvgDiscount=('Price_y', lambda x: ((x.mean() - df['Price_x'].mean())/x.mean())*100)\n",
    ").reset_index()\n",
    "\n",
    "fig = make_subplots(rows=2, cols=2,\n",
    "                   specs=[[{\"type\": \"sunburst\"}, {\"type\": \"treemap\"}],\n",
    "                         [{\"type\": \"bar\", \"colspan\": 2}, None]],\n",
    "                   subplot_titles=(\"<b>Sales Distribution</b>\", \n",
    "                                  \"<b>Revenue Contribution</b>\", \n",
    "                                  \"<b>Discount Impact Analysis</b>\"))\n",
    "\n",
    "# Sunburst Chart\n",
    "fig.add_trace(px.sunburst(product_perf, \n",
    "                         path=['Category', 'ProductName'], \n",
    "                         values='TotalSales').data[0],\n",
    "             row=1, col=1)\n",
    "\n",
    "# Treemap\n",
    "fig.add_trace(px.treemap(product_perf,\n",
    "                        path=['Category', 'ProductName'],\n",
    "                        values='TotalRevenue',\n",
    "                        color='AvgDiscount',\n",
    "                        color_continuous_scale='RdYlGn_r').data[0],\n",
    "             row=1, col=2)\n",
    "\n",
    "# Bar Chart\n",
    "fig.add_trace(go.Bar(x=product_perf.groupby('Category')['AvgDiscount'].mean().index,\n",
    "                    y=product_perf.groupby('Category')['AvgDiscount'].mean().values,\n",
    "                    marker=dict(color=product_perf.groupby('Category')['TotalRevenue'].sum().values,\n",
    "                              colorscale='Viridis')),\n",
    "             row=2, col=1)\n",
    "\n",
    "fig.update_layout(height=1000, \n",
    "                 title_text=\"<b>Product Performance Dashboard</b>\", \n",
    "                 showlegend=False)\n",
    "fig.show()"
   ]
  }
 ],
 "metadata": {
  "kernelspec": {
   "display_name": "venv",
   "language": "python",
   "name": "python3"
  },
  "language_info": {
   "codemirror_mode": {
    "name": "ipython",
    "version": 3
   },
   "file_extension": ".py",
   "mimetype": "text/x-python",
   "name": "python",
   "nbconvert_exporter": "python",
   "pygments_lexer": "ipython3",
   "version": "3.8.19"
  }
 },
 "nbformat": 4,
 "nbformat_minor": 2
}
