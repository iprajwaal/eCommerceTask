{
 "cells": [
  {
   "cell_type": "code",
   "execution_count": 1,
   "metadata": {},
   "outputs": [],
   "source": [
    "import os\n",
    "import pandas as pd\n",
    "import numpy as np\n",
    "from datetime import datetime\n",
    "from sklearn.preprocessing import StandardScaler, OneHotEncoder\n",
    "from sklearn.compose import ColumnTransformer\n",
    "from sklearn.pipeline import Pipeline\n",
    "from sklearn.cluster import KMeans\n",
    "from sklearn.metrics import davies_bouldin_score, silhouette_score, calinski_harabasz_score\n",
    "from sklearn.decomposition import PCA\n",
    "import matplotlib.pyplot as plt"
   ]
  },
  {
   "cell_type": "code",
   "execution_count": 2,
   "metadata": {},
   "outputs": [],
   "source": [
    "os.chdir('/Users/prajwal/Developer/assessment')"
   ]
  },
  {
   "cell_type": "code",
   "execution_count": 3,
   "metadata": {},
   "outputs": [],
   "source": [
    "# Load datasets\n",
    "customers = pd.read_csv(\"Zeotap/Data/Customers.csv\")\n",
    "products = pd.read_csv(\"Zeotap/Data/Products.csv\")\n",
    "transactions = pd.read_csv(\"Zeotap/Data/Transactions.csv\")"
   ]
  },
  {
   "cell_type": "code",
   "execution_count": 4,
   "metadata": {},
   "outputs": [
    {
     "name": "stdout",
     "output_type": "stream",
     "text": [
      "<class 'pandas.core.frame.DataFrame'>\n",
      "RangeIndex: 200 entries, 0 to 199\n",
      "Data columns (total 4 columns):\n",
      " #   Column        Non-Null Count  Dtype \n",
      "---  ------        --------------  ----- \n",
      " 0   CustomerID    200 non-null    object\n",
      " 1   CustomerName  200 non-null    object\n",
      " 2   Region        200 non-null    object\n",
      " 3   SignupDate    200 non-null    object\n",
      "dtypes: object(4)\n",
      "memory usage: 6.4+ KB\n",
      "<class 'pandas.core.frame.DataFrame'>\n",
      "RangeIndex: 100 entries, 0 to 99\n",
      "Data columns (total 4 columns):\n",
      " #   Column       Non-Null Count  Dtype  \n",
      "---  ------       --------------  -----  \n",
      " 0   ProductID    100 non-null    object \n",
      " 1   ProductName  100 non-null    object \n",
      " 2   Category     100 non-null    object \n",
      " 3   Price        100 non-null    float64\n",
      "dtypes: float64(1), object(3)\n",
      "memory usage: 3.2+ KB\n",
      "<class 'pandas.core.frame.DataFrame'>\n",
      "RangeIndex: 1000 entries, 0 to 999\n",
      "Data columns (total 7 columns):\n",
      " #   Column           Non-Null Count  Dtype  \n",
      "---  ------           --------------  -----  \n",
      " 0   TransactionID    1000 non-null   object \n",
      " 1   CustomerID       1000 non-null   object \n",
      " 2   ProductID        1000 non-null   object \n",
      " 3   TransactionDate  1000 non-null   object \n",
      " 4   Quantity         1000 non-null   int64  \n",
      " 5   TotalValue       1000 non-null   float64\n",
      " 6   Price            1000 non-null   float64\n",
      "dtypes: float64(2), int64(1), object(4)\n",
      "memory usage: 54.8+ KB\n"
     ]
    }
   ],
   "source": [
    "# Display's the information of the datasets\n",
    "customers.info()\n",
    "products.info()\n",
    "transactions.info()"
   ]
  },
  {
   "cell_type": "code",
   "execution_count": 5,
   "metadata": {},
   "outputs": [],
   "source": [
    "# Convert dates to datetime\n",
    "customers['SignupDate'] = pd.to_datetime(customers['SignupDate'])\n",
    "transactions['TransactionDate'] = pd.to_datetime(transactions['TransactionDate'])"
   ]
  },
  {
   "cell_type": "code",
   "execution_count": 6,
   "metadata": {},
   "outputs": [],
   "source": [
    "# Determine analysis date (latest transaction date)\n",
    "analysis_date = transactions['TransactionDate'].max()\n",
    "\n",
    "# Process Customers: compute Tenure\n",
    "customers['Tenure'] = (analysis_date - customers['SignupDate']).dt.days\n",
    "\n",
    "# One-hot encode Region\n",
    "customers_encoded = pd.get_dummies(customers, columns=['Region'], prefix='Region')\n",
    "\n",
    "# Merge Transactions with Products to get Category\n",
    "transactions = pd.merge(transactions, products[['ProductID', 'Category']], on='ProductID', how='left')"
   ]
  },
  {
   "cell_type": "code",
   "execution_count": 7,
   "metadata": {},
   "outputs": [
    {
     "name": "stdout",
     "output_type": "stream",
     "text": [
      "<class 'pandas.core.frame.DataFrame'>\n",
      "RangeIndex: 1000 entries, 0 to 999\n",
      "Data columns (total 8 columns):\n",
      " #   Column           Non-Null Count  Dtype         \n",
      "---  ------           --------------  -----         \n",
      " 0   TransactionID    1000 non-null   object        \n",
      " 1   CustomerID       1000 non-null   object        \n",
      " 2   ProductID        1000 non-null   object        \n",
      " 3   TransactionDate  1000 non-null   datetime64[ns]\n",
      " 4   Quantity         1000 non-null   int64         \n",
      " 5   TotalValue       1000 non-null   float64       \n",
      " 6   Price            1000 non-null   float64       \n",
      " 7   Category         1000 non-null   object        \n",
      "dtypes: datetime64[ns](1), float64(2), int64(1), object(4)\n",
      "memory usage: 62.6+ KB\n"
     ]
    }
   ],
   "source": [
    "transactions.info()"
   ]
  },
  {
   "cell_type": "code",
   "execution_count": 8,
   "metadata": {},
   "outputs": [],
   "source": [
    "# Aggregate transaction data per CustomerID\n",
    "agg_transactions = transactions.groupby('CustomerID').agg(\n",
    "    TotalTransactions=('TransactionID', 'count'),\n",
    "    TotalQuantity=('Quantity', 'sum'),\n",
    "    TotalSpent=('TotalValue', 'sum'),\n",
    "    UniqueCategories=('Category', 'nunique'),\n",
    "    last_purchase_date=('TransactionDate', 'max')\n",
    ").reset_index()\n",
    "\n",
    "agg_transactions['Recency'] = (analysis_date - agg_transactions['last_purchase_date']).dt.days\n",
    "agg_transactions['AvgTransactionValue'] = agg_transactions['TotalSpent'] / agg_transactions['TotalTransactions']"
   ]
  },
  {
   "cell_type": "code",
   "execution_count": 9,
   "metadata": {},
   "outputs": [
    {
     "data": {
      "text/html": [
       "<div>\n",
       "<style scoped>\n",
       "    .dataframe tbody tr th:only-of-type {\n",
       "        vertical-align: middle;\n",
       "    }\n",
       "\n",
       "    .dataframe tbody tr th {\n",
       "        vertical-align: top;\n",
       "    }\n",
       "\n",
       "    .dataframe thead th {\n",
       "        text-align: right;\n",
       "    }\n",
       "</style>\n",
       "<table border=\"1\" class=\"dataframe\">\n",
       "  <thead>\n",
       "    <tr style=\"text-align: right;\">\n",
       "      <th></th>\n",
       "      <th>CustomerID</th>\n",
       "      <th>TotalTransactions</th>\n",
       "      <th>TotalQuantity</th>\n",
       "      <th>TotalSpent</th>\n",
       "      <th>UniqueCategories</th>\n",
       "      <th>last_purchase_date</th>\n",
       "      <th>Recency</th>\n",
       "      <th>AvgTransactionValue</th>\n",
       "    </tr>\n",
       "  </thead>\n",
       "  <tbody>\n",
       "    <tr>\n",
       "      <th>0</th>\n",
       "      <td>C0001</td>\n",
       "      <td>5</td>\n",
       "      <td>12</td>\n",
       "      <td>3354.52</td>\n",
       "      <td>3</td>\n",
       "      <td>2024-11-02 17:04:16</td>\n",
       "      <td>55</td>\n",
       "      <td>670.904</td>\n",
       "    </tr>\n",
       "    <tr>\n",
       "      <th>1</th>\n",
       "      <td>C0002</td>\n",
       "      <td>4</td>\n",
       "      <td>10</td>\n",
       "      <td>1862.74</td>\n",
       "      <td>2</td>\n",
       "      <td>2024-12-03 01:41:41</td>\n",
       "      <td>25</td>\n",
       "      <td>465.685</td>\n",
       "    </tr>\n",
       "    <tr>\n",
       "      <th>2</th>\n",
       "      <td>C0003</td>\n",
       "      <td>4</td>\n",
       "      <td>14</td>\n",
       "      <td>2725.38</td>\n",
       "      <td>3</td>\n",
       "      <td>2024-08-24 18:54:04</td>\n",
       "      <td>125</td>\n",
       "      <td>681.345</td>\n",
       "    </tr>\n",
       "    <tr>\n",
       "      <th>3</th>\n",
       "      <td>C0004</td>\n",
       "      <td>8</td>\n",
       "      <td>23</td>\n",
       "      <td>5354.88</td>\n",
       "      <td>3</td>\n",
       "      <td>2024-12-23 14:13:52</td>\n",
       "      <td>4</td>\n",
       "      <td>669.360</td>\n",
       "    </tr>\n",
       "    <tr>\n",
       "      <th>4</th>\n",
       "      <td>C0005</td>\n",
       "      <td>3</td>\n",
       "      <td>7</td>\n",
       "      <td>2034.24</td>\n",
       "      <td>2</td>\n",
       "      <td>2024-11-04 00:30:22</td>\n",
       "      <td>54</td>\n",
       "      <td>678.080</td>\n",
       "    </tr>\n",
       "  </tbody>\n",
       "</table>\n",
       "</div>"
      ],
      "text/plain": [
       "  CustomerID  TotalTransactions  TotalQuantity  TotalSpent  UniqueCategories  \\\n",
       "0      C0001                  5             12     3354.52                 3   \n",
       "1      C0002                  4             10     1862.74                 2   \n",
       "2      C0003                  4             14     2725.38                 3   \n",
       "3      C0004                  8             23     5354.88                 3   \n",
       "4      C0005                  3              7     2034.24                 2   \n",
       "\n",
       "   last_purchase_date  Recency  AvgTransactionValue  \n",
       "0 2024-11-02 17:04:16       55              670.904  \n",
       "1 2024-12-03 01:41:41       25              465.685  \n",
       "2 2024-08-24 18:54:04      125              681.345  \n",
       "3 2024-12-23 14:13:52        4              669.360  \n",
       "4 2024-11-04 00:30:22       54              678.080  "
      ]
     },
     "execution_count": 9,
     "metadata": {},
     "output_type": "execute_result"
    }
   ],
   "source": [
    "agg_transactions.head()"
   ]
  },
  {
   "cell_type": "code",
   "execution_count": 10,
   "metadata": {},
   "outputs": [],
   "source": [
    "# Compute Frequency\n",
    "def calculate_frequency(group):\n",
    "    if len(group) < 2:\n",
    "        return 0\n",
    "    else:\n",
    "        sorted_dates = group.sort_values('TransactionDate')['TransactionDate']\n",
    "        deltas = sorted_dates.diff().dt.days.dropna()\n",
    "        return deltas.mean()\n",
    "\n",
    "frequency = transactions.groupby('CustomerID').apply(calculate_frequency).reset_index(name='Frequency')"
   ]
  },
  {
   "cell_type": "code",
   "execution_count": 11,
   "metadata": {},
   "outputs": [
    {
     "data": {
      "text/html": [
       "<div>\n",
       "<style scoped>\n",
       "    .dataframe tbody tr th:only-of-type {\n",
       "        vertical-align: middle;\n",
       "    }\n",
       "\n",
       "    .dataframe tbody tr th {\n",
       "        vertical-align: top;\n",
       "    }\n",
       "\n",
       "    .dataframe thead th {\n",
       "        text-align: right;\n",
       "    }\n",
       "</style>\n",
       "<table border=\"1\" class=\"dataframe\">\n",
       "  <thead>\n",
       "    <tr style=\"text-align: right;\">\n",
       "      <th></th>\n",
       "      <th>CustomerID</th>\n",
       "      <th>Frequency</th>\n",
       "    </tr>\n",
       "  </thead>\n",
       "  <tbody>\n",
       "    <tr>\n",
       "      <th>0</th>\n",
       "      <td>C0001</td>\n",
       "      <td>71.750000</td>\n",
       "    </tr>\n",
       "    <tr>\n",
       "      <th>1</th>\n",
       "      <td>C0002</td>\n",
       "      <td>92.333333</td>\n",
       "    </tr>\n",
       "    <tr>\n",
       "      <th>2</th>\n",
       "      <td>C0003</td>\n",
       "      <td>62.333333</td>\n",
       "    </tr>\n",
       "    <tr>\n",
       "      <th>3</th>\n",
       "      <td>C0004</td>\n",
       "      <td>42.142857</td>\n",
       "    </tr>\n",
       "    <tr>\n",
       "      <th>4</th>\n",
       "      <td>C0005</td>\n",
       "      <td>116.500000</td>\n",
       "    </tr>\n",
       "  </tbody>\n",
       "</table>\n",
       "</div>"
      ],
      "text/plain": [
       "  CustomerID   Frequency\n",
       "0      C0001   71.750000\n",
       "1      C0002   92.333333\n",
       "2      C0003   62.333333\n",
       "3      C0004   42.142857\n",
       "4      C0005  116.500000"
      ]
     },
     "execution_count": 11,
     "metadata": {},
     "output_type": "execute_result"
    }
   ],
   "source": [
    "frequency.head()"
   ]
  },
  {
   "cell_type": "code",
   "execution_count": 12,
   "metadata": {},
   "outputs": [],
   "source": [
    "# Merge frequency into agg_transactions\n",
    "agg_transactions = pd.merge(agg_transactions, frequency, on='CustomerID', how='left')\n",
    "\n",
    "# Merge with customers_encoded\n",
    "merged_df = pd.merge(customers_encoded, agg_transactions, on='CustomerID', how='left')\n",
    "\n",
    "# Fill NaN values for customers with no transactions\n",
    "merged_df['TotalTransactions'] = merged_df['TotalTransactions'].fillna(0)\n",
    "merged_df['TotalQuantity'] = merged_df['TotalQuantity'].fillna(0)\n",
    "merged_df['TotalSpent'] = merged_df['TotalSpent'].fillna(0)\n",
    "merged_df['UniqueCategories'] = merged_df['UniqueCategories'].fillna(0)\n",
    "merged_df['Recency'] = merged_df['Recency'].fillna(9999)  # 9999 indicates no purchases\n",
    "merged_df['AvgTransactionValue'] = merged_df['AvgTransactionValue'].fillna(0)\n",
    "merged_df['Frequency'] = merged_df['Frequency'].fillna(0)"
   ]
  },
  {
   "cell_type": "code",
   "execution_count": 13,
   "metadata": {},
   "outputs": [],
   "source": [
    "# Drop unnecessary columns\n",
    "merged_df.drop(columns=['CustomerID', 'CustomerName', 'SignupDate', 'last_purchase_date'], inplace=True)"
   ]
  },
  {
   "cell_type": "code",
   "execution_count": 14,
   "metadata": {},
   "outputs": [],
   "source": [
    "# Prepare features for clustering\n",
    "X = merged_df.copy()\n",
    "\n",
    "# Scale the features\n",
    "scaler = StandardScaler()\n",
    "X_scaled = scaler.fit_transform(X)\n"
   ]
  },
  {
   "cell_type": "code",
   "execution_count": 15,
   "metadata": {},
   "outputs": [
    {
     "name": "stderr",
     "output_type": "stream",
     "text": [
      "/Users/prajwal/Developer/assessment/venv/lib/python3.8/site-packages/sklearn/cluster/_kmeans.py:1416: FutureWarning: The default value of `n_init` will change from 10 to 'auto' in 1.4. Set the value of `n_init` explicitly to suppress the warning\n",
      "  super()._check_params_vs_input(X, default_n_init=10)\n",
      "/Users/prajwal/Developer/assessment/venv/lib/python3.8/site-packages/sklearn/cluster/_kmeans.py:1416: FutureWarning: The default value of `n_init` will change from 10 to 'auto' in 1.4. Set the value of `n_init` explicitly to suppress the warning\n",
      "  super()._check_params_vs_input(X, default_n_init=10)\n",
      "/Users/prajwal/Developer/assessment/venv/lib/python3.8/site-packages/sklearn/cluster/_kmeans.py:1416: FutureWarning: The default value of `n_init` will change from 10 to 'auto' in 1.4. Set the value of `n_init` explicitly to suppress the warning\n",
      "  super()._check_params_vs_input(X, default_n_init=10)\n",
      "/Users/prajwal/Developer/assessment/venv/lib/python3.8/site-packages/sklearn/cluster/_kmeans.py:1416: FutureWarning: The default value of `n_init` will change from 10 to 'auto' in 1.4. Set the value of `n_init` explicitly to suppress the warning\n",
      "  super()._check_params_vs_input(X, default_n_init=10)\n",
      "/Users/prajwal/Developer/assessment/venv/lib/python3.8/site-packages/sklearn/cluster/_kmeans.py:1416: FutureWarning: The default value of `n_init` will change from 10 to 'auto' in 1.4. Set the value of `n_init` explicitly to suppress the warning\n",
      "  super()._check_params_vs_input(X, default_n_init=10)\n",
      "/Users/prajwal/Developer/assessment/venv/lib/python3.8/site-packages/sklearn/cluster/_kmeans.py:1416: FutureWarning: The default value of `n_init` will change from 10 to 'auto' in 1.4. Set the value of `n_init` explicitly to suppress the warning\n",
      "  super()._check_params_vs_input(X, default_n_init=10)\n",
      "/Users/prajwal/Developer/assessment/venv/lib/python3.8/site-packages/sklearn/cluster/_kmeans.py:1416: FutureWarning: The default value of `n_init` will change from 10 to 'auto' in 1.4. Set the value of `n_init` explicitly to suppress the warning\n",
      "  super()._check_params_vs_input(X, default_n_init=10)\n",
      "/Users/prajwal/Developer/assessment/venv/lib/python3.8/site-packages/sklearn/cluster/_kmeans.py:1416: FutureWarning: The default value of `n_init` will change from 10 to 'auto' in 1.4. Set the value of `n_init` explicitly to suppress the warning\n",
      "  super()._check_params_vs_input(X, default_n_init=10)\n",
      "/Users/prajwal/Developer/assessment/venv/lib/python3.8/site-packages/sklearn/cluster/_kmeans.py:1416: FutureWarning: The default value of `n_init` will change from 10 to 'auto' in 1.4. Set the value of `n_init` explicitly to suppress the warning\n",
      "  super()._check_params_vs_input(X, default_n_init=10)\n"
     ]
    }
   ],
   "source": [
    "# Determine optimal number of clusters using DB Index\n",
    "db_scores = []\n",
    "silhouette_scores = []\n",
    "calinski_scores = []\n",
    "cluster_range = range(2, 11)\n",
    "\n",
    "for n_clusters in cluster_range:\n",
    "    kmeans = KMeans(n_clusters=n_clusters, random_state=42)\n",
    "    labels = kmeans.fit_predict(X_scaled)\n",
    "    db_scores.append(davies_bouldin_score(X_scaled, labels))\n",
    "    silhouette_scores.append(silhouette_score(X_scaled, labels))\n",
    "    calinski_scores.append(calinski_harabasz_score(X_scaled, labels))"
   ]
  },
  {
   "cell_type": "code",
   "execution_count": 16,
   "metadata": {},
   "outputs": [],
   "source": [
    "# Find the optimal number of clusters with the lowest DB Index\n",
    "optimal_clusters = cluster_range[np.argmin(db_scores)]"
   ]
  },
  {
   "cell_type": "code",
   "execution_count": 17,
   "metadata": {},
   "outputs": [],
   "source": [
    "# Add cluster labels to the dataframe\n",
    "merged_df['Cluster'] = labels"
   ]
  },
  {
   "cell_type": "code",
   "execution_count": 18,
   "metadata": {},
   "outputs": [
    {
     "name": "stderr",
     "output_type": "stream",
     "text": [
      "/Users/prajwal/Developer/assessment/venv/lib/python3.8/site-packages/sklearn/cluster/_kmeans.py:1416: FutureWarning: The default value of `n_init` will change from 10 to 'auto' in 1.4. Set the value of `n_init` explicitly to suppress the warning\n",
      "  super()._check_params_vs_input(X, default_n_init=10)\n"
     ]
    }
   ],
   "source": [
    "# Train final model with optimal clusters\n",
    "kmeans = KMeans(n_clusters=optimal_clusters, random_state=42)\n",
    "labels = kmeans.fit_predict(X_scaled)"
   ]
  },
  {
   "cell_type": "code",
   "execution_count": 19,
   "metadata": {},
   "outputs": [],
   "source": [
    "# Visualize clusters using PCA\n",
    "pca = PCA(n_components=2)\n",
    "X_pca = pca.fit_transform(X_scaled)"
   ]
  },
  {
   "cell_type": "code",
   "execution_count": 20,
   "metadata": {},
   "outputs": [
    {
     "data": {
      "image/png": "[encoded data removed]",
      "text/plain": [
       "<Figure size 1000x600 with 2 Axes>"
      ]
     },
     "metadata": {},
     "output_type": "display_data"
    }
   ],
   "source": [
    "plt.figure(figsize=(10, 6))\n",
    "scatter = plt.scatter(X_pca[:, 0], X_pca[:, 1], c=labels, cmap='viridis', alpha=0.6)\n",
    "plt.title(f'Customer Clusters (PCA) - {optimal_clusters} Clusters')\n",
    "plt.xlabel('PCA Component 1')\n",
    "plt.ylabel('PCA Component 2')\n",
    "plt.colorbar(scatter, label='Cluster')\n",
    "plt.show()"
   ]
  },
  {
   "cell_type": "code",
   "execution_count": 21,
   "metadata": {},
   "outputs": [
    {
     "name": "stdout",
     "output_type": "stream",
     "text": [
      "Optimal number of clusters: 9\n",
      "Davies-Bouldin Index: 1.07917817930923\n",
      "Silhouette Score: 0.2856006167104722\n",
      "Calinski-Harabasz Score: 41.77026505893966\n",
      "\n",
      "Cluster Characteristics:\n",
      "             Tenure  Region_Asia  Region_Europe  Region_North America  \\\n",
      "Cluster                                                                 \n",
      "0        274.583333     0.333333       0.083333              0.333333   \n",
      "1        622.294118     0.000000       0.000000              0.000000   \n",
      "2        587.909091     1.000000       0.000000              0.000000   \n",
      "3        675.913043     0.000000       1.000000              0.000000   \n",
      "4        448.807692     0.000000       1.000000              0.000000   \n",
      "5        348.136364     0.000000       0.000000              1.000000   \n",
      "6        430.000000     1.000000       0.000000              0.000000   \n",
      "7        510.500000     1.000000       0.000000              0.000000   \n",
      "8        575.272727     0.000000       0.000000              0.000000   \n",
      "9        549.650000     0.000000       0.000000              1.000000   \n",
      "\n",
      "         Region_South America  TotalTransactions  TotalQuantity   TotalSpent  \\\n",
      "Cluster                                                                        \n",
      "0                        0.25           1.083333       2.833333   630.274167   \n",
      "1                        1.00           6.382353      17.147059  4940.093235   \n",
      "2                        0.00           3.590909       8.954545  2371.077273   \n",
      "3                        0.00           3.565217       7.956522  1959.874348   \n",
      "4                        0.00           5.807692      15.769231  4648.417692   \n",
      "5                        0.00           7.272727      17.090909  4431.523182   \n",
      "6                        0.00           0.000000       0.000000     0.000000   \n",
      "7                        0.00           7.500000      19.611111  5379.353889   \n",
      "8                        1.00           3.818182       9.000000  2271.987727   \n",
      "9                        0.00           3.950000      10.150000  2603.191000   \n",
      "\n",
      "         UniqueCategories      Recency  AvgTransactionValue  Frequency  \n",
      "Cluster                                                                 \n",
      "0                1.083333   235.083333           575.912500   0.833333  \n",
      "1                3.235294    47.735294           792.786411  50.568207  \n",
      "2                2.272727    60.136364           677.269470  84.431818  \n",
      "3                2.217391    75.782609           572.950688  83.850000  \n",
      "4                3.500000    64.500000           819.943629  52.879838  \n",
      "5                3.545455    67.090909           625.091703  41.166306  \n",
      "6                0.000000  9999.000000             0.000000   0.000000  \n",
      "7                3.722222    58.444444           736.287599  43.981702  \n",
      "8                2.500000    75.045455           589.953992  89.170455  \n",
      "9                2.600000    66.900000           679.112883  93.575000  \n"
     ]
    }
   ],
   "source": [
    "# Report the metrics and cluster characteristics\n",
    "cluster_report = merged_df.groupby('Cluster').mean()\n",
    "\n",
    "print(f\"Optimal number of clusters: {optimal_clusters}\")\n",
    "print(f\"Davies-Bouldin Index: {db_scores[optimal_clusters - 2]}\")\n",
    "print(f\"Silhouette Score: {silhouette_scores[optimal_clusters - 2]}\")\n",
    "print(f\"Calinski-Harabasz Score: {calinski_scores[optimal_clusters - 2]}\")\n",
    "print(\"\\nCluster Characteristics:\")\n",
    "print(cluster_report)"
   ]
  }
 ],
 "metadata": {
  "kernelspec": {
   "display_name": "venv",
   "language": "python",
   "name": "python3"
  },
  "language_info": {
   "codemirror_mode": {
    "name": "ipython",
    "version": 3
   },
   "file_extension": ".py",
   "mimetype": "text/x-python",
   "name": "python",
   "nbconvert_exporter": "python",
   "pygments_lexer": "ipython3",
   "version": "3.8.19"
  }
 },
 "nbformat": 4,
 "nbformat_minor": 2
}
